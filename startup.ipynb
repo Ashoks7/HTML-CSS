{
  "nbformat": 4,
  "nbformat_minor": 0,
  "metadata": {
    "colab": {
      "provenance": [],
      "authorship_tag": "ABX9TyPlhitHM0597z4Pf8FJbXVg",
      "include_colab_link": true
    },
    "kernelspec": {
      "name": "python3",
      "display_name": "Python 3"
    },
    "language_info": {
      "name": "python"
    }
  },
  "cells": [
    {
      "cell_type": "markdown",
      "metadata": {
        "id": "view-in-github",
        "colab_type": "text"
      },
      "source": [
        "<a href=\"https://colab.research.google.com/github/Ashoks7/HTML-CSS/blob/master/startup.ipynb\" target=\"_parent\"><img src=\"https://colab.research.google.com/assets/colab-badge.svg\" alt=\"Open In Colab\"/></a>"
      ]
    },
    {
      "cell_type": "markdown",
      "source": [
        "# **startup's successrate comparison**\n",
        "\n",
        "> jan 27, 2023\n",
        "\n"
      ],
      "metadata": {
        "id": "ea8Fk2qY4gut"
      }
    },
    {
      "cell_type": "code",
      "execution_count": 1,
      "metadata": {
        "id": "pBYwcohQtmwZ"
      },
      "outputs": [],
      "source": [
        "import pandas as pd\n",
        "import numpy as np\n",
        "import plotly.express as px\n",
        "import matplotlib.pyplot as plt\n",
        "import plotly.graph_objects as go\n",
        "import datetime as dt\n"
      ]
    },
    {
      "cell_type": "code",
      "source": [
        "startup_df = pd.read_csv(\"/content/big_startup_secsees_dataset.csv\")\n",
        "startup_df.head(5)"
      ],
      "metadata": {
        "colab": {
          "base_uri": "https://localhost:8080/",
          "height": 409
        },
        "id": "B4F9sh556dmc",
        "outputId": "feb059b1-3504-4f25-bb96-f6f9e5d83c41"
      },
      "execution_count": 3,
      "outputs": [
        {
          "output_type": "execute_result",
          "data": {
            "text/plain": [
              "                             permalink                    name  \\\n",
              "0                  /organization/-fame                   #fame   \n",
              "1               /organization/-qounter                :Qounter   \n",
              "2  /organization/-the-one-of-them-inc-  (THE) ONE of THEM,Inc.   \n",
              "3                /organization/0-6-com                 0-6.com   \n",
              "4       /organization/004-technologies        004 Technologies   \n",
              "\n",
              "                        homepage_url  \\\n",
              "0                 http://livfame.com   \n",
              "1             http://www.qounter.com   \n",
              "2                http://oneofthem.jp   \n",
              "3                 http://www.0-6.com   \n",
              "4  http://004gmbh.de/en/004-interact   \n",
              "\n",
              "                                       category_list funding_total_usd  \\\n",
              "0                                              Media          10000000   \n",
              "1  Application Platforms|Real Time|Social Network...            700000   \n",
              "2                                  Apps|Games|Mobile           3406878   \n",
              "3                                        Curated Web           2000000   \n",
              "4                                           Software                 -   \n",
              "\n",
              "      status country_code state_code                 region           city  \\\n",
              "0  operating          IND         16                 Mumbai         Mumbai   \n",
              "1  operating          USA         DE             DE - Other  Delaware City   \n",
              "2  operating          NaN        NaN                    NaN            NaN   \n",
              "3  operating          CHN         22                Beijing        Beijing   \n",
              "4  operating          USA         IL  Springfield, Illinois      Champaign   \n",
              "\n",
              "   funding_rounds  founded_at first_funding_at last_funding_at  \n",
              "0               1         NaN       2015-01-05      2015-01-05  \n",
              "1               2  2014-09-04       2014-03-01      2014-10-14  \n",
              "2               1         NaN       2014-01-30      2014-01-30  \n",
              "3               1  2007-01-01       2008-03-19      2008-03-19  \n",
              "4               1  2010-01-01       2014-07-24      2014-07-24  "
            ],
            "text/html": [
              "\n",
              "  <div id=\"df-60a57179-d8f4-40d5-95a6-0785d0882458\">\n",
              "    <div class=\"colab-df-container\">\n",
              "      <div>\n",
              "<style scoped>\n",
              "    .dataframe tbody tr th:only-of-type {\n",
              "        vertical-align: middle;\n",
              "    }\n",
              "\n",
              "    .dataframe tbody tr th {\n",
              "        vertical-align: top;\n",
              "    }\n",
              "\n",
              "    .dataframe thead th {\n",
              "        text-align: right;\n",
              "    }\n",
              "</style>\n",
              "<table border=\"1\" class=\"dataframe\">\n",
              "  <thead>\n",
              "    <tr style=\"text-align: right;\">\n",
              "      <th></th>\n",
              "      <th>permalink</th>\n",
              "      <th>name</th>\n",
              "      <th>homepage_url</th>\n",
              "      <th>category_list</th>\n",
              "      <th>funding_total_usd</th>\n",
              "      <th>status</th>\n",
              "      <th>country_code</th>\n",
              "      <th>state_code</th>\n",
              "      <th>region</th>\n",
              "      <th>city</th>\n",
              "      <th>funding_rounds</th>\n",
              "      <th>founded_at</th>\n",
              "      <th>first_funding_at</th>\n",
              "      <th>last_funding_at</th>\n",
              "    </tr>\n",
              "  </thead>\n",
              "  <tbody>\n",
              "    <tr>\n",
              "      <th>0</th>\n",
              "      <td>/organization/-fame</td>\n",
              "      <td>#fame</td>\n",
              "      <td>http://livfame.com</td>\n",
              "      <td>Media</td>\n",
              "      <td>10000000</td>\n",
              "      <td>operating</td>\n",
              "      <td>IND</td>\n",
              "      <td>16</td>\n",
              "      <td>Mumbai</td>\n",
              "      <td>Mumbai</td>\n",
              "      <td>1</td>\n",
              "      <td>NaN</td>\n",
              "      <td>2015-01-05</td>\n",
              "      <td>2015-01-05</td>\n",
              "    </tr>\n",
              "    <tr>\n",
              "      <th>1</th>\n",
              "      <td>/organization/-qounter</td>\n",
              "      <td>:Qounter</td>\n",
              "      <td>http://www.qounter.com</td>\n",
              "      <td>Application Platforms|Real Time|Social Network...</td>\n",
              "      <td>700000</td>\n",
              "      <td>operating</td>\n",
              "      <td>USA</td>\n",
              "      <td>DE</td>\n",
              "      <td>DE - Other</td>\n",
              "      <td>Delaware City</td>\n",
              "      <td>2</td>\n",
              "      <td>2014-09-04</td>\n",
              "      <td>2014-03-01</td>\n",
              "      <td>2014-10-14</td>\n",
              "    </tr>\n",
              "    <tr>\n",
              "      <th>2</th>\n",
              "      <td>/organization/-the-one-of-them-inc-</td>\n",
              "      <td>(THE) ONE of THEM,Inc.</td>\n",
              "      <td>http://oneofthem.jp</td>\n",
              "      <td>Apps|Games|Mobile</td>\n",
              "      <td>3406878</td>\n",
              "      <td>operating</td>\n",
              "      <td>NaN</td>\n",
              "      <td>NaN</td>\n",
              "      <td>NaN</td>\n",
              "      <td>NaN</td>\n",
              "      <td>1</td>\n",
              "      <td>NaN</td>\n",
              "      <td>2014-01-30</td>\n",
              "      <td>2014-01-30</td>\n",
              "    </tr>\n",
              "    <tr>\n",
              "      <th>3</th>\n",
              "      <td>/organization/0-6-com</td>\n",
              "      <td>0-6.com</td>\n",
              "      <td>http://www.0-6.com</td>\n",
              "      <td>Curated Web</td>\n",
              "      <td>2000000</td>\n",
              "      <td>operating</td>\n",
              "      <td>CHN</td>\n",
              "      <td>22</td>\n",
              "      <td>Beijing</td>\n",
              "      <td>Beijing</td>\n",
              "      <td>1</td>\n",
              "      <td>2007-01-01</td>\n",
              "      <td>2008-03-19</td>\n",
              "      <td>2008-03-19</td>\n",
              "    </tr>\n",
              "    <tr>\n",
              "      <th>4</th>\n",
              "      <td>/organization/004-technologies</td>\n",
              "      <td>004 Technologies</td>\n",
              "      <td>http://004gmbh.de/en/004-interact</td>\n",
              "      <td>Software</td>\n",
              "      <td>-</td>\n",
              "      <td>operating</td>\n",
              "      <td>USA</td>\n",
              "      <td>IL</td>\n",
              "      <td>Springfield, Illinois</td>\n",
              "      <td>Champaign</td>\n",
              "      <td>1</td>\n",
              "      <td>2010-01-01</td>\n",
              "      <td>2014-07-24</td>\n",
              "      <td>2014-07-24</td>\n",
              "    </tr>\n",
              "  </tbody>\n",
              "</table>\n",
              "</div>\n",
              "      <button class=\"colab-df-convert\" onclick=\"convertToInteractive('df-60a57179-d8f4-40d5-95a6-0785d0882458')\"\n",
              "              title=\"Convert this dataframe to an interactive table.\"\n",
              "              style=\"display:none;\">\n",
              "        \n",
              "  <svg xmlns=\"http://www.w3.org/2000/svg\" height=\"24px\"viewBox=\"0 0 24 24\"\n",
              "       width=\"24px\">\n",
              "    <path d=\"M0 0h24v24H0V0z\" fill=\"none\"/>\n",
              "    <path d=\"M18.56 5.44l.94 2.06.94-2.06 2.06-.94-2.06-.94-.94-2.06-.94 2.06-2.06.94zm-11 1L8.5 8.5l.94-2.06 2.06-.94-2.06-.94L8.5 2.5l-.94 2.06-2.06.94zm10 10l.94 2.06.94-2.06 2.06-.94-2.06-.94-.94-2.06-.94 2.06-2.06.94z\"/><path d=\"M17.41 7.96l-1.37-1.37c-.4-.4-.92-.59-1.43-.59-.52 0-1.04.2-1.43.59L10.3 9.45l-7.72 7.72c-.78.78-.78 2.05 0 2.83L4 21.41c.39.39.9.59 1.41.59.51 0 1.02-.2 1.41-.59l7.78-7.78 2.81-2.81c.8-.78.8-2.07 0-2.86zM5.41 20L4 18.59l7.72-7.72 1.47 1.35L5.41 20z\"/>\n",
              "  </svg>\n",
              "      </button>\n",
              "      \n",
              "  <style>\n",
              "    .colab-df-container {\n",
              "      display:flex;\n",
              "      flex-wrap:wrap;\n",
              "      gap: 12px;\n",
              "    }\n",
              "\n",
              "    .colab-df-convert {\n",
              "      background-color: #E8F0FE;\n",
              "      border: none;\n",
              "      border-radius: 50%;\n",
              "      cursor: pointer;\n",
              "      display: none;\n",
              "      fill: #1967D2;\n",
              "      height: 32px;\n",
              "      padding: 0 0 0 0;\n",
              "      width: 32px;\n",
              "    }\n",
              "\n",
              "    .colab-df-convert:hover {\n",
              "      background-color: #E2EBFA;\n",
              "      box-shadow: 0px 1px 2px rgba(60, 64, 67, 0.3), 0px 1px 3px 1px rgba(60, 64, 67, 0.15);\n",
              "      fill: #174EA6;\n",
              "    }\n",
              "\n",
              "    [theme=dark] .colab-df-convert {\n",
              "      background-color: #3B4455;\n",
              "      fill: #D2E3FC;\n",
              "    }\n",
              "\n",
              "    [theme=dark] .colab-df-convert:hover {\n",
              "      background-color: #434B5C;\n",
              "      box-shadow: 0px 1px 3px 1px rgba(0, 0, 0, 0.15);\n",
              "      filter: drop-shadow(0px 1px 2px rgba(0, 0, 0, 0.3));\n",
              "      fill: #FFFFFF;\n",
              "    }\n",
              "  </style>\n",
              "\n",
              "      <script>\n",
              "        const buttonEl =\n",
              "          document.querySelector('#df-60a57179-d8f4-40d5-95a6-0785d0882458 button.colab-df-convert');\n",
              "        buttonEl.style.display =\n",
              "          google.colab.kernel.accessAllowed ? 'block' : 'none';\n",
              "\n",
              "        async function convertToInteractive(key) {\n",
              "          const element = document.querySelector('#df-60a57179-d8f4-40d5-95a6-0785d0882458');\n",
              "          const dataTable =\n",
              "            await google.colab.kernel.invokeFunction('convertToInteractive',\n",
              "                                                     [key], {});\n",
              "          if (!dataTable) return;\n",
              "\n",
              "          const docLinkHtml = 'Like what you see? Visit the ' +\n",
              "            '<a target=\"_blank\" href=https://colab.research.google.com/notebooks/data_table.ipynb>data table notebook</a>'\n",
              "            + ' to learn more about interactive tables.';\n",
              "          element.innerHTML = '';\n",
              "          dataTable['output_type'] = 'display_data';\n",
              "          await google.colab.output.renderOutput(dataTable, element);\n",
              "          const docLink = document.createElement('div');\n",
              "          docLink.innerHTML = docLinkHtml;\n",
              "          element.appendChild(docLink);\n",
              "        }\n",
              "      </script>\n",
              "    </div>\n",
              "  </div>\n",
              "  "
            ]
          },
          "metadata": {},
          "execution_count": 3
        }
      ]
    },
    {
      "cell_type": "code",
      "source": [
        "startup_df.shape"
      ],
      "metadata": {
        "colab": {
          "base_uri": "https://localhost:8080/"
        },
        "id": "yYHE_8Ip93ho",
        "outputId": "1ee4ad24-714a-4298-8693-ccaec32cde03"
      },
      "execution_count": 4,
      "outputs": [
        {
          "output_type": "execute_result",
          "data": {
            "text/plain": [
              "(66368, 14)"
            ]
          },
          "metadata": {},
          "execution_count": 4
        }
      ]
    },
    {
      "cell_type": "code",
      "source": [
        "startup_df.info()"
      ],
      "metadata": {
        "colab": {
          "base_uri": "https://localhost:8080/"
        },
        "id": "8aSk-KL273cO",
        "outputId": "66928ced-8d1a-458d-dee5-52c7b4eacada"
      },
      "execution_count": 5,
      "outputs": [
        {
          "output_type": "stream",
          "name": "stdout",
          "text": [
            "<class 'pandas.core.frame.DataFrame'>\n",
            "RangeIndex: 66368 entries, 0 to 66367\n",
            "Data columns (total 14 columns):\n",
            " #   Column             Non-Null Count  Dtype \n",
            "---  ------             --------------  ----- \n",
            " 0   permalink          66368 non-null  object\n",
            " 1   name               66367 non-null  object\n",
            " 2   homepage_url       61310 non-null  object\n",
            " 3   category_list      63220 non-null  object\n",
            " 4   funding_total_usd  66368 non-null  object\n",
            " 5   status             66368 non-null  object\n",
            " 6   country_code       59410 non-null  object\n",
            " 7   state_code         57821 non-null  object\n",
            " 8   region             58338 non-null  object\n",
            " 9   city               58340 non-null  object\n",
            " 10  funding_rounds     66368 non-null  int64 \n",
            " 11  founded_at         51147 non-null  object\n",
            " 12  first_funding_at   66344 non-null  object\n",
            " 13  last_funding_at    66368 non-null  object\n",
            "dtypes: int64(1), object(13)\n",
            "memory usage: 7.1+ MB\n"
          ]
        }
      ]
    },
    {
      "cell_type": "code",
      "source": [
        "startup_df.isna().sum()"
      ],
      "metadata": {
        "colab": {
          "base_uri": "https://localhost:8080/"
        },
        "id": "eEdZoY30923M",
        "outputId": "998014e4-722c-4c46-9a37-b2ede4ff3eb5"
      },
      "execution_count": 6,
      "outputs": [
        {
          "output_type": "execute_result",
          "data": {
            "text/plain": [
              "permalink                0\n",
              "name                     1\n",
              "homepage_url          5058\n",
              "category_list         3148\n",
              "funding_total_usd        0\n",
              "status                   0\n",
              "country_code          6958\n",
              "state_code            8547\n",
              "region                8030\n",
              "city                  8028\n",
              "funding_rounds           0\n",
              "founded_at           15221\n",
              "first_funding_at        24\n",
              "last_funding_at          0\n",
              "dtype: int64"
            ]
          },
          "metadata": {},
          "execution_count": 6
        }
      ]
    },
    {
      "cell_type": "code",
      "source": [
        "startup_df[\"category_list\"].value_counts()"
      ],
      "metadata": {
        "colab": {
          "base_uri": "https://localhost:8080/"
        },
        "id": "ynEwgZxgE2LM",
        "outputId": "23b920a7-748b-4564-fd71-b8187aff07b9"
      },
      "execution_count": 7,
      "outputs": [
        {
          "output_type": "execute_result",
          "data": {
            "text/plain": [
              "Software                                                                       3995\n",
              "Biotechnology                                                                  3615\n",
              "E-Commerce                                                                     1332\n",
              "Mobile                                                                         1177\n",
              "Clean Technology                                                               1133\n",
              "                                                                               ... \n",
              "Consumer Internet|Marketplaces|Mobile|Mobile Payments|Transportation|Travel       1\n",
              "Apps|Mobile|Private Social Networking                                             1\n",
              "Cloud Computing|Enterprise Software|Infrastructure|PaaS|Social Media              1\n",
              "Content|SaaS|Social Media Marketing|Software                                      1\n",
              "Consumer Goods|E-Commerce|Internet                                                1\n",
              "Name: category_list, Length: 27296, dtype: int64"
            ]
          },
          "metadata": {},
          "execution_count": 7
        }
      ]
    },
    {
      "cell_type": "code",
      "source": [
        "startup_df=startup_df.dropna(axis=0,subset=[\"category_list\"])"
      ],
      "metadata": {
        "id": "_FXQb8VqFd4m"
      },
      "execution_count": 8,
      "outputs": []
    },
    {
      "cell_type": "code",
      "source": [
        "startup_df.isna().sum()"
      ],
      "metadata": {
        "colab": {
          "base_uri": "https://localhost:8080/"
        },
        "id": "XmzfMYtBGmha",
        "outputId": "4469173a-5c0d-4b97-dfce-3eba132e7f05"
      },
      "execution_count": 9,
      "outputs": [
        {
          "output_type": "execute_result",
          "data": {
            "text/plain": [
              "permalink                0\n",
              "name                     1\n",
              "homepage_url          4146\n",
              "category_list            0\n",
              "funding_total_usd        0\n",
              "status                   0\n",
              "country_code          5416\n",
              "state_code            6952\n",
              "region                6455\n",
              "city                  6453\n",
              "funding_rounds           0\n",
              "founded_at           13509\n",
              "first_funding_at        23\n",
              "last_funding_at          0\n",
              "dtype: int64"
            ]
          },
          "metadata": {},
          "execution_count": 9
        }
      ]
    },
    {
      "cell_type": "code",
      "source": [
        "startup_df=startup_df.dropna(axis=0,subset=[\"country_code\"])"
      ],
      "metadata": {
        "id": "4o1UOk6NIQG2"
      },
      "execution_count": 10,
      "outputs": []
    },
    {
      "cell_type": "code",
      "source": [
        "startup_df=startup_df.dropna(axis=0,subset=[\"region\"])"
      ],
      "metadata": {
        "id": "FeWOS8bbIsfH"
      },
      "execution_count": 11,
      "outputs": []
    },
    {
      "cell_type": "code",
      "source": [
        "startup_df.isna().sum()"
      ],
      "metadata": {
        "colab": {
          "base_uri": "https://localhost:8080/"
        },
        "id": "3S3TJOeaI2MV",
        "outputId": "03a79e8e-92d4-45e8-9ad3-50933bbd42ca"
      },
      "execution_count": 12,
      "outputs": [
        {
          "output_type": "execute_result",
          "data": {
            "text/plain": [
              "permalink                0\n",
              "name                     1\n",
              "homepage_url          3271\n",
              "category_list            0\n",
              "funding_total_usd        0\n",
              "status                   0\n",
              "country_code             0\n",
              "state_code             785\n",
              "region                   0\n",
              "city                     0\n",
              "funding_rounds           0\n",
              "founded_at           10856\n",
              "first_funding_at        22\n",
              "last_funding_at          0\n",
              "dtype: int64"
            ]
          },
          "metadata": {},
          "execution_count": 12
        }
      ]
    },
    {
      "cell_type": "code",
      "source": [
        "indian_startup = startup_df.query(\"country_code=='IND'\")\n",
        "indian_startup.head(5)"
      ],
      "metadata": {
        "colab": {
          "base_uri": "https://localhost:8080/",
          "height": 305
        },
        "id": "YDtU36UqMf_d",
        "outputId": "8af42c14-8092-4c4f-eb3e-a8fcb73e3902"
      },
      "execution_count": 13,
      "outputs": [
        {
          "output_type": "execute_result",
          "data": {
            "text/plain": [
              "                              permalink           name  \\\n",
              "0                   /organization/-fame          #fame   \n",
              "22              /organization/1000lookz      1000Lookz   \n",
              "93                 /organization/1click         1CLICK   \n",
              "135      /organization/21diamonds-india     21Diamonds   \n",
              "151  /organization/247-learning-private  24x7 Learning   \n",
              "\n",
              "                    homepage_url             category_list funding_total_usd  \\\n",
              "0             http://livfame.com                     Media          10000000   \n",
              "22          http://1000lookz.com                    Beauty                 -   \n",
              "93              http://1click.io               Chat|Mobile                 -   \n",
              "135     http://www.21diamonds.de                E-Commerce           6369507   \n",
              "151  http://www.24x7learning.com  EdTech|Education|Systems           4000000   \n",
              "\n",
              "        status country_code state_code     region       city  funding_rounds  \\\n",
              "0    operating          IND         16     Mumbai     Mumbai               1   \n",
              "22   operating          IND         25    Chennai    Chennai               1   \n",
              "93    acquired          IND         19  Bangalore  Bangalore               1   \n",
              "135  operating          IND         10  New Delhi    Gurgaon               1   \n",
              "151  operating          IND         19  Bangalore  Bangalore               1   \n",
              "\n",
              "     founded_at first_funding_at last_funding_at  \n",
              "0           NaN       2015-01-05      2015-01-05  \n",
              "22   2008-01-01       2013-07-22      2013-07-22  \n",
              "93   2012-11-01       2014-01-26      2014-01-26  \n",
              "135  2012-06-01       2012-11-15      2012-11-15  \n",
              "151  2001-01-01       2007-11-06      2007-11-06  "
            ],
            "text/html": [
              "\n",
              "  <div id=\"df-583f9334-c7ff-40c0-800d-b5b8105b74cc\">\n",
              "    <div class=\"colab-df-container\">\n",
              "      <div>\n",
              "<style scoped>\n",
              "    .dataframe tbody tr th:only-of-type {\n",
              "        vertical-align: middle;\n",
              "    }\n",
              "\n",
              "    .dataframe tbody tr th {\n",
              "        vertical-align: top;\n",
              "    }\n",
              "\n",
              "    .dataframe thead th {\n",
              "        text-align: right;\n",
              "    }\n",
              "</style>\n",
              "<table border=\"1\" class=\"dataframe\">\n",
              "  <thead>\n",
              "    <tr style=\"text-align: right;\">\n",
              "      <th></th>\n",
              "      <th>permalink</th>\n",
              "      <th>name</th>\n",
              "      <th>homepage_url</th>\n",
              "      <th>category_list</th>\n",
              "      <th>funding_total_usd</th>\n",
              "      <th>status</th>\n",
              "      <th>country_code</th>\n",
              "      <th>state_code</th>\n",
              "      <th>region</th>\n",
              "      <th>city</th>\n",
              "      <th>funding_rounds</th>\n",
              "      <th>founded_at</th>\n",
              "      <th>first_funding_at</th>\n",
              "      <th>last_funding_at</th>\n",
              "    </tr>\n",
              "  </thead>\n",
              "  <tbody>\n",
              "    <tr>\n",
              "      <th>0</th>\n",
              "      <td>/organization/-fame</td>\n",
              "      <td>#fame</td>\n",
              "      <td>http://livfame.com</td>\n",
              "      <td>Media</td>\n",
              "      <td>10000000</td>\n",
              "      <td>operating</td>\n",
              "      <td>IND</td>\n",
              "      <td>16</td>\n",
              "      <td>Mumbai</td>\n",
              "      <td>Mumbai</td>\n",
              "      <td>1</td>\n",
              "      <td>NaN</td>\n",
              "      <td>2015-01-05</td>\n",
              "      <td>2015-01-05</td>\n",
              "    </tr>\n",
              "    <tr>\n",
              "      <th>22</th>\n",
              "      <td>/organization/1000lookz</td>\n",
              "      <td>1000Lookz</td>\n",
              "      <td>http://1000lookz.com</td>\n",
              "      <td>Beauty</td>\n",
              "      <td>-</td>\n",
              "      <td>operating</td>\n",
              "      <td>IND</td>\n",
              "      <td>25</td>\n",
              "      <td>Chennai</td>\n",
              "      <td>Chennai</td>\n",
              "      <td>1</td>\n",
              "      <td>2008-01-01</td>\n",
              "      <td>2013-07-22</td>\n",
              "      <td>2013-07-22</td>\n",
              "    </tr>\n",
              "    <tr>\n",
              "      <th>93</th>\n",
              "      <td>/organization/1click</td>\n",
              "      <td>1CLICK</td>\n",
              "      <td>http://1click.io</td>\n",
              "      <td>Chat|Mobile</td>\n",
              "      <td>-</td>\n",
              "      <td>acquired</td>\n",
              "      <td>IND</td>\n",
              "      <td>19</td>\n",
              "      <td>Bangalore</td>\n",
              "      <td>Bangalore</td>\n",
              "      <td>1</td>\n",
              "      <td>2012-11-01</td>\n",
              "      <td>2014-01-26</td>\n",
              "      <td>2014-01-26</td>\n",
              "    </tr>\n",
              "    <tr>\n",
              "      <th>135</th>\n",
              "      <td>/organization/21diamonds-india</td>\n",
              "      <td>21Diamonds</td>\n",
              "      <td>http://www.21diamonds.de</td>\n",
              "      <td>E-Commerce</td>\n",
              "      <td>6369507</td>\n",
              "      <td>operating</td>\n",
              "      <td>IND</td>\n",
              "      <td>10</td>\n",
              "      <td>New Delhi</td>\n",
              "      <td>Gurgaon</td>\n",
              "      <td>1</td>\n",
              "      <td>2012-06-01</td>\n",
              "      <td>2012-11-15</td>\n",
              "      <td>2012-11-15</td>\n",
              "    </tr>\n",
              "    <tr>\n",
              "      <th>151</th>\n",
              "      <td>/organization/247-learning-private</td>\n",
              "      <td>24x7 Learning</td>\n",
              "      <td>http://www.24x7learning.com</td>\n",
              "      <td>EdTech|Education|Systems</td>\n",
              "      <td>4000000</td>\n",
              "      <td>operating</td>\n",
              "      <td>IND</td>\n",
              "      <td>19</td>\n",
              "      <td>Bangalore</td>\n",
              "      <td>Bangalore</td>\n",
              "      <td>1</td>\n",
              "      <td>2001-01-01</td>\n",
              "      <td>2007-11-06</td>\n",
              "      <td>2007-11-06</td>\n",
              "    </tr>\n",
              "  </tbody>\n",
              "</table>\n",
              "</div>\n",
              "      <button class=\"colab-df-convert\" onclick=\"convertToInteractive('df-583f9334-c7ff-40c0-800d-b5b8105b74cc')\"\n",
              "              title=\"Convert this dataframe to an interactive table.\"\n",
              "              style=\"display:none;\">\n",
              "        \n",
              "  <svg xmlns=\"http://www.w3.org/2000/svg\" height=\"24px\"viewBox=\"0 0 24 24\"\n",
              "       width=\"24px\">\n",
              "    <path d=\"M0 0h24v24H0V0z\" fill=\"none\"/>\n",
              "    <path d=\"M18.56 5.44l.94 2.06.94-2.06 2.06-.94-2.06-.94-.94-2.06-.94 2.06-2.06.94zm-11 1L8.5 8.5l.94-2.06 2.06-.94-2.06-.94L8.5 2.5l-.94 2.06-2.06.94zm10 10l.94 2.06.94-2.06 2.06-.94-2.06-.94-.94-2.06-.94 2.06-2.06.94z\"/><path d=\"M17.41 7.96l-1.37-1.37c-.4-.4-.92-.59-1.43-.59-.52 0-1.04.2-1.43.59L10.3 9.45l-7.72 7.72c-.78.78-.78 2.05 0 2.83L4 21.41c.39.39.9.59 1.41.59.51 0 1.02-.2 1.41-.59l7.78-7.78 2.81-2.81c.8-.78.8-2.07 0-2.86zM5.41 20L4 18.59l7.72-7.72 1.47 1.35L5.41 20z\"/>\n",
              "  </svg>\n",
              "      </button>\n",
              "      \n",
              "  <style>\n",
              "    .colab-df-container {\n",
              "      display:flex;\n",
              "      flex-wrap:wrap;\n",
              "      gap: 12px;\n",
              "    }\n",
              "\n",
              "    .colab-df-convert {\n",
              "      background-color: #E8F0FE;\n",
              "      border: none;\n",
              "      border-radius: 50%;\n",
              "      cursor: pointer;\n",
              "      display: none;\n",
              "      fill: #1967D2;\n",
              "      height: 32px;\n",
              "      padding: 0 0 0 0;\n",
              "      width: 32px;\n",
              "    }\n",
              "\n",
              "    .colab-df-convert:hover {\n",
              "      background-color: #E2EBFA;\n",
              "      box-shadow: 0px 1px 2px rgba(60, 64, 67, 0.3), 0px 1px 3px 1px rgba(60, 64, 67, 0.15);\n",
              "      fill: #174EA6;\n",
              "    }\n",
              "\n",
              "    [theme=dark] .colab-df-convert {\n",
              "      background-color: #3B4455;\n",
              "      fill: #D2E3FC;\n",
              "    }\n",
              "\n",
              "    [theme=dark] .colab-df-convert:hover {\n",
              "      background-color: #434B5C;\n",
              "      box-shadow: 0px 1px 3px 1px rgba(0, 0, 0, 0.15);\n",
              "      filter: drop-shadow(0px 1px 2px rgba(0, 0, 0, 0.3));\n",
              "      fill: #FFFFFF;\n",
              "    }\n",
              "  </style>\n",
              "\n",
              "      <script>\n",
              "        const buttonEl =\n",
              "          document.querySelector('#df-583f9334-c7ff-40c0-800d-b5b8105b74cc button.colab-df-convert');\n",
              "        buttonEl.style.display =\n",
              "          google.colab.kernel.accessAllowed ? 'block' : 'none';\n",
              "\n",
              "        async function convertToInteractive(key) {\n",
              "          const element = document.querySelector('#df-583f9334-c7ff-40c0-800d-b5b8105b74cc');\n",
              "          const dataTable =\n",
              "            await google.colab.kernel.invokeFunction('convertToInteractive',\n",
              "                                                     [key], {});\n",
              "          if (!dataTable) return;\n",
              "\n",
              "          const docLinkHtml = 'Like what you see? Visit the ' +\n",
              "            '<a target=\"_blank\" href=https://colab.research.google.com/notebooks/data_table.ipynb>data table notebook</a>'\n",
              "            + ' to learn more about interactive tables.';\n",
              "          element.innerHTML = '';\n",
              "          dataTable['output_type'] = 'display_data';\n",
              "          await google.colab.output.renderOutput(dataTable, element);\n",
              "          const docLink = document.createElement('div');\n",
              "          docLink.innerHTML = docLinkHtml;\n",
              "          element.appendChild(docLink);\n",
              "        }\n",
              "      </script>\n",
              "    </div>\n",
              "  </div>\n",
              "  "
            ]
          },
          "metadata": {},
          "execution_count": 13
        }
      ]
    },
    {
      "cell_type": "code",
      "source": [
        "indian_startup.shape"
      ],
      "metadata": {
        "colab": {
          "base_uri": "https://localhost:8080/"
        },
        "id": "STSU7yFZNwVF",
        "outputId": "9e528dfd-2213-44e4-9635-dbcc2e74b9ab"
      },
      "execution_count": 14,
      "outputs": [
        {
          "output_type": "execute_result",
          "data": {
            "text/plain": [
              "(1533, 14)"
            ]
          },
          "metadata": {},
          "execution_count": 14
        }
      ]
    },
    {
      "cell_type": "code",
      "source": [
        "fig=go.Figure(go.Pie(labels=indian_startup[\"status\"],hole=0.5))\n",
        "fig.update_traces(textposition=\"outside\")\n",
        "fig.show()"
      ],
      "metadata": {
        "colab": {
          "base_uri": "https://localhost:8080/",
          "height": 542
        },
        "id": "yQME00HEN6_E",
        "outputId": "6c84dbb0-0e84-4209-f5f5-ca177df8ad79"
      },
      "execution_count": 15,
      "outputs": [
        {
          "output_type": "display_data",
          "data": {
            "text/html": [
              "<html>\n",
              "<head><meta charset=\"utf-8\" /></head>\n",
              "<body>\n",
              "    <div>            <script src=\"https://cdnjs.cloudflare.com/ajax/libs/mathjax/2.7.5/MathJax.js?config=TeX-AMS-MML_SVG\"></script><script type=\"text/javascript\">if (window.MathJax) {MathJax.Hub.Config({SVG: {font: \"STIX-Web\"}});}</script>                <script type=\"text/javascript\">window.PlotlyConfig = {MathJaxConfig: 'local'};</script>\n",
              "        <script src=\"https://cdn.plot.ly/plotly-2.8.3.min.js\"></script>                <div id=\"48996bc4-bab7-4217-a2a5-1f4c6d9155cb\" class=\"plotly-graph-div\" style=\"height:525px; width:100%;\"></div>            <script type=\"text/javascript\">                                    window.PLOTLYENV=window.PLOTLYENV || {};                                    if (document.getElementById(\"48996bc4-bab7-4217-a2a5-1f4c6d9155cb\")) {                    Plotly.newPlot(                        \"48996bc4-bab7-4217-a2a5-1f4c6d9155cb\",                        [{\"hole\":0.5,\"labels\":[\"operating\",\"operating\",\"acquired\",\"operating\",\"operating\",\"operating\",\"operating\",\"operating\",\"operating\",\"operating\",\"operating\",\"operating\",\"operating\",\"closed\",\"operating\",\"operating\",\"operating\",\"operating\",\"operating\",\"acquired\",\"operating\",\"operating\",\"operating\",\"closed\",\"operating\",\"operating\",\"operating\",\"operating\",\"operating\",\"operating\",\"operating\",\"operating\",\"operating\",\"operating\",\"operating\",\"operating\",\"operating\",\"operating\",\"operating\",\"operating\",\"operating\",\"operating\",\"operating\",\"operating\",\"closed\",\"operating\",\"operating\",\"operating\",\"operating\",\"operating\",\"operating\",\"operating\",\"operating\",\"operating\",\"operating\",\"operating\",\"operating\",\"operating\",\"operating\",\"operating\",\"operating\",\"operating\",\"operating\",\"operating\",\"acquired\",\"operating\",\"operating\",\"operating\",\"operating\",\"operating\",\"operating\",\"operating\",\"operating\",\"operating\",\"operating\",\"operating\",\"operating\",\"operating\",\"operating\",\"operating\",\"operating\",\"operating\",\"operating\",\"acquired\",\"operating\",\"operating\",\"operating\",\"operating\",\"operating\",\"operating\",\"operating\",\"operating\",\"closed\",\"operating\",\"operating\",\"operating\",\"operating\",\"operating\",\"operating\",\"operating\",\"operating\",\"operating\",\"operating\",\"operating\",\"operating\",\"operating\",\"acquired\",\"operating\",\"operating\",\"operating\",\"operating\",\"operating\",\"operating\",\"operating\",\"operating\",\"operating\",\"operating\",\"operating\",\"operating\",\"closed\",\"operating\",\"operating\",\"operating\",\"operating\",\"operating\",\"operating\",\"operating\",\"operating\",\"operating\",\"acquired\",\"operating\",\"operating\",\"operating\",\"operating\",\"operating\",\"operating\",\"operating\",\"operating\",\"operating\",\"operating\",\"operating\",\"closed\",\"operating\",\"operating\",\"operating\",\"operating\",\"operating\",\"operating\",\"operating\",\"operating\",\"operating\",\"operating\",\"operating\",\"operating\",\"operating\",\"operating\",\"operating\",\"operating\",\"operating\",\"operating\",\"operating\",\"operating\",\"operating\",\"operating\",\"operating\",\"operating\",\"operating\",\"operating\",\"operating\",\"operating\",\"operating\",\"operating\",\"operating\",\"operating\",\"operating\",\"operating\",\"operating\",\"operating\",\"operating\",\"operating\",\"acquired\",\"operating\",\"operating\",\"operating\",\"operating\",\"operating\",\"operating\",\"operating\",\"operating\",\"operating\",\"operating\",\"operating\",\"operating\",\"operating\",\"operating\",\"operating\",\"operating\",\"operating\",\"operating\",\"operating\",\"operating\",\"acquired\",\"operating\",\"operating\",\"operating\",\"operating\",\"operating\",\"operating\",\"operating\",\"operating\",\"operating\",\"operating\",\"operating\",\"operating\",\"operating\",\"operating\",\"operating\",\"operating\",\"operating\",\"operating\",\"operating\",\"operating\",\"operating\",\"operating\",\"operating\",\"operating\",\"operating\",\"operating\",\"operating\",\"operating\",\"operating\",\"operating\",\"operating\",\"operating\",\"operating\",\"operating\",\"operating\",\"operating\",\"operating\",\"operating\",\"operating\",\"operating\",\"operating\",\"operating\",\"operating\",\"operating\",\"closed\",\"operating\",\"operating\",\"operating\",\"operating\",\"operating\",\"operating\",\"operating\",\"operating\",\"closed\",\"operating\",\"operating\",\"operating\",\"operating\",\"operating\",\"operating\",\"operating\",\"operating\",\"operating\",\"operating\",\"operating\",\"operating\",\"operating\",\"operating\",\"acquired\",\"operating\",\"operating\",\"operating\",\"closed\",\"operating\",\"operating\",\"operating\",\"operating\",\"operating\",\"operating\",\"operating\",\"operating\",\"operating\",\"operating\",\"operating\",\"operating\",\"operating\",\"operating\",\"operating\",\"acquired\",\"closed\",\"operating\",\"operating\",\"operating\",\"operating\",\"operating\",\"operating\",\"operating\",\"operating\",\"operating\",\"operating\",\"operating\",\"operating\",\"operating\",\"operating\",\"closed\",\"operating\",\"operating\",\"operating\",\"operating\",\"operating\",\"operating\",\"operating\",\"operating\",\"operating\",\"operating\",\"operating\",\"operating\",\"operating\",\"operating\",\"operating\",\"operating\",\"operating\",\"operating\",\"operating\",\"operating\",\"operating\",\"operating\",\"operating\",\"operating\",\"operating\",\"operating\",\"operating\",\"ipo\",\"operating\",\"operating\",\"acquired\",\"operating\",\"operating\",\"operating\",\"operating\",\"operating\",\"operating\",\"operating\",\"operating\",\"closed\",\"operating\",\"operating\",\"operating\",\"operating\",\"operating\",\"operating\",\"operating\",\"operating\",\"operating\",\"operating\",\"operating\",\"acquired\",\"operating\",\"operating\",\"operating\",\"operating\",\"operating\",\"operating\",\"operating\",\"operating\",\"operating\",\"operating\",\"operating\",\"closed\",\"operating\",\"operating\",\"operating\",\"operating\",\"operating\",\"operating\",\"operating\",\"acquired\",\"closed\",\"operating\",\"operating\",\"operating\",\"acquired\",\"operating\",\"operating\",\"operating\",\"operating\",\"operating\",\"operating\",\"operating\",\"operating\",\"operating\",\"operating\",\"operating\",\"closed\",\"operating\",\"operating\",\"operating\",\"operating\",\"operating\",\"operating\",\"operating\",\"operating\",\"operating\",\"operating\",\"operating\",\"closed\",\"operating\",\"operating\",\"operating\",\"operating\",\"operating\",\"operating\",\"operating\",\"operating\",\"operating\",\"operating\",\"operating\",\"operating\",\"operating\",\"operating\",\"operating\",\"operating\",\"operating\",\"operating\",\"operating\",\"operating\",\"operating\",\"operating\",\"operating\",\"operating\",\"operating\",\"operating\",\"operating\",\"operating\",\"operating\",\"operating\",\"operating\",\"operating\",\"operating\",\"operating\",\"operating\",\"operating\",\"operating\",\"operating\",\"operating\",\"ipo\",\"operating\",\"operating\",\"acquired\",\"operating\",\"operating\",\"operating\",\"operating\",\"operating\",\"acquired\",\"operating\",\"operating\",\"operating\",\"operating\",\"operating\",\"operating\",\"operating\",\"operating\",\"operating\",\"operating\",\"operating\",\"operating\",\"operating\",\"operating\",\"operating\",\"operating\",\"operating\",\"operating\",\"operating\",\"operating\",\"operating\",\"operating\",\"operating\",\"acquired\",\"operating\",\"operating\",\"operating\",\"operating\",\"operating\",\"operating\",\"operating\",\"closed\",\"operating\",\"operating\",\"operating\",\"closed\",\"operating\",\"ipo\",\"operating\",\"operating\",\"closed\",\"operating\",\"operating\",\"operating\",\"operating\",\"operating\",\"operating\",\"operating\",\"operating\",\"operating\",\"operating\",\"operating\",\"operating\",\"operating\",\"operating\",\"operating\",\"operating\",\"operating\",\"operating\",\"operating\",\"operating\",\"operating\",\"operating\",\"operating\",\"operating\",\"operating\",\"operating\",\"operating\",\"operating\",\"operating\",\"ipo\",\"operating\",\"operating\",\"operating\",\"operating\",\"operating\",\"operating\",\"operating\",\"operating\",\"operating\",\"operating\",\"operating\",\"operating\",\"operating\",\"operating\",\"operating\",\"closed\",\"operating\",\"operating\",\"operating\",\"operating\",\"operating\",\"operating\",\"operating\",\"operating\",\"operating\",\"operating\",\"operating\",\"operating\",\"operating\",\"operating\",\"operating\",\"acquired\",\"operating\",\"operating\",\"operating\",\"operating\",\"operating\",\"operating\",\"operating\",\"operating\",\"operating\",\"operating\",\"operating\",\"operating\",\"operating\",\"operating\",\"operating\",\"operating\",\"operating\",\"operating\",\"operating\",\"operating\",\"operating\",\"operating\",\"operating\",\"closed\",\"operating\",\"acquired\",\"operating\",\"operating\",\"operating\",\"operating\",\"operating\",\"operating\",\"operating\",\"operating\",\"operating\",\"operating\",\"operating\",\"closed\",\"operating\",\"operating\",\"operating\",\"closed\",\"acquired\",\"operating\",\"operating\",\"operating\",\"operating\",\"operating\",\"operating\",\"operating\",\"operating\",\"operating\",\"operating\",\"operating\",\"operating\",\"operating\",\"operating\",\"operating\",\"operating\",\"operating\",\"closed\",\"acquired\",\"operating\",\"operating\",\"operating\",\"operating\",\"operating\",\"operating\",\"operating\",\"ipo\",\"closed\",\"operating\",\"operating\",\"operating\",\"operating\",\"operating\",\"operating\",\"operating\",\"operating\",\"operating\",\"closed\",\"operating\",\"operating\",\"operating\",\"operating\",\"operating\",\"operating\",\"operating\",\"operating\",\"operating\",\"operating\",\"operating\",\"operating\",\"operating\",\"operating\",\"operating\",\"ipo\",\"operating\",\"operating\",\"operating\",\"operating\",\"operating\",\"operating\",\"operating\",\"operating\",\"operating\",\"operating\",\"operating\",\"acquired\",\"operating\",\"operating\",\"operating\",\"operating\",\"operating\",\"operating\",\"operating\",\"operating\",\"operating\",\"operating\",\"operating\",\"operating\",\"operating\",\"operating\",\"operating\",\"operating\",\"operating\",\"operating\",\"operating\",\"operating\",\"operating\",\"operating\",\"operating\",\"operating\",\"operating\",\"acquired\",\"operating\",\"operating\",\"operating\",\"ipo\",\"operating\",\"operating\",\"operating\",\"operating\",\"operating\",\"operating\",\"operating\",\"operating\",\"acquired\",\"operating\",\"operating\",\"operating\",\"operating\",\"operating\",\"operating\",\"operating\",\"operating\",\"closed\",\"operating\",\"operating\",\"operating\",\"operating\",\"operating\",\"operating\",\"operating\",\"operating\",\"operating\",\"operating\",\"operating\",\"operating\",\"operating\",\"closed\",\"operating\",\"operating\",\"operating\",\"operating\",\"operating\",\"operating\",\"operating\",\"operating\",\"operating\",\"operating\",\"operating\",\"operating\",\"operating\",\"operating\",\"operating\",\"operating\",\"operating\",\"operating\",\"operating\",\"operating\",\"operating\",\"operating\",\"operating\",\"operating\",\"operating\",\"operating\",\"closed\",\"operating\",\"operating\",\"operating\",\"operating\",\"operating\",\"operating\",\"operating\",\"operating\",\"operating\",\"operating\",\"operating\",\"acquired\",\"operating\",\"operating\",\"operating\",\"operating\",\"acquired\",\"operating\",\"operating\",\"operating\",\"operating\",\"operating\",\"operating\",\"operating\",\"acquired\",\"operating\",\"operating\",\"operating\",\"operating\",\"operating\",\"operating\",\"operating\",\"operating\",\"operating\",\"operating\",\"operating\",\"operating\",\"operating\",\"operating\",\"operating\",\"operating\",\"operating\",\"operating\",\"closed\",\"operating\",\"operating\",\"operating\",\"operating\",\"operating\",\"ipo\",\"operating\",\"operating\",\"operating\",\"operating\",\"operating\",\"operating\",\"operating\",\"acquired\",\"operating\",\"operating\",\"operating\",\"operating\",\"operating\",\"operating\",\"operating\",\"operating\",\"closed\",\"operating\",\"operating\",\"operating\",\"operating\",\"operating\",\"operating\",\"operating\",\"operating\",\"operating\",\"operating\",\"operating\",\"operating\",\"operating\",\"operating\",\"operating\",\"operating\",\"operating\",\"operating\",\"operating\",\"operating\",\"operating\",\"operating\",\"acquired\",\"operating\",\"operating\",\"operating\",\"operating\",\"operating\",\"operating\",\"operating\",\"operating\",\"operating\",\"operating\",\"operating\",\"operating\",\"operating\",\"operating\",\"operating\",\"operating\",\"operating\",\"operating\",\"operating\",\"operating\",\"operating\",\"operating\",\"operating\",\"operating\",\"operating\",\"operating\",\"operating\",\"operating\",\"operating\",\"operating\",\"operating\",\"operating\",\"operating\",\"operating\",\"operating\",\"operating\",\"closed\",\"operating\",\"operating\",\"operating\",\"operating\",\"operating\",\"operating\",\"operating\",\"operating\",\"operating\",\"operating\",\"operating\",\"operating\",\"operating\",\"operating\",\"operating\",\"operating\",\"operating\",\"acquired\",\"operating\",\"operating\",\"operating\",\"operating\",\"operating\",\"operating\",\"operating\",\"closed\",\"operating\",\"operating\",\"operating\",\"operating\",\"operating\",\"operating\",\"operating\",\"operating\",\"operating\",\"operating\",\"operating\",\"operating\",\"operating\",\"closed\",\"operating\",\"operating\",\"operating\",\"operating\",\"operating\",\"acquired\",\"acquired\",\"operating\",\"operating\",\"operating\",\"operating\",\"operating\",\"operating\",\"operating\",\"operating\",\"operating\",\"acquired\",\"operating\",\"operating\",\"operating\",\"operating\",\"operating\",\"closed\",\"operating\",\"operating\",\"operating\",\"operating\",\"operating\",\"operating\",\"operating\",\"operating\",\"operating\",\"operating\",\"operating\",\"operating\",\"operating\",\"operating\",\"operating\",\"operating\",\"operating\",\"operating\",\"closed\",\"operating\",\"operating\",\"operating\",\"closed\",\"operating\",\"operating\",\"operating\",\"operating\",\"closed\",\"operating\",\"operating\",\"operating\",\"operating\",\"operating\",\"operating\",\"operating\",\"operating\",\"operating\",\"operating\",\"operating\",\"operating\",\"operating\",\"operating\",\"operating\",\"closed\",\"operating\",\"operating\",\"operating\",\"operating\",\"operating\",\"operating\",\"operating\",\"operating\",\"operating\",\"operating\",\"operating\",\"operating\",\"operating\",\"acquired\",\"operating\",\"operating\",\"operating\",\"operating\",\"operating\",\"operating\",\"operating\",\"operating\",\"operating\",\"operating\",\"operating\",\"closed\",\"operating\",\"operating\",\"operating\",\"acquired\",\"operating\",\"operating\",\"operating\",\"operating\",\"operating\",\"operating\",\"operating\",\"operating\",\"operating\",\"operating\",\"operating\",\"operating\",\"operating\",\"operating\",\"operating\",\"operating\",\"operating\",\"operating\",\"operating\",\"operating\",\"closed\",\"operating\",\"operating\",\"operating\",\"operating\",\"operating\",\"operating\",\"operating\",\"operating\",\"operating\",\"operating\",\"acquired\",\"operating\",\"operating\",\"operating\",\"operating\",\"operating\",\"operating\",\"operating\",\"operating\",\"operating\",\"operating\",\"operating\",\"acquired\",\"operating\",\"operating\",\"acquired\",\"operating\",\"operating\",\"operating\",\"operating\",\"operating\",\"operating\",\"operating\",\"operating\",\"operating\",\"operating\",\"operating\",\"operating\",\"ipo\",\"operating\",\"operating\",\"operating\",\"operating\",\"operating\",\"operating\",\"operating\",\"acquired\",\"operating\",\"operating\",\"acquired\",\"operating\",\"operating\",\"operating\",\"operating\",\"operating\",\"operating\",\"operating\",\"operating\",\"operating\",\"operating\",\"operating\",\"operating\",\"operating\",\"operating\",\"operating\",\"operating\",\"operating\",\"operating\",\"operating\",\"operating\",\"operating\",\"operating\",\"operating\",\"operating\",\"operating\",\"operating\",\"operating\",\"operating\",\"operating\",\"operating\",\"operating\",\"operating\",\"operating\",\"operating\",\"operating\",\"operating\",\"operating\",\"operating\",\"operating\",\"operating\",\"operating\",\"operating\",\"ipo\",\"operating\",\"operating\",\"operating\",\"operating\",\"operating\",\"operating\",\"operating\",\"operating\",\"closed\",\"operating\",\"operating\",\"operating\",\"operating\",\"operating\",\"operating\",\"operating\",\"operating\",\"operating\",\"closed\",\"operating\",\"operating\",\"operating\",\"operating\",\"operating\",\"operating\",\"operating\",\"operating\",\"operating\",\"operating\",\"operating\",\"operating\",\"ipo\",\"operating\",\"operating\",\"operating\",\"operating\",\"operating\",\"operating\",\"operating\",\"operating\",\"operating\",\"operating\",\"operating\",\"operating\",\"operating\",\"operating\",\"acquired\",\"operating\",\"operating\",\"operating\",\"operating\",\"operating\",\"operating\",\"operating\",\"operating\",\"operating\",\"operating\",\"operating\",\"operating\",\"operating\",\"operating\",\"operating\",\"operating\",\"operating\",\"operating\",\"operating\",\"operating\",\"operating\",\"operating\",\"operating\",\"operating\",\"operating\",\"operating\",\"operating\",\"operating\",\"operating\",\"operating\",\"closed\",\"operating\",\"operating\",\"operating\",\"operating\",\"operating\",\"operating\",\"operating\",\"operating\",\"operating\",\"operating\",\"operating\",\"operating\",\"operating\",\"operating\",\"operating\",\"operating\",\"operating\",\"operating\",\"operating\",\"operating\",\"operating\",\"operating\",\"closed\",\"operating\",\"operating\",\"operating\",\"operating\",\"operating\",\"operating\",\"operating\",\"operating\",\"operating\",\"operating\",\"operating\",\"closed\",\"operating\",\"operating\",\"operating\",\"closed\",\"operating\",\"operating\",\"operating\",\"closed\",\"operating\",\"operating\",\"operating\",\"operating\",\"operating\",\"operating\",\"operating\",\"operating\",\"operating\",\"operating\",\"operating\",\"operating\",\"operating\",\"operating\",\"operating\",\"operating\",\"operating\",\"operating\",\"operating\",\"operating\",\"operating\",\"operating\",\"operating\",\"operating\",\"operating\",\"operating\",\"operating\",\"closed\",\"operating\",\"closed\",\"operating\",\"operating\",\"operating\",\"operating\",\"operating\",\"acquired\",\"operating\",\"operating\",\"acquired\",\"operating\",\"operating\",\"operating\",\"operating\",\"operating\",\"operating\",\"operating\",\"operating\",\"operating\",\"operating\",\"operating\",\"operating\",\"operating\",\"operating\",\"operating\",\"operating\",\"operating\",\"operating\",\"operating\",\"operating\",\"operating\",\"operating\",\"operating\",\"operating\",\"closed\",\"operating\",\"operating\",\"operating\",\"operating\",\"operating\",\"operating\",\"operating\",\"operating\",\"operating\",\"operating\",\"operating\",\"operating\",\"operating\",\"operating\",\"operating\",\"operating\",\"operating\",\"operating\",\"operating\",\"acquired\",\"operating\",\"operating\",\"operating\",\"operating\",\"operating\",\"closed\",\"operating\",\"acquired\",\"operating\",\"operating\",\"operating\",\"operating\",\"operating\",\"operating\",\"operating\",\"operating\",\"operating\",\"operating\",\"operating\",\"operating\",\"operating\",\"operating\",\"operating\",\"operating\",\"operating\",\"operating\",\"operating\",\"operating\",\"operating\",\"operating\",\"operating\",\"operating\",\"operating\",\"closed\",\"operating\",\"operating\",\"operating\",\"operating\",\"operating\",\"operating\",\"operating\",\"operating\",\"operating\",\"operating\",\"operating\",\"operating\",\"operating\",\"operating\",\"operating\",\"operating\",\"operating\",\"operating\",\"operating\",\"operating\",\"operating\",\"operating\",\"operating\",\"operating\",\"operating\",\"operating\",\"operating\",\"acquired\",\"operating\",\"operating\",\"operating\",\"operating\",\"closed\",\"operating\",\"closed\",\"operating\",\"operating\",\"operating\",\"operating\",\"operating\",\"closed\",\"operating\",\"operating\",\"operating\",\"operating\",\"operating\",\"operating\",\"operating\",\"operating\",\"operating\",\"operating\",\"operating\",\"operating\",\"operating\",\"operating\",\"operating\",\"operating\",\"operating\",\"operating\",\"operating\",\"operating\",\"operating\",\"operating\",\"operating\",\"operating\",\"acquired\",\"operating\",\"operating\",\"operating\",\"operating\",\"operating\",\"operating\",\"operating\",\"operating\",\"operating\",\"operating\",\"operating\",\"operating\",\"operating\",\"operating\",\"operating\",\"operating\",\"operating\",\"operating\",\"operating\",\"operating\",\"operating\",\"operating\",\"operating\",\"closed\",\"operating\",\"operating\",\"operating\",\"operating\",\"operating\",\"operating\",\"operating\",\"operating\",\"operating\",\"operating\",\"operating\",\"operating\",\"operating\",\"operating\",\"operating\",\"operating\",\"operating\",\"operating\",\"operating\",\"closed\",\"operating\",\"operating\",\"operating\",\"operating\",\"operating\",\"operating\",\"operating\",\"operating\",\"operating\",\"operating\",\"operating\",\"operating\",\"operating\",\"operating\",\"operating\",\"operating\",\"operating\",\"operating\",\"operating\",\"operating\",\"operating\",\"operating\",\"operating\",\"operating\",\"operating\",\"acquired\",\"operating\",\"operating\",\"closed\",\"operating\",\"operating\",\"operating\",\"operating\",\"operating\",\"operating\",\"operating\",\"operating\",\"operating\",\"operating\",\"operating\",\"operating\",\"operating\",\"operating\",\"operating\",\"operating\",\"operating\",\"closed\",\"operating\"],\"type\":\"pie\",\"textposition\":\"outside\"}],                        {\"template\":{\"data\":{\"bar\":[{\"error_x\":{\"color\":\"#2a3f5f\"},\"error_y\":{\"color\":\"#2a3f5f\"},\"marker\":{\"line\":{\"color\":\"#E5ECF6\",\"width\":0.5},\"pattern\":{\"fillmode\":\"overlay\",\"size\":10,\"solidity\":0.2}},\"type\":\"bar\"}],\"barpolar\":[{\"marker\":{\"line\":{\"color\":\"#E5ECF6\",\"width\":0.5},\"pattern\":{\"fillmode\":\"overlay\",\"size\":10,\"solidity\":0.2}},\"type\":\"barpolar\"}],\"carpet\":[{\"aaxis\":{\"endlinecolor\":\"#2a3f5f\",\"gridcolor\":\"white\",\"linecolor\":\"white\",\"minorgridcolor\":\"white\",\"startlinecolor\":\"#2a3f5f\"},\"baxis\":{\"endlinecolor\":\"#2a3f5f\",\"gridcolor\":\"white\",\"linecolor\":\"white\",\"minorgridcolor\":\"white\",\"startlinecolor\":\"#2a3f5f\"},\"type\":\"carpet\"}],\"choropleth\":[{\"colorbar\":{\"outlinewidth\":0,\"ticks\":\"\"},\"type\":\"choropleth\"}],\"contour\":[{\"colorbar\":{\"outlinewidth\":0,\"ticks\":\"\"},\"colorscale\":[[0.0,\"#0d0887\"],[0.1111111111111111,\"#46039f\"],[0.2222222222222222,\"#7201a8\"],[0.3333333333333333,\"#9c179e\"],[0.4444444444444444,\"#bd3786\"],[0.5555555555555556,\"#d8576b\"],[0.6666666666666666,\"#ed7953\"],[0.7777777777777778,\"#fb9f3a\"],[0.8888888888888888,\"#fdca26\"],[1.0,\"#f0f921\"]],\"type\":\"contour\"}],\"contourcarpet\":[{\"colorbar\":{\"outlinewidth\":0,\"ticks\":\"\"},\"type\":\"contourcarpet\"}],\"heatmap\":[{\"colorbar\":{\"outlinewidth\":0,\"ticks\":\"\"},\"colorscale\":[[0.0,\"#0d0887\"],[0.1111111111111111,\"#46039f\"],[0.2222222222222222,\"#7201a8\"],[0.3333333333333333,\"#9c179e\"],[0.4444444444444444,\"#bd3786\"],[0.5555555555555556,\"#d8576b\"],[0.6666666666666666,\"#ed7953\"],[0.7777777777777778,\"#fb9f3a\"],[0.8888888888888888,\"#fdca26\"],[1.0,\"#f0f921\"]],\"type\":\"heatmap\"}],\"heatmapgl\":[{\"colorbar\":{\"outlinewidth\":0,\"ticks\":\"\"},\"colorscale\":[[0.0,\"#0d0887\"],[0.1111111111111111,\"#46039f\"],[0.2222222222222222,\"#7201a8\"],[0.3333333333333333,\"#9c179e\"],[0.4444444444444444,\"#bd3786\"],[0.5555555555555556,\"#d8576b\"],[0.6666666666666666,\"#ed7953\"],[0.7777777777777778,\"#fb9f3a\"],[0.8888888888888888,\"#fdca26\"],[1.0,\"#f0f921\"]],\"type\":\"heatmapgl\"}],\"histogram\":[{\"marker\":{\"pattern\":{\"fillmode\":\"overlay\",\"size\":10,\"solidity\":0.2}},\"type\":\"histogram\"}],\"histogram2d\":[{\"colorbar\":{\"outlinewidth\":0,\"ticks\":\"\"},\"colorscale\":[[0.0,\"#0d0887\"],[0.1111111111111111,\"#46039f\"],[0.2222222222222222,\"#7201a8\"],[0.3333333333333333,\"#9c179e\"],[0.4444444444444444,\"#bd3786\"],[0.5555555555555556,\"#d8576b\"],[0.6666666666666666,\"#ed7953\"],[0.7777777777777778,\"#fb9f3a\"],[0.8888888888888888,\"#fdca26\"],[1.0,\"#f0f921\"]],\"type\":\"histogram2d\"}],\"histogram2dcontour\":[{\"colorbar\":{\"outlinewidth\":0,\"ticks\":\"\"},\"colorscale\":[[0.0,\"#0d0887\"],[0.1111111111111111,\"#46039f\"],[0.2222222222222222,\"#7201a8\"],[0.3333333333333333,\"#9c179e\"],[0.4444444444444444,\"#bd3786\"],[0.5555555555555556,\"#d8576b\"],[0.6666666666666666,\"#ed7953\"],[0.7777777777777778,\"#fb9f3a\"],[0.8888888888888888,\"#fdca26\"],[1.0,\"#f0f921\"]],\"type\":\"histogram2dcontour\"}],\"mesh3d\":[{\"colorbar\":{\"outlinewidth\":0,\"ticks\":\"\"},\"type\":\"mesh3d\"}],\"parcoords\":[{\"line\":{\"colorbar\":{\"outlinewidth\":0,\"ticks\":\"\"}},\"type\":\"parcoords\"}],\"pie\":[{\"automargin\":true,\"type\":\"pie\"}],\"scatter\":[{\"marker\":{\"colorbar\":{\"outlinewidth\":0,\"ticks\":\"\"}},\"type\":\"scatter\"}],\"scatter3d\":[{\"line\":{\"colorbar\":{\"outlinewidth\":0,\"ticks\":\"\"}},\"marker\":{\"colorbar\":{\"outlinewidth\":0,\"ticks\":\"\"}},\"type\":\"scatter3d\"}],\"scattercarpet\":[{\"marker\":{\"colorbar\":{\"outlinewidth\":0,\"ticks\":\"\"}},\"type\":\"scattercarpet\"}],\"scattergeo\":[{\"marker\":{\"colorbar\":{\"outlinewidth\":0,\"ticks\":\"\"}},\"type\":\"scattergeo\"}],\"scattergl\":[{\"marker\":{\"colorbar\":{\"outlinewidth\":0,\"ticks\":\"\"}},\"type\":\"scattergl\"}],\"scattermapbox\":[{\"marker\":{\"colorbar\":{\"outlinewidth\":0,\"ticks\":\"\"}},\"type\":\"scattermapbox\"}],\"scatterpolar\":[{\"marker\":{\"colorbar\":{\"outlinewidth\":0,\"ticks\":\"\"}},\"type\":\"scatterpolar\"}],\"scatterpolargl\":[{\"marker\":{\"colorbar\":{\"outlinewidth\":0,\"ticks\":\"\"}},\"type\":\"scatterpolargl\"}],\"scatterternary\":[{\"marker\":{\"colorbar\":{\"outlinewidth\":0,\"ticks\":\"\"}},\"type\":\"scatterternary\"}],\"surface\":[{\"colorbar\":{\"outlinewidth\":0,\"ticks\":\"\"},\"colorscale\":[[0.0,\"#0d0887\"],[0.1111111111111111,\"#46039f\"],[0.2222222222222222,\"#7201a8\"],[0.3333333333333333,\"#9c179e\"],[0.4444444444444444,\"#bd3786\"],[0.5555555555555556,\"#d8576b\"],[0.6666666666666666,\"#ed7953\"],[0.7777777777777778,\"#fb9f3a\"],[0.8888888888888888,\"#fdca26\"],[1.0,\"#f0f921\"]],\"type\":\"surface\"}],\"table\":[{\"cells\":{\"fill\":{\"color\":\"#EBF0F8\"},\"line\":{\"color\":\"white\"}},\"header\":{\"fill\":{\"color\":\"#C8D4E3\"},\"line\":{\"color\":\"white\"}},\"type\":\"table\"}]},\"layout\":{\"annotationdefaults\":{\"arrowcolor\":\"#2a3f5f\",\"arrowhead\":0,\"arrowwidth\":1},\"autotypenumbers\":\"strict\",\"coloraxis\":{\"colorbar\":{\"outlinewidth\":0,\"ticks\":\"\"}},\"colorscale\":{\"diverging\":[[0,\"#8e0152\"],[0.1,\"#c51b7d\"],[0.2,\"#de77ae\"],[0.3,\"#f1b6da\"],[0.4,\"#fde0ef\"],[0.5,\"#f7f7f7\"],[0.6,\"#e6f5d0\"],[0.7,\"#b8e186\"],[0.8,\"#7fbc41\"],[0.9,\"#4d9221\"],[1,\"#276419\"]],\"sequential\":[[0.0,\"#0d0887\"],[0.1111111111111111,\"#46039f\"],[0.2222222222222222,\"#7201a8\"],[0.3333333333333333,\"#9c179e\"],[0.4444444444444444,\"#bd3786\"],[0.5555555555555556,\"#d8576b\"],[0.6666666666666666,\"#ed7953\"],[0.7777777777777778,\"#fb9f3a\"],[0.8888888888888888,\"#fdca26\"],[1.0,\"#f0f921\"]],\"sequentialminus\":[[0.0,\"#0d0887\"],[0.1111111111111111,\"#46039f\"],[0.2222222222222222,\"#7201a8\"],[0.3333333333333333,\"#9c179e\"],[0.4444444444444444,\"#bd3786\"],[0.5555555555555556,\"#d8576b\"],[0.6666666666666666,\"#ed7953\"],[0.7777777777777778,\"#fb9f3a\"],[0.8888888888888888,\"#fdca26\"],[1.0,\"#f0f921\"]]},\"colorway\":[\"#636efa\",\"#EF553B\",\"#00cc96\",\"#ab63fa\",\"#FFA15A\",\"#19d3f3\",\"#FF6692\",\"#B6E880\",\"#FF97FF\",\"#FECB52\"],\"font\":{\"color\":\"#2a3f5f\"},\"geo\":{\"bgcolor\":\"white\",\"lakecolor\":\"white\",\"landcolor\":\"#E5ECF6\",\"showlakes\":true,\"showland\":true,\"subunitcolor\":\"white\"},\"hoverlabel\":{\"align\":\"left\"},\"hovermode\":\"closest\",\"mapbox\":{\"style\":\"light\"},\"paper_bgcolor\":\"white\",\"plot_bgcolor\":\"#E5ECF6\",\"polar\":{\"angularaxis\":{\"gridcolor\":\"white\",\"linecolor\":\"white\",\"ticks\":\"\"},\"bgcolor\":\"#E5ECF6\",\"radialaxis\":{\"gridcolor\":\"white\",\"linecolor\":\"white\",\"ticks\":\"\"}},\"scene\":{\"xaxis\":{\"backgroundcolor\":\"#E5ECF6\",\"gridcolor\":\"white\",\"gridwidth\":2,\"linecolor\":\"white\",\"showbackground\":true,\"ticks\":\"\",\"zerolinecolor\":\"white\"},\"yaxis\":{\"backgroundcolor\":\"#E5ECF6\",\"gridcolor\":\"white\",\"gridwidth\":2,\"linecolor\":\"white\",\"showbackground\":true,\"ticks\":\"\",\"zerolinecolor\":\"white\"},\"zaxis\":{\"backgroundcolor\":\"#E5ECF6\",\"gridcolor\":\"white\",\"gridwidth\":2,\"linecolor\":\"white\",\"showbackground\":true,\"ticks\":\"\",\"zerolinecolor\":\"white\"}},\"shapedefaults\":{\"line\":{\"color\":\"#2a3f5f\"}},\"ternary\":{\"aaxis\":{\"gridcolor\":\"white\",\"linecolor\":\"white\",\"ticks\":\"\"},\"baxis\":{\"gridcolor\":\"white\",\"linecolor\":\"white\",\"ticks\":\"\"},\"bgcolor\":\"#E5ECF6\",\"caxis\":{\"gridcolor\":\"white\",\"linecolor\":\"white\",\"ticks\":\"\"}},\"title\":{\"x\":0.05},\"xaxis\":{\"automargin\":true,\"gridcolor\":\"white\",\"linecolor\":\"white\",\"ticks\":\"\",\"title\":{\"standoff\":15},\"zerolinecolor\":\"white\",\"zerolinewidth\":2},\"yaxis\":{\"automargin\":true,\"gridcolor\":\"white\",\"linecolor\":\"white\",\"ticks\":\"\",\"title\":{\"standoff\":15},\"zerolinecolor\":\"white\",\"zerolinewidth\":2}}}},                        {\"responsive\": true}                    ).then(function(){\n",
              "                            \n",
              "var gd = document.getElementById('48996bc4-bab7-4217-a2a5-1f4c6d9155cb');\n",
              "var x = new MutationObserver(function (mutations, observer) {{\n",
              "        var display = window.getComputedStyle(gd).display;\n",
              "        if (!display || display === 'none') {{\n",
              "            console.log([gd, 'removed!']);\n",
              "            Plotly.purge(gd);\n",
              "            observer.disconnect();\n",
              "        }}\n",
              "}});\n",
              "\n",
              "// Listen for the removal of the full notebook cells\n",
              "var notebookContainer = gd.closest('#notebook-container');\n",
              "if (notebookContainer) {{\n",
              "    x.observe(notebookContainer, {childList: true});\n",
              "}}\n",
              "\n",
              "// Listen for the clearing of the current output cell\n",
              "var outputEl = gd.closest('.output');\n",
              "if (outputEl) {{\n",
              "    x.observe(outputEl, {childList: true});\n",
              "}}\n",
              "\n",
              "                        })                };                            </script>        </div>\n",
              "</body>\n",
              "</html>"
            ]
          },
          "metadata": {}
        }
      ]
    },
    {
      "cell_type": "code",
      "source": [
        "fig=px.histogram(x=indian_startup[\"region\"],color=indian_startup[\"status\"])\n",
        "fig.show()"
      ],
      "metadata": {
        "colab": {
          "base_uri": "https://localhost:8080/",
          "height": 542
        },
        "id": "70laYFC5Wj1D",
        "outputId": "b11a6d32-776e-4e30-b19f-0005c91d85a3"
      },
      "execution_count": 16,
      "outputs": [
        {
          "output_type": "display_data",
          "data": {
            "text/html": [
              "<html>\n",
              "<head><meta charset=\"utf-8\" /></head>\n",
              "<body>\n",
              "    <div>            <script src=\"https://cdnjs.cloudflare.com/ajax/libs/mathjax/2.7.5/MathJax.js?config=TeX-AMS-MML_SVG\"></script><script type=\"text/javascript\">if (window.MathJax) {MathJax.Hub.Config({SVG: {font: \"STIX-Web\"}});}</script>                <script type=\"text/javascript\">window.PlotlyConfig = {MathJaxConfig: 'local'};</script>\n",
              "        <script src=\"https://cdn.plot.ly/plotly-2.8.3.min.js\"></script>                <div id=\"d70f7f40-71c5-4134-bcb4-0fc8444c3077\" class=\"plotly-graph-div\" style=\"height:525px; width:100%;\"></div>            <script type=\"text/javascript\">                                    window.PLOTLYENV=window.PLOTLYENV || {};                                    if (document.getElementById(\"d70f7f40-71c5-4134-bcb4-0fc8444c3077\")) {                    Plotly.newPlot(                        \"d70f7f40-71c5-4134-bcb4-0fc8444c3077\",                        [{\"alignmentgroup\":\"True\",\"bingroup\":\"x\",\"hovertemplate\":\"color=operating<br>x=%{x}<br>count=%{y}<extra></extra>\",\"legendgroup\":\"operating\",\"marker\":{\"color\":\"#636efa\",\"pattern\":{\"shape\":\"\"}},\"name\":\"operating\",\"offsetgroup\":\"operating\",\"orientation\":\"v\",\"showlegend\":true,\"x\":[\"Mumbai\",\"Chennai\",\"New Delhi\",\"Bangalore\",\"Kanpur\",\"Bangalore\",\"New Delhi\",\"Udupi\",\"Vadodara\",\"Bangalore\",\"Mumbai\",\"Mumbai\",\"New Delhi\",\"Bangalore\",\"New Delhi\",\"Hyderabad\",\"New Delhi\",\"Bangalore\",\"Hyderabad\",\"Bangalore\",\"IND - Other\",\"New Delhi\",\"Mumbai\",\"New Delhi\",\"Bangalore\",\"Bangalore\",\"Mumbai\",\"Pune\",\"Kanpur\",\"Ahmedabad\",\"New Delhi\",\"Bangalore\",\"Hyderabad\",\"New Delhi\",\"Mumbai\",\"Pune\",\"New Delhi\",\"Pune\",\"Pune\",\"Bangalore\",\"Bangalore\",\"Pune\",\"Bangalore\",\"New Delhi\",\"New Delhi\",\"Bangalore\",\"Coimbatore\",\"Bangalore\",\"Bangalore\",\"Kolkata\",\"Bangalore\",\"Bhubaneswar\",\"Pune\",\"Mumbai\",\"Mumbai\",\"Hyderabad\",\"Bangalore\",\"Mumbai\",\"Bangalore\",\"New Delhi\",\"Delhi\",\"New Delhi\",\"Delhi\",\"Bhopal\",\"Mumbai\",\"Pune\",\"Trivandrum\",\"IND - Other\",\"Kolkata\",\"Bangalore\",\"Chennai\",\"Hyderabad\",\"New Delhi\",\"Bangalore\",\"New Delhi\",\"Bangalore\",\"Bangalore\",\"Bangalore\",\"New Delhi\",\"Bangalore\",\"Jaipur\",\"Mumbai\",\"Bangalore\",\"Chennai\",\"Chandigarh\",\"New Delhi\",\"Mumbai\",\"New Delhi\",\"Chennai\",\"Bangalore\",\"Bangalore\",\"Ahmedabad\",\"Bangalore\",\"New Delhi\",\"New Delhi\",\"New Delhi\",\"Bangalore\",\"Mumbai\",\"Pune\",\"New Delhi\",\"Chennai\",\"Bangalore\",\"Delhi\",\"IND - Other\",\"Chennai\",\"Mumbai\",\"Mumbai\",\"Bangalore\",\"Secunderabad\",\"Mumbai\",\"Delhi\",\"Bangalore\",\"IND - Other\",\"New Delhi\",\"Chennai\",\"New Delhi\",\"Bangalore\",\"Surat\",\"Mumbai\",\"Chennai\",\"Ahmedabad\",\"Hyderabad\",\"New Delhi\",\"Mumbai\",\"New Delhi\",\"Mumbai\",\"New Delhi\",\"New Delhi\",\"IND - Other\",\"Chennai\",\"Guwahati\",\"Bangalore\",\"Mumbai\",\"Jaipur\",\"Mumbai\",\"New Delhi\",\"Bangalore\",\"New Delhi\",\"New Delhi\",\"New Delhi\",\"Vadodara\",\"Chennai\",\"New Delhi\",\"Hyderabad\",\"Mumbai\",\"Mumbai\",\"Mumbai\",\"New Delhi\",\"Mumbai\",\"Bangalore\",\"New Delhi\",\"Mumbai\",\"Mumbai\",\"Bangalore\",\"Mumbai\",\"Chennai\",\"Bangalore\",\"Haryana\",\"Goa\",\"Hyderabad\",\"Bangalore\",\"Bangalore\",\"New Delhi\",\"New Delhi\",\"Mumbai\",\"Delhi\",\"Bangalore\",\"New Delhi\",\"Pune\",\"Bangalore\",\"Mangalore\",\"Bangalore\",\"New Delhi\",\"Bangalore\",\"Bangalore\",\"Bangalore\",\"Chennai\",\"Bangalore\",\"Pune\",\"Chennai\",\"Bangalore\",\"New Delhi\",\"New Delhi\",\"Delhi\",\"Bangalore\",\"Mumbai\",\"Bangalore\",\"Hyderabad\",\"Chennai\",\"Cochin\",\"Mumbai\",\"Chennai\",\"Chennai\",\"New Delhi\",\"New Delhi\",\"Hyderabad\",\"New Delhi\",\"IND - Other\",\"Kolkata\",\"Bangalore\",\"Bangalore\",\"Bangalore\",\"Bangalore\",\"New Delhi\",\"Mumbai\",\"Cochin\",\"Bangalore\",\"Bangalore\",\"New Delhi\",\"Bangalore\",\"New Delhi\",\"Mumbai\",\"Mumbai\",\"Mumbai\",\"Delhi\",\"New Delhi\",\"New Delhi\",\"New Delhi\",\"Mumbai\",\"Bangalore\",\"Chennai\",\"Bangalore\",\"Pune\",\"New Delhi\",\"New Delhi\",\"New Delhi\",\"New Delhi\",\"Bangalore\",\"Ahmedabad\",\"Bangalore\",\"Delhi\",\"New Delhi\",\"Bangalore\",\"Bangalore\",\"Mumbai\",\"Bangalore\",\"IND - Other\",\"New Delhi\",\"New Delhi\",\"Bangalore\",\"New Delhi\",\"Bangalore\",\"Pune\",\"Mumbai\",\"Mumbai\",\"Mumbai\",\"Chennai\",\"Hyderabad\",\"Bangalore\",\"Mumbai\",\"New Delhi\",\"Hyderabad\",\"Bangalore\",\"New Delhi\",\"Mumbai\",\"Bangalore\",\"New Delhi\",\"Mumbai\",\"Jaipur\",\"Bangalore\",\"Chennai\",\"Chennai\",\"New Delhi\",\"Bangalore\",\"Chennai\",\"Mumbai\",\"Bangalore\",\"Hyderabad\",\"Indore\",\"New Delhi\",\"Bangalore\",\"New Delhi\",\"Kolkata\",\"Bangalore\",\"New Delhi\",\"Trivandrum\",\"Bangalore\",\"New Delhi\",\"Mumbai\",\"Bangalore\",\"Bangalore\",\"Hyderabad\",\"Chennai\",\"Bangalore\",\"Cochin\",\"Bangalore\",\"Mumbai\",\"Pune\",\"Delhi\",\"Mumbai\",\"Pune\",\"Kolkata\",\"New Delhi\",\"Pune\",\"New Delhi\",\"Hyderabad\",\"Bangalore\",\"New Delhi\",\"Bangalore\",\"Hyderabad\",\"Haryana\",\"Mumbai\",\"Pune\",\"Mumbai\",\"New Delhi\",\"Bangalore\",\"Hyderabad\",\"Faridabad\",\"Pune\",\"Mumbai\",\"Delhi\",\"Bangalore\",\"New Delhi\",\"Bangalore\",\"Bangalore\",\"Kolkata\",\"Delhi\",\"Mumbai\",\"Ahmedabad\",\"New Delhi\",\"Pune\",\"Mumbai\",\"Bangalore\",\"Chennai\",\"New Delhi\",\"New Delhi\",\"Mumbai\",\"Hyderabad\",\"Delhi\",\"Bangalore\",\"Hyderabad\",\"New Delhi\",\"Bangalore\",\"Mumbai\",\"Mumbai\",\"New Delhi\",\"IND - Other\",\"Bangalore\",\"Ahmedabad\",\"New Delhi\",\"Bangalore\",\"New Delhi\",\"Mumbai\",\"Bangalore\",\"Bangalore\",\"IND - Other\",\"Vijayawada\",\"Nasik\",\"Bangalore\",\"New Delhi\",\"IND - Other\",\"Bangalore\",\"Mumbai\",\"Bangalore\",\"Mysore\",\"Bangalore\",\"Bangalore\",\"IND - Other\",\"Bangalore\",\"Bangalore\",\"Hyderabad\",\"New Delhi\",\"Bangalore\",\"Pune\",\"Ahmedabad\",\"Pune\",\"New Delhi\",\"Haryana\",\"New Delhi\",\"New Delhi\",\"Hyderabad\",\"Surat\",\"New Delhi\",\"Nasik\",\"Hyderabad\",\"Chennai\",\"Bangalore\",\"Chennai\",\"New Delhi\",\"Mumbai\",\"New Delhi\",\"Bangalore\",\"Jaipur\",\"Bangalore\",\"Pune\",\"Bangalore\",\"New Delhi\",\"Mumbai\",\"Vellore\",\"Mumbai\",\"Bangalore\",\"Bangalore\",\"Mumbai\",\"Bangalore\",\"New Delhi\",\"New Delhi\",\"Chennai\",\"Kochi\",\"Bangalore\",\"Bangalore\",\"Bangalore\",\"New Delhi\",\"Bangalore\",\"New Delhi\",\"IND - Other\",\"New Delhi\",\"Mumbai\",\"Haryana\",\"Bangalore\",\"Bangalore\",\"Bangalore\",\"Mumbai\",\"Bangalore\",\"New Delhi\",\"Hyderabad\",\"Hyderabad\",\"Pune\",\"New Delhi\",\"Haryana\",\"Jodhpur\",\"Mumbai\",\"New Delhi\",\"Bangalore\",\"Bangalore\",\"Bangalore\",\"Bangalore\",\"Delhi\",\"Pune\",\"Chennai\",\"Bangalore\",\"Bangalore\",\"New Delhi\",\"New Delhi\",\"Bangalore\",\"New Delhi\",\"New Delhi\",\"New Delhi\",\"New Delhi\",\"Mumbai\",\"New Delhi\",\"Hyderabad\",\"Bangalore\",\"Secunderabad\",\"IND - Other\",\"Bangalore\",\"New Delhi\",\"Hyderabad\",\"Mumbai\",\"Mumbai\",\"New Delhi\",\"Bangalore\",\"Mumbai\",\"Nagpur\",\"Mumbai\",\"Madhapur\",\"Kolkata\",\"Bangalore\",\"New Delhi\",\"Vadodara\",\"New Delhi\",\"Mumbai\",\"Jaipur\",\"Haryana\",\"Hyderabad\",\"Pune\",\"Bangalore\",\"Bangalore\",\"Bangalore\",\"New Delhi\",\"Haryana\",\"New Delhi\",\"Bangalore\",\"New Delhi\",\"Ghaziabad\",\"Mumbai\",\"Mumbai\",\"IND - Other\",\"Mumbai\",\"Mumbai\",\"Mumbai\",\"Hyderabad\",\"New Delhi\",\"Indore\",\"Bangalore\",\"New Delhi\",\"Mumbai\",\"Mumbai\",\"Delhi\",\"Pune\",\"New Delhi\",\"Bangalore\",\"Bangalore\",\"Ahmedabad\",\"Mumbai\",\"Pune\",\"New Delhi\",\"Mumbai\",\"New Delhi\",\"New Delhi\",\"New Delhi\",\"Mumbai\",\"Bangalore\",\"Mumbai\",\"Hyderabad\",\"Bangalore\",\"Bangalore\",\"Mumbai\",\"Bangalore\",\"Secunderabad\",\"New Delhi\",\"Mumbai\",\"Mumbai\",\"IND - Other\",\"Bangalore\",\"Mumbai\",\"Chennai\",\"Bangalore\",\"Bangalore\",\"Hyderabad\",\"Bangalore\",\"New Delhi\",\"Mumbai\",\"Mumbai\",\"Haryana\",\"Hyderabad\",\"Hyderabad\",\"New Delhi\",\"New Delhi\",\"Bangalore\",\"New Delhi\",\"Bangalore\",\"Bangalore\",\"Hyderabad\",\"Kochi\",\"Mumbai\",\"Mumbai\",\"Bangalore\",\"New Delhi\",\"New Delhi\",\"Bangalore\",\"New Delhi\",\"Bangalore\",\"Pune\",\"New Delhi\",\"Mumbai\",\"New Delhi\",\"Mumbai\",\"Bangalore\",\"Mumbai\",\"Mumbai\",\"Pune\",\"Bangalore\",\"Mumbai\",\"Mumbai\",\"Bangalore\",\"New Delhi\",\"Bangalore\",\"Mumbai\",\"Bangalore\",\"Mumbai\",\"Pune\",\"Bangalore\",\"New Delhi\",\"Bangalore\",\"Mumbai\",\"Mumbai\",\"Mumbai\",\"New Delhi\",\"New Delhi\",\"Haryana\",\"Chennai\",\"Mumbai\",\"Chennai\",\"Indore\",\"Mumbai\",\"Bangalore\",\"Mumbai\",\"Kolkata\",\"Bangalore\",\"Hyderabad\",\"Haryana\",\"Mumbai\",\"New Delhi\",\"Bangalore\",\"Hyderabad\",\"Mumbai\",\"Pune\",\"Mumbai\",\"Chennai\",\"New Delhi\",\"Ahmedabad\",\"New Delhi\",\"New Delhi\",\"Mumbai\",\"New Delhi\",\"Bangalore\",\"Chennai\",\"New Delhi\",\"Haryana\",\"Bangalore\",\"New Delhi\",\"New Delhi\",\"IND - Other\",\"New Delhi\",\"Mumbai\",\"Chennai\",\"New Delhi\",\"New Delhi\",\"Bangalore\",\"Bangalore\",\"Mumbai\",\"Bangalore\",\"Bangalore\",\"Delhi\",\"Pune\",\"New Delhi\",\"IND - Other\",\"Mumbai\",\"Bangalore\",\"Bangalore\",\"New Delhi\",\"Mumbai\",\"New Delhi\",\"Bangalore\",\"Bangalore\",\"Bangalore\",\"Bangalore\",\"Mumbai\",\"Delhi\",\"Delhi\",\"New Delhi\",\"New Delhi\",\"Bangalore\",\"Bangalore\",\"Bangalore\",\"Bangalore\",\"Bangalore\",\"Bangalore\",\"Mumbai\",\"Mohali\",\"New Delhi\",\"Kolkata\",\"Mumbai\",\"Bangalore\",\"Hyderabad\",\"New Delhi\",\"Mumbai\",\"Hyderabad\",\"Bangalore\",\"New Delhi\",\"Bangalore\",\"Bangalore\",\"Pune\",\"IND - Other\",\"Pune\",\"Ahmedabad\",\"New Delhi\",\"New Delhi\",\"Chandigarh\",\"Mumbai\",\"Secunderabad\",\"Bangalore\",\"Mumbai\",\"Kolkata\",\"Pune\",\"IND - Other\",\"New Delhi\",\"Kolkata\",\"New Delhi\",\"Mumbai\",\"New Delhi\",\"Pune\",\"Ahmedabad\",\"Nagpur\",\"Haryana\",\"Delhi\",\"Bangalore\",\"New Delhi\",\"New Delhi\",\"New Delhi\",\"Mumbai\",\"Chennai\",\"New Delhi\",\"New Delhi\",\"Pune\",\"Bangalore\",\"Bangalore\",\"IND - Other\",\"Hyderabad\",\"Bangalore\",\"Delhi\",\"Ahmedabad\",\"New Delhi\",\"Ahmedabad\",\"Hubli\",\"Bangalore\",\"New Delhi\",\"New Delhi\",\"New Delhi\",\"Hyderabad\",\"New Delhi\",\"New Delhi\",\"New Delhi\",\"New Delhi\",\"Bangalore\",\"Hyderabad\",\"Ahmedabad\",\"New Delhi\",\"Ahmedabad\",\"Mumbai\",\"New Delhi\",\"Bangalore\",\"Mumbai\",\"Chennai\",\"New Delhi\",\"New Delhi\",\"Bangalore\",\"Bangalore\",\"New Delhi\",\"Bangalore\",\"Trivandrum\",\"Chandigarh\",\"Mumbai\",\"Bangalore\",\"Mumbai\",\"Mumbai\",\"Mumbai\",\"New Delhi\",\"Mumbai\",\"Mumbai\",\"Bangalore\",\"Mumbai\",\"New Delhi\",\"Haryana\",\"Mumbai\",\"New Delhi\",\"Indore\",\"Bangalore\",\"Ahmedabad\",\"New Delhi\",\"Bangalore\",\"Bangalore\",\"Mumbai\",\"New Delhi\",\"Mohali\",\"Hyderabad\",\"Bangalore\",\"Bangalore\",\"Bangalore\",\"Hyderabad\",\"IND - Other\",\"Mumbai\",\"Pune\",\"Chennai\",\"Jaipur\",\"Hyderabad\",\"New Delhi\",\"Pune\",\"Bangalore\",\"Bangalore\",\"New Delhi\",\"Mumbai\",\"Bangalore\",\"Bangalore\",\"Bangalore\",\"Bhubaneswar\",\"Thiruvananthapuram\",\"Bangalore\",\"Bangalore\",\"New Delhi\",\"New Delhi\",\"Hyderabad\",\"New Delhi\",\"New Delhi\",\"Mumbai\",\"Bangalore\",\"Ahmedabad\",\"Mumbai\",\"New Delhi\",\"IND - Other\",\"Mumbai\",\"Bangalore\",\"New Delhi\",\"New Delhi\",\"Bhubaneswar\",\"Bangalore\",\"Kochi\",\"Bangalore\",\"Mumbai\",\"New Delhi\",\"Mumbai\",\"Vellore\",\"Cochin\",\"Bangalore\",\"Bangalore\",\"Bangalore\",\"Bangalore\",\"Bangalore\",\"Madhapur\",\"Bangalore\",\"Mumbai\",\"Mumbai\",\"Chennai\",\"Bangalore\",\"New Delhi\",\"Mumbai\",\"New Delhi\",\"Bangalore\",\"New Delhi\",\"Bangalore\",\"Hyderabad\",\"New Delhi\",\"New Delhi\",\"Delhi\",\"Mumbai\",\"Bangalore\",\"Bangalore\",\"Chennai\",\"Bangalore\",\"Hyderabad\",\"New Delhi\",\"Hyderabad\",\"Mumbai\",\"Delhi\",\"Mumbai\",\"New Delhi\",\"Mumbai\",\"Chennai\",\"IND - Other\",\"Mumbai\",\"New Delhi\",\"Ahmedabad\",\"Bangalore\",\"Ahmedabad\",\"Bangalore\",\"IND - Other\",\"New Delhi\",\"New Delhi\",\"Hyderabad\",\"Nagpur\",\"Mumbai\",\"Bangalore\",\"Bangalore\",\"Chennai\",\"Bangalore\",\"Mumbai\",\"Pune\",\"New Delhi\",\"Mumbai\",\"New Delhi\",\"Bangalore\",\"IND - Other\",\"Delhi\",\"Mumbai\",\"Bangalore\",\"Hyderabad\",\"Bangalore\",\"Cochin\",\"Mumbai\",\"New Delhi\",\"New Delhi\",\"New Delhi\",\"Bangalore\",\"Mumbai\",\"Bangalore\",\"IND - Other\",\"Cochin\",\"Bangalore\",\"New Delhi\",\"Chennai\",\"Bangalore\",\"Bangalore\",\"Mumbai\",\"Bangalore\",\"New Delhi\",\"Mumbai\",\"Thane\",\"Bangalore\",\"Hyderabad\",\"Pune\",\"Hyderabad\",\"New Delhi\",\"Secunderabad\",\"Chennai\",\"New Delhi\",\"Bangalore\",\"Mumbai\",\"New Delhi\",\"Delhi\",\"Mumbai\",\"Hyderabad\",\"Mumbai\",\"New Delhi\",\"Bangalore\",\"Bangalore\",\"New Delhi\",\"Bangalore\",\"New Delhi\",\"Bangalore\",\"Jaipur\",\"Chennai\",\"Bangalore\",\"Delhi\",\"Mumbai\",\"Mumbai\",\"New Delhi\",\"New Delhi\",\"Bangalore\",\"Kolkata\",\"Bangalore\",\"Thane\",\"Bangalore\",\"Bangalore\",\"Mumbai\",\"New Delhi\",\"Delhi\",\"Mumbai\",\"Mumbai\",\"Mumbai\",\"New Delhi\",\"New Delhi\",\"Chennai\",\"New Delhi\",\"New Delhi\",\"Mumbai\",\"Delhi\",\"New Delhi\",\"Mumbai\",\"Mumbai\",\"Chennai\",\"Mumbai\",\"Bangalore\",\"Bangalore\",\"Mumbai\",\"Mumbai\",\"Bangalore\",\"Bangalore\",\"New Delhi\",\"Haryana\",\"New Delhi\",\"IND - Other\",\"Mumbai\",\"New Delhi\",\"New Delhi\",\"Mumbai\",\"New Delhi\",\"New Delhi\",\"Bangalore\",\"Bangalore\",\"New Delhi\",\"Bangalore\",\"Hyderabad\",\"Mumbai\",\"Goa\",\"Mumbai\",\"Bangalore\",\"Bangalore\",\"Pune\",\"New Delhi\",\"Mumbai\",\"Bangalore\",\"Mumbai\",\"Mumbai\",\"Bangalore\",\"IND - Other\",\"Mumbai\",\"New Delhi\",\"Haryana\",\"Mumbai\",\"Bangalore\",\"Kochi\",\"Chennai\",\"New Delhi\",\"Mumbai\",\"New Delhi\",\"Pune\",\"IND - Other\",\"Mumbai\",\"Chennai\",\"Bangalore\",\"Hyderabad\",\"Jaipur\",\"Pune\",\"New Delhi\",\"Bangalore\",\"Mumbai\",\"Mumbai\",\"New Delhi\",\"Bangalore\",\"Bangalore\",\"Bangalore\",\"Cochin\",\"New Delhi\",\"Hyderabad\",\"Chennai\",\"New Delhi\",\"Bangalore\",\"Mumbai\",\"Chennai\",\"New Delhi\",\"Chennai\",\"Hyderabad\",\"Mumbai\",\"New Delhi\",\"Mumbai\",\"IND - Other\",\"New Delhi\",\"Haryana\",\"New Delhi\",\"New Delhi\",\"Mumbai\",\"New Delhi\",\"New Delhi\",\"Hyderabad\",\"Mumbai\",\"New Delhi\",\"Pune\",\"Bangalore\",\"Chennai\",\"Bangalore\",\"New Delhi\",\"New Delhi\",\"Bangalore\",\"Bangalore\",\"Mumbai\",\"Bhubaneswar\",\"Bangalore\",\"IND - Other\",\"Bangalore\",\"Pune\",\"Pune\",\"Mumbai\",\"Bangalore\",\"New Delhi\",\"Chandigarh\",\"Hyderabad\",\"New Delhi\",\"New Delhi\",\"New Delhi\",\"New Delhi\",\"New Delhi\",\"New Delhi\",\"New Delhi\",\"Mumbai\",\"New Delhi\",\"Bhopal\",\"Chennai\",\"New Delhi\",\"Pune\",\"Pune\",\"Vadodara\",\"IND - Other\",\"New Delhi\",\"New Delhi\",\"New Delhi\",\"Bangalore\",\"Pune\",\"New Delhi\",\"Mumbai\",\"Bangalore\",\"Bangalore\",\"New Delhi\",\"Bangalore\",\"Mumbai\",\"New Delhi\",\"Ernakulam\",\"Mumbai\",\"Mumbai\",\"Mumbai\",\"Delhi\",\"IND - Other\",\"Mumbai\",\"Bangalore\",\"Ahmedabad\",\"Bangalore\",\"IND - Other\",\"New Delhi\",\"Mumbai\",\"Ahmedabad\",\"Bangalore\",\"New Delhi\",\"Chennai\",\"Mumbai\",\"Bangalore\",\"Hyderabad\",\"Mumbai\",\"New Delhi\",\"New Delhi\",\"Mumbai\",\"New Delhi\",\"New Delhi\",\"Bangalore\",\"Bangalore\",\"New Delhi\",\"Pune\",\"Mysore\",\"Bangalore\",\"New Delhi\",\"Bangalore\",\"Bangalore\",\"Mumbai\",\"Chennai\",\"Bangalore\",\"New Delhi\",\"Bangalore\",\"Pune\",\"Delhi\",\"Bangalore\",\"Bangalore\",\"New Delhi\",\"Bangalore\",\"New Delhi\",\"Bangalore\",\"Ahmedabad\",\"Mumbai\",\"New Delhi\",\"New Delhi\",\"Bangalore\",\"Mumbai\",\"New Delhi\",\"Mumbai\",\"Pune\",\"Delhi\",\"Pune\",\"New Delhi\",\"IND - Other\",\"Bangalore\",\"Pune\",\"Thrissur\",\"Mumbai\",\"New Delhi\",\"Haryana\",\"Bangalore\",\"Cochin\",\"Bangalore\",\"Bangalore\",\"Bangalore\",\"Mumbai\",\"New Delhi\",\"Kochi\",\"New Delhi\",\"New Delhi\",\"Mumbai\",\"Mumbai\",\"New Delhi\",\"Bangalore\",\"Kochi\",\"Bangalore\",\"Chennai\",\"Bangalore\",\"Mumbai\",\"Mumbai\",\"Hyderabad\",\"Delhi\",\"Bangalore\",\"Mumbai\",\"Hyderabad\",\"New Delhi\",\"Mumbai\",\"Hyderabad\",\"Bangalore\",\"Chennai\",\"Hyderabad\",\"New Delhi\",\"Mumbai\",\"Bangalore\",\"Jabalpur\",\"New Delhi\",\"Bangalore\",\"Bangalore\",\"Bangalore\",\"Bangalore\",\"Bangalore\",\"Bangalore\",\"Coimbatore\",\"Mumbai\",\"Bangalore\",\"Hyderabad\",\"New Delhi\",\"Bangalore\",\"Pune\",\"Bangalore\",\"Indore\",\"Delhi\",\"New Delhi\",\"Hyderabad\",\"Bangalore\",\"Mumbai\",\"Bangalore\",\"Mumbai\",\"Mumbai\",\"Mumbai\",\"Hyderabad\",\"New Delhi\",\"IND - Other\",\"Pune\",\"IND - Other\",\"Bangalore\",\"Nagpur\",\"Chennai\",\"Hyderabad\",\"Mumbai\",\"IND - Other\",\"Mumbai\",\"Bangalore\",\"New Delhi\",\"Indore\",\"Bangalore\",\"Bangalore\",\"Bangalore\",\"Bangalore\",\"Bangalore\",\"Mumbai\",\"Bangalore\",\"New Delhi\",\"Bangalore\",\"Mumbai\",\"Mumbai\",\"Bangalore\",\"Haryana\",\"Bangalore\",\"Bangalore\",\"Bangalore\",\"IND - Other\",\"Mumbai\",\"Mumbai\",\"New Delhi\",\"Mumbai\",\"Bangalore\",\"Bangalore\",\"Mumbai\",\"Bangalore\",\"New Delhi\",\"Nagpur\",\"Chennai\",\"Pune\",\"Mumbai\",\"Bangalore\",\"Mumbai\",\"Mumbai\",\"Ghaziabad\",\"New Delhi\",\"Bangalore\",\"Mumbai\",\"Bangalore\",\"New Delhi\",\"Bangalore\",\"Bangalore\",\"Delhi\",\"Chennai\",\"New Delhi\",\"Mumbai\",\"New Delhi\",\"Hyderabad\",\"Bangalore\",\"Bangalore\",\"Bangalore\",\"Hyderabad\",\"Bangalore\",\"Kolkata\",\"Chennai\",\"Mumbai\",\"New Delhi\",\"Bangalore\",\"Madurai\",\"Mumbai\",\"Bangalore\",\"New Delhi\",\"Bangalore\",\"Bangalore\",\"IND - Other\",\"Bangalore\",\"IND - Other\",\"Bangalore\",\"Bangalore\",\"Delhi\",\"Bangalore\",\"New Delhi\",\"IND - Other\",\"IND - Other\",\"Bangalore\",\"Haryana\",\"New Delhi\",\"New Delhi\",\"Ludhiana\",\"Bangalore\",\"Pune\",\"Belgaum\",\"New Delhi\",\"Bangalore\",\"New Delhi\",\"New Delhi\",\"Mumbai\",\"Bangalore\",\"Hyderabad\",\"Bangalore\",\"Bangalore\",\"Kolkata\",\"Bangalore\",\"Bangalore\",\"Bangalore\",\"Bangalore\",\"Mumbai\",\"Bangalore\",\"Chennai\",\"Bangalore\",\"New Delhi\",\"Hyderabad\",\"New Delhi\",\"Bangalore\",\"Bangalore\",\"New Delhi\",\"Bangalore\",\"Delhi\",\"Bangalore\",\"New Delhi\",\"Mumbai\",\"Bangalore\",\"New Delhi\",\"Mumbai\",\"Delhi\",\"Bangalore\",\"Hyderabad\",\"Chennai\",\"Hyderabad\",\"New Delhi\",\"New Delhi\",\"New Delhi\",\"New Delhi\",\"Chennai\",\"Mumbai\",\"Mumbai\",\"New Delhi\",\"New Delhi\",\"New Delhi\",\"Bangalore\",\"Bangalore\",\"Bangalore\",\"Bangalore\",\"Mumbai\",\"Mumbai\",\"Mumbai\",\"Bangalore\",\"New Delhi\",\"Mumbai\",\"New Delhi\",\"Bangalore\",\"Mumbai\",\"Mumbai\",\"Delhi\",\"Mumbai\",\"New Delhi\",\"Mumbai\",\"New Delhi\",\"Secunderabad\",\"New Delhi\",\"New Delhi\",\"Hyderabad\",\"Bangalore\",\"Mumbai\",\"New Delhi\",\"Bangalore\",\"Hyderabad\",\"New Delhi\",\"Mumbai\",\"New Delhi\",\"Mumbai\",\"Mumbai\",\"Bangalore\",\"Pune\",\"Bangalore\",\"Mumbai\",\"Delhi\",\"New Delhi\",\"New Delhi\",\"New Delhi\",\"New Delhi\",\"Bangalore\",\"Bangalore\",\"Mumbai\",\"Mumbai\",\"Haryana\",\"Bangalore\",\"Bangalore\",\"Bangalore\",\"Pune\",\"Mumbai\",\"Delhi\",\"Hyderabad\",\"Hyderabad\",\"Mumbai\",\"Mumbai\",\"Bangalore\",\"Bangalore\",\"Hyderabad\",\"Mumbai\",\"Bangalore\",\"New Delhi\",\"New Delhi\",\"IND - Other\",\"New Delhi\",\"Jodhpur\",\"Bangalore\",\"Bangalore\",\"Bangalore\",\"Mumbai\",\"Mumbai\",\"Bangalore\",\"New Delhi\",\"Jaipur\",\"New Delhi\",\"New Delhi\",\"IND - Other\",\"Chennai\"],\"xaxis\":\"x\",\"yaxis\":\"y\",\"type\":\"histogram\"},{\"alignmentgroup\":\"True\",\"bingroup\":\"x\",\"hovertemplate\":\"color=acquired<br>x=%{x}<br>count=%{y}<extra></extra>\",\"legendgroup\":\"acquired\",\"marker\":{\"color\":\"#EF553B\",\"pattern\":{\"shape\":\"\"}},\"name\":\"acquired\",\"offsetgroup\":\"acquired\",\"orientation\":\"v\",\"showlegend\":true,\"x\":[\"Bangalore\",\"New Delhi\",\"Hyderabad\",\"New Delhi\",\"Mumbai\",\"New Delhi\",\"New Delhi\",\"Mumbai\",\"Mumbai\",\"Jaipur\",\"Bangalore\",\"Ahmedabad\",\"Bangalore\",\"Bangalore\",\"Mumbai\",\"Chennai\",\"Mumbai\",\"Bangalore\",\"Bangalore\",\"Trivandrum\",\"IND - Other\",\"Bangalore\",\"New Delhi\",\"Mumbai\",\"Haryana\",\"Bangalore\",\"Bangalore\",\"New Delhi\",\"Bangalore\",\"Bangalore\",\"Mumbai\",\"New Delhi\",\"Mumbai\",\"New Delhi\",\"Bangalore\",\"Chennai\",\"Bangalore\",\"Mumbai\",\"Bangalore\",\"Bangalore\",\"Chennai\",\"Pune\",\"Bangalore\",\"Bangalore\",\"Mumbai\",\"Mumbai\",\"Bangalore\",\"Bangalore\"],\"xaxis\":\"x\",\"yaxis\":\"y\",\"type\":\"histogram\"},{\"alignmentgroup\":\"True\",\"bingroup\":\"x\",\"hovertemplate\":\"color=closed<br>x=%{x}<br>count=%{y}<extra></extra>\",\"legendgroup\":\"closed\",\"marker\":{\"color\":\"#00cc96\",\"pattern\":{\"shape\":\"\"}},\"name\":\"closed\",\"offsetgroup\":\"closed\",\"orientation\":\"v\",\"showlegend\":true,\"x\":[\"Chandigarh\",\"Mumbai\",\"New Delhi\",\"New Delhi\",\"New Delhi\",\"New Delhi\",\"Bangalore\",\"Hyderabad\",\"Ghaziabad\",\"Mumbai\",\"New Delhi\",\"Chennai\",\"Chennai\",\"Chennai\",\"Mumbai\",\"Mumbai\",\"Coimbatore\",\"New Delhi\",\"Bangalore\",\"Bangalore\",\"New Delhi\",\"New Delhi\",\"Ahmedabad\",\"Mumbai\",\"Mumbai\",\"New Delhi\",\"Mumbai\",\"Bangalore\",\"Delhi\",\"Bangalore\",\"Mumbai\",\"Mumbai\",\"Bangalore\",\"Hyderabad\",\"New Delhi\",\"Chennai\",\"Mumbai\",\"Chennai\",\"Bangalore\",\"New Delhi\",\"Bangalore\",\"Hyderabad\",\"Thane\",\"Bangalore\",\"Mumbai\",\"Bangalore\",\"Bangalore\",\"Bangalore\",\"Bangalore\",\"New Delhi\",\"Mumbai\",\"Vellore\",\"Bangalore\",\"Kolkata\",\"Mumbai\",\"Mumbai\",\"Bangalore\",\"Bangalore\",\"Bangalore\",\"Ahmedabad\"],\"xaxis\":\"x\",\"yaxis\":\"y\",\"type\":\"histogram\"},{\"alignmentgroup\":\"True\",\"bingroup\":\"x\",\"hovertemplate\":\"color=ipo<br>x=%{x}<br>count=%{y}<extra></extra>\",\"legendgroup\":\"ipo\",\"marker\":{\"color\":\"#ab63fa\",\"pattern\":{\"shape\":\"\"}},\"name\":\"ipo\",\"offsetgroup\":\"ipo\",\"orientation\":\"v\",\"showlegend\":true,\"x\":[\"Chennai\",\"Bangalore\",\"New Delhi\",\"Hyderabad\",\"Hyderabad\",\"Mumbai\",\"New Delhi\",\"New Delhi\",\"Pune\",\"Ahmedabad\",\"Bangalore\"],\"xaxis\":\"x\",\"yaxis\":\"y\",\"type\":\"histogram\"}],                        {\"template\":{\"data\":{\"bar\":[{\"error_x\":{\"color\":\"#2a3f5f\"},\"error_y\":{\"color\":\"#2a3f5f\"},\"marker\":{\"line\":{\"color\":\"#E5ECF6\",\"width\":0.5},\"pattern\":{\"fillmode\":\"overlay\",\"size\":10,\"solidity\":0.2}},\"type\":\"bar\"}],\"barpolar\":[{\"marker\":{\"line\":{\"color\":\"#E5ECF6\",\"width\":0.5},\"pattern\":{\"fillmode\":\"overlay\",\"size\":10,\"solidity\":0.2}},\"type\":\"barpolar\"}],\"carpet\":[{\"aaxis\":{\"endlinecolor\":\"#2a3f5f\",\"gridcolor\":\"white\",\"linecolor\":\"white\",\"minorgridcolor\":\"white\",\"startlinecolor\":\"#2a3f5f\"},\"baxis\":{\"endlinecolor\":\"#2a3f5f\",\"gridcolor\":\"white\",\"linecolor\":\"white\",\"minorgridcolor\":\"white\",\"startlinecolor\":\"#2a3f5f\"},\"type\":\"carpet\"}],\"choropleth\":[{\"colorbar\":{\"outlinewidth\":0,\"ticks\":\"\"},\"type\":\"choropleth\"}],\"contour\":[{\"colorbar\":{\"outlinewidth\":0,\"ticks\":\"\"},\"colorscale\":[[0.0,\"#0d0887\"],[0.1111111111111111,\"#46039f\"],[0.2222222222222222,\"#7201a8\"],[0.3333333333333333,\"#9c179e\"],[0.4444444444444444,\"#bd3786\"],[0.5555555555555556,\"#d8576b\"],[0.6666666666666666,\"#ed7953\"],[0.7777777777777778,\"#fb9f3a\"],[0.8888888888888888,\"#fdca26\"],[1.0,\"#f0f921\"]],\"type\":\"contour\"}],\"contourcarpet\":[{\"colorbar\":{\"outlinewidth\":0,\"ticks\":\"\"},\"type\":\"contourcarpet\"}],\"heatmap\":[{\"colorbar\":{\"outlinewidth\":0,\"ticks\":\"\"},\"colorscale\":[[0.0,\"#0d0887\"],[0.1111111111111111,\"#46039f\"],[0.2222222222222222,\"#7201a8\"],[0.3333333333333333,\"#9c179e\"],[0.4444444444444444,\"#bd3786\"],[0.5555555555555556,\"#d8576b\"],[0.6666666666666666,\"#ed7953\"],[0.7777777777777778,\"#fb9f3a\"],[0.8888888888888888,\"#fdca26\"],[1.0,\"#f0f921\"]],\"type\":\"heatmap\"}],\"heatmapgl\":[{\"colorbar\":{\"outlinewidth\":0,\"ticks\":\"\"},\"colorscale\":[[0.0,\"#0d0887\"],[0.1111111111111111,\"#46039f\"],[0.2222222222222222,\"#7201a8\"],[0.3333333333333333,\"#9c179e\"],[0.4444444444444444,\"#bd3786\"],[0.5555555555555556,\"#d8576b\"],[0.6666666666666666,\"#ed7953\"],[0.7777777777777778,\"#fb9f3a\"],[0.8888888888888888,\"#fdca26\"],[1.0,\"#f0f921\"]],\"type\":\"heatmapgl\"}],\"histogram\":[{\"marker\":{\"pattern\":{\"fillmode\":\"overlay\",\"size\":10,\"solidity\":0.2}},\"type\":\"histogram\"}],\"histogram2d\":[{\"colorbar\":{\"outlinewidth\":0,\"ticks\":\"\"},\"colorscale\":[[0.0,\"#0d0887\"],[0.1111111111111111,\"#46039f\"],[0.2222222222222222,\"#7201a8\"],[0.3333333333333333,\"#9c179e\"],[0.4444444444444444,\"#bd3786\"],[0.5555555555555556,\"#d8576b\"],[0.6666666666666666,\"#ed7953\"],[0.7777777777777778,\"#fb9f3a\"],[0.8888888888888888,\"#fdca26\"],[1.0,\"#f0f921\"]],\"type\":\"histogram2d\"}],\"histogram2dcontour\":[{\"colorbar\":{\"outlinewidth\":0,\"ticks\":\"\"},\"colorscale\":[[0.0,\"#0d0887\"],[0.1111111111111111,\"#46039f\"],[0.2222222222222222,\"#7201a8\"],[0.3333333333333333,\"#9c179e\"],[0.4444444444444444,\"#bd3786\"],[0.5555555555555556,\"#d8576b\"],[0.6666666666666666,\"#ed7953\"],[0.7777777777777778,\"#fb9f3a\"],[0.8888888888888888,\"#fdca26\"],[1.0,\"#f0f921\"]],\"type\":\"histogram2dcontour\"}],\"mesh3d\":[{\"colorbar\":{\"outlinewidth\":0,\"ticks\":\"\"},\"type\":\"mesh3d\"}],\"parcoords\":[{\"line\":{\"colorbar\":{\"outlinewidth\":0,\"ticks\":\"\"}},\"type\":\"parcoords\"}],\"pie\":[{\"automargin\":true,\"type\":\"pie\"}],\"scatter\":[{\"marker\":{\"colorbar\":{\"outlinewidth\":0,\"ticks\":\"\"}},\"type\":\"scatter\"}],\"scatter3d\":[{\"line\":{\"colorbar\":{\"outlinewidth\":0,\"ticks\":\"\"}},\"marker\":{\"colorbar\":{\"outlinewidth\":0,\"ticks\":\"\"}},\"type\":\"scatter3d\"}],\"scattercarpet\":[{\"marker\":{\"colorbar\":{\"outlinewidth\":0,\"ticks\":\"\"}},\"type\":\"scattercarpet\"}],\"scattergeo\":[{\"marker\":{\"colorbar\":{\"outlinewidth\":0,\"ticks\":\"\"}},\"type\":\"scattergeo\"}],\"scattergl\":[{\"marker\":{\"colorbar\":{\"outlinewidth\":0,\"ticks\":\"\"}},\"type\":\"scattergl\"}],\"scattermapbox\":[{\"marker\":{\"colorbar\":{\"outlinewidth\":0,\"ticks\":\"\"}},\"type\":\"scattermapbox\"}],\"scatterpolar\":[{\"marker\":{\"colorbar\":{\"outlinewidth\":0,\"ticks\":\"\"}},\"type\":\"scatterpolar\"}],\"scatterpolargl\":[{\"marker\":{\"colorbar\":{\"outlinewidth\":0,\"ticks\":\"\"}},\"type\":\"scatterpolargl\"}],\"scatterternary\":[{\"marker\":{\"colorbar\":{\"outlinewidth\":0,\"ticks\":\"\"}},\"type\":\"scatterternary\"}],\"surface\":[{\"colorbar\":{\"outlinewidth\":0,\"ticks\":\"\"},\"colorscale\":[[0.0,\"#0d0887\"],[0.1111111111111111,\"#46039f\"],[0.2222222222222222,\"#7201a8\"],[0.3333333333333333,\"#9c179e\"],[0.4444444444444444,\"#bd3786\"],[0.5555555555555556,\"#d8576b\"],[0.6666666666666666,\"#ed7953\"],[0.7777777777777778,\"#fb9f3a\"],[0.8888888888888888,\"#fdca26\"],[1.0,\"#f0f921\"]],\"type\":\"surface\"}],\"table\":[{\"cells\":{\"fill\":{\"color\":\"#EBF0F8\"},\"line\":{\"color\":\"white\"}},\"header\":{\"fill\":{\"color\":\"#C8D4E3\"},\"line\":{\"color\":\"white\"}},\"type\":\"table\"}]},\"layout\":{\"annotationdefaults\":{\"arrowcolor\":\"#2a3f5f\",\"arrowhead\":0,\"arrowwidth\":1},\"autotypenumbers\":\"strict\",\"coloraxis\":{\"colorbar\":{\"outlinewidth\":0,\"ticks\":\"\"}},\"colorscale\":{\"diverging\":[[0,\"#8e0152\"],[0.1,\"#c51b7d\"],[0.2,\"#de77ae\"],[0.3,\"#f1b6da\"],[0.4,\"#fde0ef\"],[0.5,\"#f7f7f7\"],[0.6,\"#e6f5d0\"],[0.7,\"#b8e186\"],[0.8,\"#7fbc41\"],[0.9,\"#4d9221\"],[1,\"#276419\"]],\"sequential\":[[0.0,\"#0d0887\"],[0.1111111111111111,\"#46039f\"],[0.2222222222222222,\"#7201a8\"],[0.3333333333333333,\"#9c179e\"],[0.4444444444444444,\"#bd3786\"],[0.5555555555555556,\"#d8576b\"],[0.6666666666666666,\"#ed7953\"],[0.7777777777777778,\"#fb9f3a\"],[0.8888888888888888,\"#fdca26\"],[1.0,\"#f0f921\"]],\"sequentialminus\":[[0.0,\"#0d0887\"],[0.1111111111111111,\"#46039f\"],[0.2222222222222222,\"#7201a8\"],[0.3333333333333333,\"#9c179e\"],[0.4444444444444444,\"#bd3786\"],[0.5555555555555556,\"#d8576b\"],[0.6666666666666666,\"#ed7953\"],[0.7777777777777778,\"#fb9f3a\"],[0.8888888888888888,\"#fdca26\"],[1.0,\"#f0f921\"]]},\"colorway\":[\"#636efa\",\"#EF553B\",\"#00cc96\",\"#ab63fa\",\"#FFA15A\",\"#19d3f3\",\"#FF6692\",\"#B6E880\",\"#FF97FF\",\"#FECB52\"],\"font\":{\"color\":\"#2a3f5f\"},\"geo\":{\"bgcolor\":\"white\",\"lakecolor\":\"white\",\"landcolor\":\"#E5ECF6\",\"showlakes\":true,\"showland\":true,\"subunitcolor\":\"white\"},\"hoverlabel\":{\"align\":\"left\"},\"hovermode\":\"closest\",\"mapbox\":{\"style\":\"light\"},\"paper_bgcolor\":\"white\",\"plot_bgcolor\":\"#E5ECF6\",\"polar\":{\"angularaxis\":{\"gridcolor\":\"white\",\"linecolor\":\"white\",\"ticks\":\"\"},\"bgcolor\":\"#E5ECF6\",\"radialaxis\":{\"gridcolor\":\"white\",\"linecolor\":\"white\",\"ticks\":\"\"}},\"scene\":{\"xaxis\":{\"backgroundcolor\":\"#E5ECF6\",\"gridcolor\":\"white\",\"gridwidth\":2,\"linecolor\":\"white\",\"showbackground\":true,\"ticks\":\"\",\"zerolinecolor\":\"white\"},\"yaxis\":{\"backgroundcolor\":\"#E5ECF6\",\"gridcolor\":\"white\",\"gridwidth\":2,\"linecolor\":\"white\",\"showbackground\":true,\"ticks\":\"\",\"zerolinecolor\":\"white\"},\"zaxis\":{\"backgroundcolor\":\"#E5ECF6\",\"gridcolor\":\"white\",\"gridwidth\":2,\"linecolor\":\"white\",\"showbackground\":true,\"ticks\":\"\",\"zerolinecolor\":\"white\"}},\"shapedefaults\":{\"line\":{\"color\":\"#2a3f5f\"}},\"ternary\":{\"aaxis\":{\"gridcolor\":\"white\",\"linecolor\":\"white\",\"ticks\":\"\"},\"baxis\":{\"gridcolor\":\"white\",\"linecolor\":\"white\",\"ticks\":\"\"},\"bgcolor\":\"#E5ECF6\",\"caxis\":{\"gridcolor\":\"white\",\"linecolor\":\"white\",\"ticks\":\"\"}},\"title\":{\"x\":0.05},\"xaxis\":{\"automargin\":true,\"gridcolor\":\"white\",\"linecolor\":\"white\",\"ticks\":\"\",\"title\":{\"standoff\":15},\"zerolinecolor\":\"white\",\"zerolinewidth\":2},\"yaxis\":{\"automargin\":true,\"gridcolor\":\"white\",\"linecolor\":\"white\",\"ticks\":\"\",\"title\":{\"standoff\":15},\"zerolinecolor\":\"white\",\"zerolinewidth\":2}}},\"xaxis\":{\"anchor\":\"y\",\"domain\":[0.0,1.0],\"title\":{\"text\":\"x\"}},\"yaxis\":{\"anchor\":\"x\",\"domain\":[0.0,1.0],\"title\":{\"text\":\"count\"}},\"legend\":{\"title\":{\"text\":\"color\"},\"tracegroupgap\":0},\"margin\":{\"t\":60},\"barmode\":\"relative\"},                        {\"responsive\": true}                    ).then(function(){\n",
              "                            \n",
              "var gd = document.getElementById('d70f7f40-71c5-4134-bcb4-0fc8444c3077');\n",
              "var x = new MutationObserver(function (mutations, observer) {{\n",
              "        var display = window.getComputedStyle(gd).display;\n",
              "        if (!display || display === 'none') {{\n",
              "            console.log([gd, 'removed!']);\n",
              "            Plotly.purge(gd);\n",
              "            observer.disconnect();\n",
              "        }}\n",
              "}});\n",
              "\n",
              "// Listen for the removal of the full notebook cells\n",
              "var notebookContainer = gd.closest('#notebook-container');\n",
              "if (notebookContainer) {{\n",
              "    x.observe(notebookContainer, {childList: true});\n",
              "}}\n",
              "\n",
              "// Listen for the clearing of the current output cell\n",
              "var outputEl = gd.closest('.output');\n",
              "if (outputEl) {{\n",
              "    x.observe(outputEl, {childList: true});\n",
              "}}\n",
              "\n",
              "                        })                };                            </script>        </div>\n",
              "</body>\n",
              "</html>"
            ]
          },
          "metadata": {}
        }
      ]
    },
    {
      "cell_type": "code",
      "source": [
        "avgFunding_Status=indian_startup\n",
        "avgFunding_Status.head(5)"
      ],
      "metadata": {
        "colab": {
          "base_uri": "https://localhost:8080/",
          "height": 305
        },
        "id": "sHFjsuwua70l",
        "outputId": "53ff1fd3-8148-4758-90e4-b56977a97eff"
      },
      "execution_count": 17,
      "outputs": [
        {
          "output_type": "execute_result",
          "data": {
            "text/plain": [
              "                              permalink           name  \\\n",
              "0                   /organization/-fame          #fame   \n",
              "22              /organization/1000lookz      1000Lookz   \n",
              "93                 /organization/1click         1CLICK   \n",
              "135      /organization/21diamonds-india     21Diamonds   \n",
              "151  /organization/247-learning-private  24x7 Learning   \n",
              "\n",
              "                    homepage_url             category_list funding_total_usd  \\\n",
              "0             http://livfame.com                     Media          10000000   \n",
              "22          http://1000lookz.com                    Beauty                 -   \n",
              "93              http://1click.io               Chat|Mobile                 -   \n",
              "135     http://www.21diamonds.de                E-Commerce           6369507   \n",
              "151  http://www.24x7learning.com  EdTech|Education|Systems           4000000   \n",
              "\n",
              "        status country_code state_code     region       city  funding_rounds  \\\n",
              "0    operating          IND         16     Mumbai     Mumbai               1   \n",
              "22   operating          IND         25    Chennai    Chennai               1   \n",
              "93    acquired          IND         19  Bangalore  Bangalore               1   \n",
              "135  operating          IND         10  New Delhi    Gurgaon               1   \n",
              "151  operating          IND         19  Bangalore  Bangalore               1   \n",
              "\n",
              "     founded_at first_funding_at last_funding_at  \n",
              "0           NaN       2015-01-05      2015-01-05  \n",
              "22   2008-01-01       2013-07-22      2013-07-22  \n",
              "93   2012-11-01       2014-01-26      2014-01-26  \n",
              "135  2012-06-01       2012-11-15      2012-11-15  \n",
              "151  2001-01-01       2007-11-06      2007-11-06  "
            ],
            "text/html": [
              "\n",
              "  <div id=\"df-537494e7-3441-4614-b5a3-594424436dd7\">\n",
              "    <div class=\"colab-df-container\">\n",
              "      <div>\n",
              "<style scoped>\n",
              "    .dataframe tbody tr th:only-of-type {\n",
              "        vertical-align: middle;\n",
              "    }\n",
              "\n",
              "    .dataframe tbody tr th {\n",
              "        vertical-align: top;\n",
              "    }\n",
              "\n",
              "    .dataframe thead th {\n",
              "        text-align: right;\n",
              "    }\n",
              "</style>\n",
              "<table border=\"1\" class=\"dataframe\">\n",
              "  <thead>\n",
              "    <tr style=\"text-align: right;\">\n",
              "      <th></th>\n",
              "      <th>permalink</th>\n",
              "      <th>name</th>\n",
              "      <th>homepage_url</th>\n",
              "      <th>category_list</th>\n",
              "      <th>funding_total_usd</th>\n",
              "      <th>status</th>\n",
              "      <th>country_code</th>\n",
              "      <th>state_code</th>\n",
              "      <th>region</th>\n",
              "      <th>city</th>\n",
              "      <th>funding_rounds</th>\n",
              "      <th>founded_at</th>\n",
              "      <th>first_funding_at</th>\n",
              "      <th>last_funding_at</th>\n",
              "    </tr>\n",
              "  </thead>\n",
              "  <tbody>\n",
              "    <tr>\n",
              "      <th>0</th>\n",
              "      <td>/organization/-fame</td>\n",
              "      <td>#fame</td>\n",
              "      <td>http://livfame.com</td>\n",
              "      <td>Media</td>\n",
              "      <td>10000000</td>\n",
              "      <td>operating</td>\n",
              "      <td>IND</td>\n",
              "      <td>16</td>\n",
              "      <td>Mumbai</td>\n",
              "      <td>Mumbai</td>\n",
              "      <td>1</td>\n",
              "      <td>NaN</td>\n",
              "      <td>2015-01-05</td>\n",
              "      <td>2015-01-05</td>\n",
              "    </tr>\n",
              "    <tr>\n",
              "      <th>22</th>\n",
              "      <td>/organization/1000lookz</td>\n",
              "      <td>1000Lookz</td>\n",
              "      <td>http://1000lookz.com</td>\n",
              "      <td>Beauty</td>\n",
              "      <td>-</td>\n",
              "      <td>operating</td>\n",
              "      <td>IND</td>\n",
              "      <td>25</td>\n",
              "      <td>Chennai</td>\n",
              "      <td>Chennai</td>\n",
              "      <td>1</td>\n",
              "      <td>2008-01-01</td>\n",
              "      <td>2013-07-22</td>\n",
              "      <td>2013-07-22</td>\n",
              "    </tr>\n",
              "    <tr>\n",
              "      <th>93</th>\n",
              "      <td>/organization/1click</td>\n",
              "      <td>1CLICK</td>\n",
              "      <td>http://1click.io</td>\n",
              "      <td>Chat|Mobile</td>\n",
              "      <td>-</td>\n",
              "      <td>acquired</td>\n",
              "      <td>IND</td>\n",
              "      <td>19</td>\n",
              "      <td>Bangalore</td>\n",
              "      <td>Bangalore</td>\n",
              "      <td>1</td>\n",
              "      <td>2012-11-01</td>\n",
              "      <td>2014-01-26</td>\n",
              "      <td>2014-01-26</td>\n",
              "    </tr>\n",
              "    <tr>\n",
              "      <th>135</th>\n",
              "      <td>/organization/21diamonds-india</td>\n",
              "      <td>21Diamonds</td>\n",
              "      <td>http://www.21diamonds.de</td>\n",
              "      <td>E-Commerce</td>\n",
              "      <td>6369507</td>\n",
              "      <td>operating</td>\n",
              "      <td>IND</td>\n",
              "      <td>10</td>\n",
              "      <td>New Delhi</td>\n",
              "      <td>Gurgaon</td>\n",
              "      <td>1</td>\n",
              "      <td>2012-06-01</td>\n",
              "      <td>2012-11-15</td>\n",
              "      <td>2012-11-15</td>\n",
              "    </tr>\n",
              "    <tr>\n",
              "      <th>151</th>\n",
              "      <td>/organization/247-learning-private</td>\n",
              "      <td>24x7 Learning</td>\n",
              "      <td>http://www.24x7learning.com</td>\n",
              "      <td>EdTech|Education|Systems</td>\n",
              "      <td>4000000</td>\n",
              "      <td>operating</td>\n",
              "      <td>IND</td>\n",
              "      <td>19</td>\n",
              "      <td>Bangalore</td>\n",
              "      <td>Bangalore</td>\n",
              "      <td>1</td>\n",
              "      <td>2001-01-01</td>\n",
              "      <td>2007-11-06</td>\n",
              "      <td>2007-11-06</td>\n",
              "    </tr>\n",
              "  </tbody>\n",
              "</table>\n",
              "</div>\n",
              "      <button class=\"colab-df-convert\" onclick=\"convertToInteractive('df-537494e7-3441-4614-b5a3-594424436dd7')\"\n",
              "              title=\"Convert this dataframe to an interactive table.\"\n",
              "              style=\"display:none;\">\n",
              "        \n",
              "  <svg xmlns=\"http://www.w3.org/2000/svg\" height=\"24px\"viewBox=\"0 0 24 24\"\n",
              "       width=\"24px\">\n",
              "    <path d=\"M0 0h24v24H0V0z\" fill=\"none\"/>\n",
              "    <path d=\"M18.56 5.44l.94 2.06.94-2.06 2.06-.94-2.06-.94-.94-2.06-.94 2.06-2.06.94zm-11 1L8.5 8.5l.94-2.06 2.06-.94-2.06-.94L8.5 2.5l-.94 2.06-2.06.94zm10 10l.94 2.06.94-2.06 2.06-.94-2.06-.94-.94-2.06-.94 2.06-2.06.94z\"/><path d=\"M17.41 7.96l-1.37-1.37c-.4-.4-.92-.59-1.43-.59-.52 0-1.04.2-1.43.59L10.3 9.45l-7.72 7.72c-.78.78-.78 2.05 0 2.83L4 21.41c.39.39.9.59 1.41.59.51 0 1.02-.2 1.41-.59l7.78-7.78 2.81-2.81c.8-.78.8-2.07 0-2.86zM5.41 20L4 18.59l7.72-7.72 1.47 1.35L5.41 20z\"/>\n",
              "  </svg>\n",
              "      </button>\n",
              "      \n",
              "  <style>\n",
              "    .colab-df-container {\n",
              "      display:flex;\n",
              "      flex-wrap:wrap;\n",
              "      gap: 12px;\n",
              "    }\n",
              "\n",
              "    .colab-df-convert {\n",
              "      background-color: #E8F0FE;\n",
              "      border: none;\n",
              "      border-radius: 50%;\n",
              "      cursor: pointer;\n",
              "      display: none;\n",
              "      fill: #1967D2;\n",
              "      height: 32px;\n",
              "      padding: 0 0 0 0;\n",
              "      width: 32px;\n",
              "    }\n",
              "\n",
              "    .colab-df-convert:hover {\n",
              "      background-color: #E2EBFA;\n",
              "      box-shadow: 0px 1px 2px rgba(60, 64, 67, 0.3), 0px 1px 3px 1px rgba(60, 64, 67, 0.15);\n",
              "      fill: #174EA6;\n",
              "    }\n",
              "\n",
              "    [theme=dark] .colab-df-convert {\n",
              "      background-color: #3B4455;\n",
              "      fill: #D2E3FC;\n",
              "    }\n",
              "\n",
              "    [theme=dark] .colab-df-convert:hover {\n",
              "      background-color: #434B5C;\n",
              "      box-shadow: 0px 1px 3px 1px rgba(0, 0, 0, 0.15);\n",
              "      filter: drop-shadow(0px 1px 2px rgba(0, 0, 0, 0.3));\n",
              "      fill: #FFFFFF;\n",
              "    }\n",
              "  </style>\n",
              "\n",
              "      <script>\n",
              "        const buttonEl =\n",
              "          document.querySelector('#df-537494e7-3441-4614-b5a3-594424436dd7 button.colab-df-convert');\n",
              "        buttonEl.style.display =\n",
              "          google.colab.kernel.accessAllowed ? 'block' : 'none';\n",
              "\n",
              "        async function convertToInteractive(key) {\n",
              "          const element = document.querySelector('#df-537494e7-3441-4614-b5a3-594424436dd7');\n",
              "          const dataTable =\n",
              "            await google.colab.kernel.invokeFunction('convertToInteractive',\n",
              "                                                     [key], {});\n",
              "          if (!dataTable) return;\n",
              "\n",
              "          const docLinkHtml = 'Like what you see? Visit the ' +\n",
              "            '<a target=\"_blank\" href=https://colab.research.google.com/notebooks/data_table.ipynb>data table notebook</a>'\n",
              "            + ' to learn more about interactive tables.';\n",
              "          element.innerHTML = '';\n",
              "          dataTable['output_type'] = 'display_data';\n",
              "          await google.colab.output.renderOutput(dataTable, element);\n",
              "          const docLink = document.createElement('div');\n",
              "          docLink.innerHTML = docLinkHtml;\n",
              "          element.appendChild(docLink);\n",
              "        }\n",
              "      </script>\n",
              "    </div>\n",
              "  </div>\n",
              "  "
            ]
          },
          "metadata": {},
          "execution_count": 17
        }
      ]
    },
    {
      "cell_type": "code",
      "source": [
        "avgFunding_Status=avgFunding_Status.dropna(axis=0,subset=[\"founded_at\",\"first_funding_at\"],how=\"any\")"
      ],
      "metadata": {
        "id": "UTJoyGgMbTIA"
      },
      "execution_count": 18,
      "outputs": []
    },
    {
      "cell_type": "code",
      "source": [
        "avgFunding_Status.isna().sum()"
      ],
      "metadata": {
        "colab": {
          "base_uri": "https://localhost:8080/"
        },
        "id": "Z6PALVozb989",
        "outputId": "3acb25ed-dd06-47e5-c9da-7d14636e233c"
      },
      "execution_count": 19,
      "outputs": [
        {
          "output_type": "execute_result",
          "data": {
            "text/plain": [
              "permalink             0\n",
              "name                  0\n",
              "homepage_url         13\n",
              "category_list         0\n",
              "funding_total_usd     0\n",
              "status                0\n",
              "country_code          0\n",
              "state_code            0\n",
              "region                0\n",
              "city                  0\n",
              "funding_rounds        0\n",
              "founded_at            0\n",
              "first_funding_at      0\n",
              "last_funding_at       0\n",
              "dtype: int64"
            ]
          },
          "metadata": {},
          "execution_count": 19
        }
      ]
    },
    {
      "cell_type": "code",
      "source": [
        "avgFunding_Status['founded_at']= pd.to_datetime(avgFunding_Status['founded_at'], errors = 'coerce')"
      ],
      "metadata": {
        "id": "L29-KpgTnDh-"
      },
      "execution_count": null,
      "outputs": []
    },
    {
      "cell_type": "code",
      "source": [
        "avgFunding_Status['founded_at']=pd.to_datetime(avgFunding_Status['founded_at'])"
      ],
      "metadata": {
        "id": "nOqLOjgnmBCI"
      },
      "execution_count": null,
      "outputs": []
    },
    {
      "cell_type": "code",
      "source": [
        "avgFunding_Status['founded_year']=avgFunding_Status['founded_at'].dt.year\n"
      ],
      "metadata": {
        "id": "HTdtngmsnc42"
      },
      "execution_count": null,
      "outputs": []
    },
    {
      "cell_type": "code",
      "source": [
        "avgFunding_Status['first_funding_at']= pd.to_datetime(avgFunding_Status['first_funding_at'], errors = 'coerce')"
      ],
      "metadata": {
        "id": "y2aFxP8IpBIM"
      },
      "execution_count": null,
      "outputs": []
    },
    {
      "cell_type": "code",
      "source": [
        "avgFunding_Status['first_funding_at']=pd.to_datetime(avgFunding_Status['first_funding_at'])"
      ],
      "metadata": {
        "id": "kZu0ZvhIpDip"
      },
      "execution_count": null,
      "outputs": []
    },
    {
      "cell_type": "code",
      "source": [
        "avgFunding_Status['first_funding_year']=avgFunding_Status['first_funding_at'].dt.year\n",
        "avgFunding_Status.head(5)"
      ],
      "metadata": {
        "id": "gnwYTjhTpFI0"
      },
      "execution_count": null,
      "outputs": []
    },
    {
      "cell_type": "code",
      "source": [
        "avgFunding_Status[\"first_funding_year\"].value_counts().head(5)"
      ],
      "metadata": {
        "id": "xzL1DdNTrApw"
      },
      "execution_count": null,
      "outputs": []
    },
    {
      "cell_type": "code",
      "source": [
        "average_waiting_period_for_first_funding_in_india=avgFunding_Status[\"first_funding_year\"]-avgFunding_Status[\"founded_year\"]"
      ],
      "metadata": {
        "id": "NgcBitwVrgLD"
      },
      "execution_count": 28,
      "outputs": []
    },
    {
      "cell_type": "code",
      "source": [
        "avgFunding_Status[\"waiting_period_for_funding\"]=average_waiting_period_for_first_funding_in_india"
      ],
      "metadata": {
        "id": "fMqrWPQ0uIlu"
      },
      "execution_count": null,
      "outputs": []
    },
    {
      "cell_type": "code",
      "source": [
        "avgFunding_Status.head(5)"
      ],
      "metadata": {
        "colab": {
          "base_uri": "https://localhost:8080/",
          "height": 305
        },
        "id": "mzYUtOC3zzJh",
        "outputId": "96599adb-79b8-4376-e073-0ec7cc81a651"
      },
      "execution_count": 37,
      "outputs": [
        {
          "output_type": "execute_result",
          "data": {
            "text/plain": [
              "                              permalink           name  \\\n",
              "22              /organization/1000lookz      1000Lookz   \n",
              "93                 /organization/1click         1CLICK   \n",
              "135      /organization/21diamonds-india     21Diamonds   \n",
              "151  /organization/247-learning-private  24x7 Learning   \n",
              "219             /organization/33coupons      33Coupons   \n",
              "\n",
              "                    homepage_url             category_list funding_total_usd  \\\n",
              "22          http://1000lookz.com                    Beauty                 -   \n",
              "93              http://1click.io               Chat|Mobile                 -   \n",
              "135     http://www.21diamonds.de                E-Commerce           6369507   \n",
              "151  http://www.24x7learning.com  EdTech|Education|Systems           4000000   \n",
              "219          http://33coupons.in                  Internet             20000   \n",
              "\n",
              "        status country_code state_code     region       city  funding_rounds  \\\n",
              "22   operating          IND         25    Chennai    Chennai               1   \n",
              "93    acquired          IND         19  Bangalore  Bangalore               1   \n",
              "135  operating          IND         10  New Delhi    Gurgaon               1   \n",
              "151  operating          IND         19  Bangalore  Bangalore               1   \n",
              "219  operating          IND         36     Kanpur     Kanpur               1   \n",
              "\n",
              "    founded_at first_funding_at last_funding_at  founded_year  \\\n",
              "22  2008-01-01       2013-07-22      2013-07-22          2008   \n",
              "93  2012-11-01       2014-01-26      2014-01-26          2012   \n",
              "135 2012-06-01       2012-11-15      2012-11-15          2012   \n",
              "151 2001-01-01       2007-11-06      2007-11-06          2001   \n",
              "219 2015-05-01       2015-07-06      2015-07-06          2015   \n",
              "\n",
              "     first_funding_year  waiting_period_for_funding  \n",
              "22                 2013                           5  \n",
              "93                 2014                           2  \n",
              "135                2012                           0  \n",
              "151                2007                           6  \n",
              "219                2015                           0  "
            ],
            "text/html": [
              "\n",
              "  <div id=\"df-e738ee0d-a1d3-4588-a273-ea83ad554c29\">\n",
              "    <div class=\"colab-df-container\">\n",
              "      <div>\n",
              "<style scoped>\n",
              "    .dataframe tbody tr th:only-of-type {\n",
              "        vertical-align: middle;\n",
              "    }\n",
              "\n",
              "    .dataframe tbody tr th {\n",
              "        vertical-align: top;\n",
              "    }\n",
              "\n",
              "    .dataframe thead th {\n",
              "        text-align: right;\n",
              "    }\n",
              "</style>\n",
              "<table border=\"1\" class=\"dataframe\">\n",
              "  <thead>\n",
              "    <tr style=\"text-align: right;\">\n",
              "      <th></th>\n",
              "      <th>permalink</th>\n",
              "      <th>name</th>\n",
              "      <th>homepage_url</th>\n",
              "      <th>category_list</th>\n",
              "      <th>funding_total_usd</th>\n",
              "      <th>status</th>\n",
              "      <th>country_code</th>\n",
              "      <th>state_code</th>\n",
              "      <th>region</th>\n",
              "      <th>city</th>\n",
              "      <th>funding_rounds</th>\n",
              "      <th>founded_at</th>\n",
              "      <th>first_funding_at</th>\n",
              "      <th>last_funding_at</th>\n",
              "      <th>founded_year</th>\n",
              "      <th>first_funding_year</th>\n",
              "      <th>waiting_period_for_funding</th>\n",
              "    </tr>\n",
              "  </thead>\n",
              "  <tbody>\n",
              "    <tr>\n",
              "      <th>22</th>\n",
              "      <td>/organization/1000lookz</td>\n",
              "      <td>1000Lookz</td>\n",
              "      <td>http://1000lookz.com</td>\n",
              "      <td>Beauty</td>\n",
              "      <td>-</td>\n",
              "      <td>operating</td>\n",
              "      <td>IND</td>\n",
              "      <td>25</td>\n",
              "      <td>Chennai</td>\n",
              "      <td>Chennai</td>\n",
              "      <td>1</td>\n",
              "      <td>2008-01-01</td>\n",
              "      <td>2013-07-22</td>\n",
              "      <td>2013-07-22</td>\n",
              "      <td>2008</td>\n",
              "      <td>2013</td>\n",
              "      <td>5</td>\n",
              "    </tr>\n",
              "    <tr>\n",
              "      <th>93</th>\n",
              "      <td>/organization/1click</td>\n",
              "      <td>1CLICK</td>\n",
              "      <td>http://1click.io</td>\n",
              "      <td>Chat|Mobile</td>\n",
              "      <td>-</td>\n",
              "      <td>acquired</td>\n",
              "      <td>IND</td>\n",
              "      <td>19</td>\n",
              "      <td>Bangalore</td>\n",
              "      <td>Bangalore</td>\n",
              "      <td>1</td>\n",
              "      <td>2012-11-01</td>\n",
              "      <td>2014-01-26</td>\n",
              "      <td>2014-01-26</td>\n",
              "      <td>2012</td>\n",
              "      <td>2014</td>\n",
              "      <td>2</td>\n",
              "    </tr>\n",
              "    <tr>\n",
              "      <th>135</th>\n",
              "      <td>/organization/21diamonds-india</td>\n",
              "      <td>21Diamonds</td>\n",
              "      <td>http://www.21diamonds.de</td>\n",
              "      <td>E-Commerce</td>\n",
              "      <td>6369507</td>\n",
              "      <td>operating</td>\n",
              "      <td>IND</td>\n",
              "      <td>10</td>\n",
              "      <td>New Delhi</td>\n",
              "      <td>Gurgaon</td>\n",
              "      <td>1</td>\n",
              "      <td>2012-06-01</td>\n",
              "      <td>2012-11-15</td>\n",
              "      <td>2012-11-15</td>\n",
              "      <td>2012</td>\n",
              "      <td>2012</td>\n",
              "      <td>0</td>\n",
              "    </tr>\n",
              "    <tr>\n",
              "      <th>151</th>\n",
              "      <td>/organization/247-learning-private</td>\n",
              "      <td>24x7 Learning</td>\n",
              "      <td>http://www.24x7learning.com</td>\n",
              "      <td>EdTech|Education|Systems</td>\n",
              "      <td>4000000</td>\n",
              "      <td>operating</td>\n",
              "      <td>IND</td>\n",
              "      <td>19</td>\n",
              "      <td>Bangalore</td>\n",
              "      <td>Bangalore</td>\n",
              "      <td>1</td>\n",
              "      <td>2001-01-01</td>\n",
              "      <td>2007-11-06</td>\n",
              "      <td>2007-11-06</td>\n",
              "      <td>2001</td>\n",
              "      <td>2007</td>\n",
              "      <td>6</td>\n",
              "    </tr>\n",
              "    <tr>\n",
              "      <th>219</th>\n",
              "      <td>/organization/33coupons</td>\n",
              "      <td>33Coupons</td>\n",
              "      <td>http://33coupons.in</td>\n",
              "      <td>Internet</td>\n",
              "      <td>20000</td>\n",
              "      <td>operating</td>\n",
              "      <td>IND</td>\n",
              "      <td>36</td>\n",
              "      <td>Kanpur</td>\n",
              "      <td>Kanpur</td>\n",
              "      <td>1</td>\n",
              "      <td>2015-05-01</td>\n",
              "      <td>2015-07-06</td>\n",
              "      <td>2015-07-06</td>\n",
              "      <td>2015</td>\n",
              "      <td>2015</td>\n",
              "      <td>0</td>\n",
              "    </tr>\n",
              "  </tbody>\n",
              "</table>\n",
              "</div>\n",
              "      <button class=\"colab-df-convert\" onclick=\"convertToInteractive('df-e738ee0d-a1d3-4588-a273-ea83ad554c29')\"\n",
              "              title=\"Convert this dataframe to an interactive table.\"\n",
              "              style=\"display:none;\">\n",
              "        \n",
              "  <svg xmlns=\"http://www.w3.org/2000/svg\" height=\"24px\"viewBox=\"0 0 24 24\"\n",
              "       width=\"24px\">\n",
              "    <path d=\"M0 0h24v24H0V0z\" fill=\"none\"/>\n",
              "    <path d=\"M18.56 5.44l.94 2.06.94-2.06 2.06-.94-2.06-.94-.94-2.06-.94 2.06-2.06.94zm-11 1L8.5 8.5l.94-2.06 2.06-.94-2.06-.94L8.5 2.5l-.94 2.06-2.06.94zm10 10l.94 2.06.94-2.06 2.06-.94-2.06-.94-.94-2.06-.94 2.06-2.06.94z\"/><path d=\"M17.41 7.96l-1.37-1.37c-.4-.4-.92-.59-1.43-.59-.52 0-1.04.2-1.43.59L10.3 9.45l-7.72 7.72c-.78.78-.78 2.05 0 2.83L4 21.41c.39.39.9.59 1.41.59.51 0 1.02-.2 1.41-.59l7.78-7.78 2.81-2.81c.8-.78.8-2.07 0-2.86zM5.41 20L4 18.59l7.72-7.72 1.47 1.35L5.41 20z\"/>\n",
              "  </svg>\n",
              "      </button>\n",
              "      \n",
              "  <style>\n",
              "    .colab-df-container {\n",
              "      display:flex;\n",
              "      flex-wrap:wrap;\n",
              "      gap: 12px;\n",
              "    }\n",
              "\n",
              "    .colab-df-convert {\n",
              "      background-color: #E8F0FE;\n",
              "      border: none;\n",
              "      border-radius: 50%;\n",
              "      cursor: pointer;\n",
              "      display: none;\n",
              "      fill: #1967D2;\n",
              "      height: 32px;\n",
              "      padding: 0 0 0 0;\n",
              "      width: 32px;\n",
              "    }\n",
              "\n",
              "    .colab-df-convert:hover {\n",
              "      background-color: #E2EBFA;\n",
              "      box-shadow: 0px 1px 2px rgba(60, 64, 67, 0.3), 0px 1px 3px 1px rgba(60, 64, 67, 0.15);\n",
              "      fill: #174EA6;\n",
              "    }\n",
              "\n",
              "    [theme=dark] .colab-df-convert {\n",
              "      background-color: #3B4455;\n",
              "      fill: #D2E3FC;\n",
              "    }\n",
              "\n",
              "    [theme=dark] .colab-df-convert:hover {\n",
              "      background-color: #434B5C;\n",
              "      box-shadow: 0px 1px 3px 1px rgba(0, 0, 0, 0.15);\n",
              "      filter: drop-shadow(0px 1px 2px rgba(0, 0, 0, 0.3));\n",
              "      fill: #FFFFFF;\n",
              "    }\n",
              "  </style>\n",
              "\n",
              "      <script>\n",
              "        const buttonEl =\n",
              "          document.querySelector('#df-e738ee0d-a1d3-4588-a273-ea83ad554c29 button.colab-df-convert');\n",
              "        buttonEl.style.display =\n",
              "          google.colab.kernel.accessAllowed ? 'block' : 'none';\n",
              "\n",
              "        async function convertToInteractive(key) {\n",
              "          const element = document.querySelector('#df-e738ee0d-a1d3-4588-a273-ea83ad554c29');\n",
              "          const dataTable =\n",
              "            await google.colab.kernel.invokeFunction('convertToInteractive',\n",
              "                                                     [key], {});\n",
              "          if (!dataTable) return;\n",
              "\n",
              "          const docLinkHtml = 'Like what you see? Visit the ' +\n",
              "            '<a target=\"_blank\" href=https://colab.research.google.com/notebooks/data_table.ipynb>data table notebook</a>'\n",
              "            + ' to learn more about interactive tables.';\n",
              "          element.innerHTML = '';\n",
              "          dataTable['output_type'] = 'display_data';\n",
              "          await google.colab.output.renderOutput(dataTable, element);\n",
              "          const docLink = document.createElement('div');\n",
              "          docLink.innerHTML = docLinkHtml;\n",
              "          element.appendChild(docLink);\n",
              "        }\n",
              "      </script>\n",
              "    </div>\n",
              "  </div>\n",
              "  "
            ]
          },
          "metadata": {},
          "execution_count": 37
        }
      ]
    },
    {
      "cell_type": "code",
      "source": [
        "average_waiting_period_for_first_funding_in_india.mean()"
      ],
      "metadata": {
        "colab": {
          "base_uri": "https://localhost:8080/"
        },
        "id": "x1Bl0SjasYw9",
        "outputId": "c41c79fe-d198-4323-e148-790f69eddf16"
      },
      "execution_count": 39,
      "outputs": [
        {
          "output_type": "execute_result",
          "data": {
            "text/plain": [
              "3.3712480252764614"
            ]
          },
          "metadata": {},
          "execution_count": 39
        }
      ]
    },
    {
      "cell_type": "code",
      "source": [
        "MUMBAI=avgFunding_Status.query(\"region=='Mumbai'\")\n",
        "MUMBAI"
      ],
      "metadata": {
        "id": "QB16t7vS1Cfi"
      },
      "execution_count": null,
      "outputs": []
    },
    {
      "cell_type": "code",
      "source": [
        "fig=px.scatter(avgFunding_Status,x=\"category_list\",y=\"waiting_period_for_funding\",color=\"region\",animation_frame=\"region\",width=800, height=800)\n",
        "fig.update_layout(margin=dict(l=30, r=30, t=40, b=400),paper_bgcolor=\"LightSteelBlue\")\n",
        "fig['layout']['updatemenus'][0]['pad']=dict(r= 10, t= 600)\n",
        "fig['layout']['sliders'][0]['pad']=dict(r= 10, t= 600,)\n",
        "fig.show()"
      ],
      "metadata": {
        "colab": {
          "base_uri": "https://localhost:8080/",
          "height": 817
        },
        "id": "6r5bZ7WhtDlj",
        "outputId": "49a704ff-df62-48df-e20d-95e5c15ce7da"
      },
      "execution_count": 58,
      "outputs": [
        {
          "output_type": "display_data",
          "data": {
            "text/html": [
              "<html>\n",
              "<head><meta charset=\"utf-8\" /></head>\n",
              "<body>\n",
              "    <div>            <script src=\"https://cdnjs.cloudflare.com/ajax/libs/mathjax/2.7.5/MathJax.js?config=TeX-AMS-MML_SVG\"></script><script type=\"text/javascript\">if (window.MathJax) {MathJax.Hub.Config({SVG: {font: \"STIX-Web\"}});}</script>                <script type=\"text/javascript\">window.PlotlyConfig = {MathJaxConfig: 'local'};</script>\n",
              "        <script src=\"https://cdn.plot.ly/plotly-2.8.3.min.js\"></script>                <div id=\"9cf50881-434d-4011-a2e9-a7d300a31af7\" class=\"plotly-graph-div\" style=\"height:800px; width:800px;\"></div>            <script type=\"text/javascript\">                                    window.PLOTLYENV=window.PLOTLYENV || {};                                    if (document.getElementById(\"9cf50881-434d-4011-a2e9-a7d300a31af7\")) {                    Plotly.newPlot(                        \"9cf50881-434d-4011-a2e9-a7d300a31af7\",                        [{\"hovertemplate\":\"region=Chennai<br>category_list=%{x}<br>waiting_period_for_funding=%{y}<extra></extra>\",\"legendgroup\":\"Chennai\",\"marker\":{\"color\":\"#636efa\",\"symbol\":\"circle\"},\"mode\":\"markers\",\"name\":\"Chennai\",\"orientation\":\"v\",\"showlegend\":true,\"x\":[\"Beauty\",\"Network Security|Security\",\"Apps|Education|Language Learning|Natural Language Processing|Neuroscience|Teachers\",\"Credit Cards|Curated Web|Finance|Insurance|Real Estate Investors\",\"Messaging\",\"Curated Web|Match-Making\",\"E-Commerce\",\"Software\",\"Data Integration|Online Reservations|Online Scheduling\",\"E-Commerce\",\"Hospitality\",\"E-Commerce|Jewelry\",\"Real Estate\",\"E-Commerce|Wholesale\",\"Internet\",\"Consulting\",\"Financial Services|FinTech|Indians\",\"Health and Wellness|Hospitals|Manufacturing|Medical Devices\",\"Technology\",\"EdTech|Education\",\"Web Design|Web Development|Web Hosting\",\"EdTech|Education\",\"Digital Media|Kids\",\"Finance\",\"Software\",\"Software\",\"Software\",\"E-Commerce|Kids|Textbooks\",\"E-Commerce\",\"Finance|Financial Services\",\"Finance\",\"Finance\",\"E-Commerce\",\"E-Commerce|Fashion|Marketplaces|Printing\",\"Apps\",\"Biotechnology|Diabetes\",\"Classifieds|Curated Web\",\"Finance\",\"Education\",\"Electric Vehicles|Manufacturing|Mobility\",\"Games|Virtual Worlds\",\"Cloud Computing|Software|Web Development\",\"Cloud Computing|Enterprise Software|PaaS\",\"Clean Technology|Environmental Innovation|Renewable Energies\",\"Biotechnology\",\"Recruiting|Software\",\"Finance\",\"Clean Technology|Hospitality|Technology\",\"Cloud Computing\",\"Hardware + Software\",\"Image Recognition\",\"Cloud Infrastructure|SaaS\",\"E-Commerce|Fashion\",\"Enterprise Software\",\"E-Commerce|Hotels|Online Reservations|Travel\",\"E-Commerce|Local Businesses|Online Rental\",\"Health and Wellness|Health Diagnostics\",\"Clean Technology|Distribution\",\"Delivery|Mobile|Retail\"],\"xaxis\":\"x\",\"y\":[5,4,5,3,17,39,7,0,1,0,15,3,9,32,16,1,3,11,2,5,11,7,0,6,3,11,23,0,0,1,8,7,1,2,1,3,9,1,2,0,2,0,9,1,2,3,3,6,16,22,12,0,0,0,8,15,5,2,1],\"yaxis\":\"y\",\"type\":\"scatter\"}],                        {\"template\":{\"data\":{\"bar\":[{\"error_x\":{\"color\":\"#2a3f5f\"},\"error_y\":{\"color\":\"#2a3f5f\"},\"marker\":{\"line\":{\"color\":\"#E5ECF6\",\"width\":0.5},\"pattern\":{\"fillmode\":\"overlay\",\"size\":10,\"solidity\":0.2}},\"type\":\"bar\"}],\"barpolar\":[{\"marker\":{\"line\":{\"color\":\"#E5ECF6\",\"width\":0.5},\"pattern\":{\"fillmode\":\"overlay\",\"size\":10,\"solidity\":0.2}},\"type\":\"barpolar\"}],\"carpet\":[{\"aaxis\":{\"endlinecolor\":\"#2a3f5f\",\"gridcolor\":\"white\",\"linecolor\":\"white\",\"minorgridcolor\":\"white\",\"startlinecolor\":\"#2a3f5f\"},\"baxis\":{\"endlinecolor\":\"#2a3f5f\",\"gridcolor\":\"white\",\"linecolor\":\"white\",\"minorgridcolor\":\"white\",\"startlinecolor\":\"#2a3f5f\"},\"type\":\"carpet\"}],\"choropleth\":[{\"colorbar\":{\"outlinewidth\":0,\"ticks\":\"\"},\"type\":\"choropleth\"}],\"contour\":[{\"colorbar\":{\"outlinewidth\":0,\"ticks\":\"\"},\"colorscale\":[[0.0,\"#0d0887\"],[0.1111111111111111,\"#46039f\"],[0.2222222222222222,\"#7201a8\"],[0.3333333333333333,\"#9c179e\"],[0.4444444444444444,\"#bd3786\"],[0.5555555555555556,\"#d8576b\"],[0.6666666666666666,\"#ed7953\"],[0.7777777777777778,\"#fb9f3a\"],[0.8888888888888888,\"#fdca26\"],[1.0,\"#f0f921\"]],\"type\":\"contour\"}],\"contourcarpet\":[{\"colorbar\":{\"outlinewidth\":0,\"ticks\":\"\"},\"type\":\"contourcarpet\"}],\"heatmap\":[{\"colorbar\":{\"outlinewidth\":0,\"ticks\":\"\"},\"colorscale\":[[0.0,\"#0d0887\"],[0.1111111111111111,\"#46039f\"],[0.2222222222222222,\"#7201a8\"],[0.3333333333333333,\"#9c179e\"],[0.4444444444444444,\"#bd3786\"],[0.5555555555555556,\"#d8576b\"],[0.6666666666666666,\"#ed7953\"],[0.7777777777777778,\"#fb9f3a\"],[0.8888888888888888,\"#fdca26\"],[1.0,\"#f0f921\"]],\"type\":\"heatmap\"}],\"heatmapgl\":[{\"colorbar\":{\"outlinewidth\":0,\"ticks\":\"\"},\"colorscale\":[[0.0,\"#0d0887\"],[0.1111111111111111,\"#46039f\"],[0.2222222222222222,\"#7201a8\"],[0.3333333333333333,\"#9c179e\"],[0.4444444444444444,\"#bd3786\"],[0.5555555555555556,\"#d8576b\"],[0.6666666666666666,\"#ed7953\"],[0.7777777777777778,\"#fb9f3a\"],[0.8888888888888888,\"#fdca26\"],[1.0,\"#f0f921\"]],\"type\":\"heatmapgl\"}],\"histogram\":[{\"marker\":{\"pattern\":{\"fillmode\":\"overlay\",\"size\":10,\"solidity\":0.2}},\"type\":\"histogram\"}],\"histogram2d\":[{\"colorbar\":{\"outlinewidth\":0,\"ticks\":\"\"},\"colorscale\":[[0.0,\"#0d0887\"],[0.1111111111111111,\"#46039f\"],[0.2222222222222222,\"#7201a8\"],[0.3333333333333333,\"#9c179e\"],[0.4444444444444444,\"#bd3786\"],[0.5555555555555556,\"#d8576b\"],[0.6666666666666666,\"#ed7953\"],[0.7777777777777778,\"#fb9f3a\"],[0.8888888888888888,\"#fdca26\"],[1.0,\"#f0f921\"]],\"type\":\"histogram2d\"}],\"histogram2dcontour\":[{\"colorbar\":{\"outlinewidth\":0,\"ticks\":\"\"},\"colorscale\":[[0.0,\"#0d0887\"],[0.1111111111111111,\"#46039f\"],[0.2222222222222222,\"#7201a8\"],[0.3333333333333333,\"#9c179e\"],[0.4444444444444444,\"#bd3786\"],[0.5555555555555556,\"#d8576b\"],[0.6666666666666666,\"#ed7953\"],[0.7777777777777778,\"#fb9f3a\"],[0.8888888888888888,\"#fdca26\"],[1.0,\"#f0f921\"]],\"type\":\"histogram2dcontour\"}],\"mesh3d\":[{\"colorbar\":{\"outlinewidth\":0,\"ticks\":\"\"},\"type\":\"mesh3d\"}],\"parcoords\":[{\"line\":{\"colorbar\":{\"outlinewidth\":0,\"ticks\":\"\"}},\"type\":\"parcoords\"}],\"pie\":[{\"automargin\":true,\"type\":\"pie\"}],\"scatter\":[{\"marker\":{\"colorbar\":{\"outlinewidth\":0,\"ticks\":\"\"}},\"type\":\"scatter\"}],\"scatter3d\":[{\"line\":{\"colorbar\":{\"outlinewidth\":0,\"ticks\":\"\"}},\"marker\":{\"colorbar\":{\"outlinewidth\":0,\"ticks\":\"\"}},\"type\":\"scatter3d\"}],\"scattercarpet\":[{\"marker\":{\"colorbar\":{\"outlinewidth\":0,\"ticks\":\"\"}},\"type\":\"scattercarpet\"}],\"scattergeo\":[{\"marker\":{\"colorbar\":{\"outlinewidth\":0,\"ticks\":\"\"}},\"type\":\"scattergeo\"}],\"scattergl\":[{\"marker\":{\"colorbar\":{\"outlinewidth\":0,\"ticks\":\"\"}},\"type\":\"scattergl\"}],\"scattermapbox\":[{\"marker\":{\"colorbar\":{\"outlinewidth\":0,\"ticks\":\"\"}},\"type\":\"scattermapbox\"}],\"scatterpolar\":[{\"marker\":{\"colorbar\":{\"outlinewidth\":0,\"ticks\":\"\"}},\"type\":\"scatterpolar\"}],\"scatterpolargl\":[{\"marker\":{\"colorbar\":{\"outlinewidth\":0,\"ticks\":\"\"}},\"type\":\"scatterpolargl\"}],\"scatterternary\":[{\"marker\":{\"colorbar\":{\"outlinewidth\":0,\"ticks\":\"\"}},\"type\":\"scatterternary\"}],\"surface\":[{\"colorbar\":{\"outlinewidth\":0,\"ticks\":\"\"},\"colorscale\":[[0.0,\"#0d0887\"],[0.1111111111111111,\"#46039f\"],[0.2222222222222222,\"#7201a8\"],[0.3333333333333333,\"#9c179e\"],[0.4444444444444444,\"#bd3786\"],[0.5555555555555556,\"#d8576b\"],[0.6666666666666666,\"#ed7953\"],[0.7777777777777778,\"#fb9f3a\"],[0.8888888888888888,\"#fdca26\"],[1.0,\"#f0f921\"]],\"type\":\"surface\"}],\"table\":[{\"cells\":{\"fill\":{\"color\":\"#EBF0F8\"},\"line\":{\"color\":\"white\"}},\"header\":{\"fill\":{\"color\":\"#C8D4E3\"},\"line\":{\"color\":\"white\"}},\"type\":\"table\"}]},\"layout\":{\"annotationdefaults\":{\"arrowcolor\":\"#2a3f5f\",\"arrowhead\":0,\"arrowwidth\":1},\"autotypenumbers\":\"strict\",\"coloraxis\":{\"colorbar\":{\"outlinewidth\":0,\"ticks\":\"\"}},\"colorscale\":{\"diverging\":[[0,\"#8e0152\"],[0.1,\"#c51b7d\"],[0.2,\"#de77ae\"],[0.3,\"#f1b6da\"],[0.4,\"#fde0ef\"],[0.5,\"#f7f7f7\"],[0.6,\"#e6f5d0\"],[0.7,\"#b8e186\"],[0.8,\"#7fbc41\"],[0.9,\"#4d9221\"],[1,\"#276419\"]],\"sequential\":[[0.0,\"#0d0887\"],[0.1111111111111111,\"#46039f\"],[0.2222222222222222,\"#7201a8\"],[0.3333333333333333,\"#9c179e\"],[0.4444444444444444,\"#bd3786\"],[0.5555555555555556,\"#d8576b\"],[0.6666666666666666,\"#ed7953\"],[0.7777777777777778,\"#fb9f3a\"],[0.8888888888888888,\"#fdca26\"],[1.0,\"#f0f921\"]],\"sequentialminus\":[[0.0,\"#0d0887\"],[0.1111111111111111,\"#46039f\"],[0.2222222222222222,\"#7201a8\"],[0.3333333333333333,\"#9c179e\"],[0.4444444444444444,\"#bd3786\"],[0.5555555555555556,\"#d8576b\"],[0.6666666666666666,\"#ed7953\"],[0.7777777777777778,\"#fb9f3a\"],[0.8888888888888888,\"#fdca26\"],[1.0,\"#f0f921\"]]},\"colorway\":[\"#636efa\",\"#EF553B\",\"#00cc96\",\"#ab63fa\",\"#FFA15A\",\"#19d3f3\",\"#FF6692\",\"#B6E880\",\"#FF97FF\",\"#FECB52\"],\"font\":{\"color\":\"#2a3f5f\"},\"geo\":{\"bgcolor\":\"white\",\"lakecolor\":\"white\",\"landcolor\":\"#E5ECF6\",\"showlakes\":true,\"showland\":true,\"subunitcolor\":\"white\"},\"hoverlabel\":{\"align\":\"left\"},\"hovermode\":\"closest\",\"mapbox\":{\"style\":\"light\"},\"paper_bgcolor\":\"white\",\"plot_bgcolor\":\"#E5ECF6\",\"polar\":{\"angularaxis\":{\"gridcolor\":\"white\",\"linecolor\":\"white\",\"ticks\":\"\"},\"bgcolor\":\"#E5ECF6\",\"radialaxis\":{\"gridcolor\":\"white\",\"linecolor\":\"white\",\"ticks\":\"\"}},\"scene\":{\"xaxis\":{\"backgroundcolor\":\"#E5ECF6\",\"gridcolor\":\"white\",\"gridwidth\":2,\"linecolor\":\"white\",\"showbackground\":true,\"ticks\":\"\",\"zerolinecolor\":\"white\"},\"yaxis\":{\"backgroundcolor\":\"#E5ECF6\",\"gridcolor\":\"white\",\"gridwidth\":2,\"linecolor\":\"white\",\"showbackground\":true,\"ticks\":\"\",\"zerolinecolor\":\"white\"},\"zaxis\":{\"backgroundcolor\":\"#E5ECF6\",\"gridcolor\":\"white\",\"gridwidth\":2,\"linecolor\":\"white\",\"showbackground\":true,\"ticks\":\"\",\"zerolinecolor\":\"white\"}},\"shapedefaults\":{\"line\":{\"color\":\"#2a3f5f\"}},\"ternary\":{\"aaxis\":{\"gridcolor\":\"white\",\"linecolor\":\"white\",\"ticks\":\"\"},\"baxis\":{\"gridcolor\":\"white\",\"linecolor\":\"white\",\"ticks\":\"\"},\"bgcolor\":\"#E5ECF6\",\"caxis\":{\"gridcolor\":\"white\",\"linecolor\":\"white\",\"ticks\":\"\"}},\"title\":{\"x\":0.05},\"xaxis\":{\"automargin\":true,\"gridcolor\":\"white\",\"linecolor\":\"white\",\"ticks\":\"\",\"title\":{\"standoff\":15},\"zerolinecolor\":\"white\",\"zerolinewidth\":2},\"yaxis\":{\"automargin\":true,\"gridcolor\":\"white\",\"linecolor\":\"white\",\"ticks\":\"\",\"title\":{\"standoff\":15},\"zerolinecolor\":\"white\",\"zerolinewidth\":2}}},\"xaxis\":{\"anchor\":\"y\",\"domain\":[0.0,1.0],\"title\":{\"text\":\"category_list\"}},\"yaxis\":{\"anchor\":\"x\",\"domain\":[0.0,1.0],\"title\":{\"text\":\"waiting_period_for_funding\"}},\"legend\":{\"title\":{\"text\":\"region\"},\"tracegroupgap\":0},\"margin\":{\"t\":40,\"l\":30,\"r\":30,\"b\":400},\"height\":800,\"width\":800,\"updatemenus\":[{\"buttons\":[{\"args\":[null,{\"frame\":{\"duration\":500,\"redraw\":false},\"mode\":\"immediate\",\"fromcurrent\":true,\"transition\":{\"duration\":500,\"easing\":\"linear\"}}],\"label\":\"&#9654;\",\"method\":\"animate\"},{\"args\":[[null],{\"frame\":{\"duration\":0,\"redraw\":false},\"mode\":\"immediate\",\"fromcurrent\":true,\"transition\":{\"duration\":0,\"easing\":\"linear\"}}],\"label\":\"&#9724;\",\"method\":\"animate\"}],\"direction\":\"left\",\"pad\":{\"r\":10,\"t\":600},\"showactive\":false,\"type\":\"buttons\",\"x\":0.1,\"xanchor\":\"right\",\"y\":0,\"yanchor\":\"top\"}],\"sliders\":[{\"active\":0,\"currentvalue\":{\"prefix\":\"region=\"},\"len\":0.9,\"pad\":{\"r\":10,\"t\":600},\"steps\":[{\"args\":[[\"Chennai\"],{\"frame\":{\"duration\":0,\"redraw\":false},\"mode\":\"immediate\",\"fromcurrent\":true,\"transition\":{\"duration\":0,\"easing\":\"linear\"}}],\"label\":\"Chennai\",\"method\":\"animate\"},{\"args\":[[\"Bangalore\"],{\"frame\":{\"duration\":0,\"redraw\":false},\"mode\":\"immediate\",\"fromcurrent\":true,\"transition\":{\"duration\":0,\"easing\":\"linear\"}}],\"label\":\"Bangalore\",\"method\":\"animate\"},{\"args\":[[\"New Delhi\"],{\"frame\":{\"duration\":0,\"redraw\":false},\"mode\":\"immediate\",\"fromcurrent\":true,\"transition\":{\"duration\":0,\"easing\":\"linear\"}}],\"label\":\"New Delhi\",\"method\":\"animate\"},{\"args\":[[\"Kanpur\"],{\"frame\":{\"duration\":0,\"redraw\":false},\"mode\":\"immediate\",\"fromcurrent\":true,\"transition\":{\"duration\":0,\"easing\":\"linear\"}}],\"label\":\"Kanpur\",\"method\":\"animate\"},{\"args\":[[\"Udupi\"],{\"frame\":{\"duration\":0,\"redraw\":false},\"mode\":\"immediate\",\"fromcurrent\":true,\"transition\":{\"duration\":0,\"easing\":\"linear\"}}],\"label\":\"Udupi\",\"method\":\"animate\"},{\"args\":[[\"Vadodara\"],{\"frame\":{\"duration\":0,\"redraw\":false},\"mode\":\"immediate\",\"fromcurrent\":true,\"transition\":{\"duration\":0,\"easing\":\"linear\"}}],\"label\":\"Vadodara\",\"method\":\"animate\"},{\"args\":[[\"Mumbai\"],{\"frame\":{\"duration\":0,\"redraw\":false},\"mode\":\"immediate\",\"fromcurrent\":true,\"transition\":{\"duration\":0,\"easing\":\"linear\"}}],\"label\":\"Mumbai\",\"method\":\"animate\"},{\"args\":[[\"Chandigarh\"],{\"frame\":{\"duration\":0,\"redraw\":false},\"mode\":\"immediate\",\"fromcurrent\":true,\"transition\":{\"duration\":0,\"easing\":\"linear\"}}],\"label\":\"Chandigarh\",\"method\":\"animate\"},{\"args\":[[\"Hyderabad\"],{\"frame\":{\"duration\":0,\"redraw\":false},\"mode\":\"immediate\",\"fromcurrent\":true,\"transition\":{\"duration\":0,\"easing\":\"linear\"}}],\"label\":\"Hyderabad\",\"method\":\"animate\"},{\"args\":[[\"Ahmedabad\"],{\"frame\":{\"duration\":0,\"redraw\":false},\"mode\":\"immediate\",\"fromcurrent\":true,\"transition\":{\"duration\":0,\"easing\":\"linear\"}}],\"label\":\"Ahmedabad\",\"method\":\"animate\"},{\"args\":[[\"Pune\"],{\"frame\":{\"duration\":0,\"redraw\":false},\"mode\":\"immediate\",\"fromcurrent\":true,\"transition\":{\"duration\":0,\"easing\":\"linear\"}}],\"label\":\"Pune\",\"method\":\"animate\"},{\"args\":[[\"Kolkata\"],{\"frame\":{\"duration\":0,\"redraw\":false},\"mode\":\"immediate\",\"fromcurrent\":true,\"transition\":{\"duration\":0,\"easing\":\"linear\"}}],\"label\":\"Kolkata\",\"method\":\"animate\"},{\"args\":[[\"Bhubaneswar\"],{\"frame\":{\"duration\":0,\"redraw\":false},\"mode\":\"immediate\",\"fromcurrent\":true,\"transition\":{\"duration\":0,\"easing\":\"linear\"}}],\"label\":\"Bhubaneswar\",\"method\":\"animate\"},{\"args\":[[\"Delhi\"],{\"frame\":{\"duration\":0,\"redraw\":false},\"mode\":\"immediate\",\"fromcurrent\":true,\"transition\":{\"duration\":0,\"easing\":\"linear\"}}],\"label\":\"Delhi\",\"method\":\"animate\"},{\"args\":[[\"Bhopal\"],{\"frame\":{\"duration\":0,\"redraw\":false},\"mode\":\"immediate\",\"fromcurrent\":true,\"transition\":{\"duration\":0,\"easing\":\"linear\"}}],\"label\":\"Bhopal\",\"method\":\"animate\"},{\"args\":[[\"Trivandrum\"],{\"frame\":{\"duration\":0,\"redraw\":false},\"mode\":\"immediate\",\"fromcurrent\":true,\"transition\":{\"duration\":0,\"easing\":\"linear\"}}],\"label\":\"Trivandrum\",\"method\":\"animate\"},{\"args\":[[\"IND - Other\"],{\"frame\":{\"duration\":0,\"redraw\":false},\"mode\":\"immediate\",\"fromcurrent\":true,\"transition\":{\"duration\":0,\"easing\":\"linear\"}}],\"label\":\"IND - Other\",\"method\":\"animate\"},{\"args\":[[\"Jaipur\"],{\"frame\":{\"duration\":0,\"redraw\":false},\"mode\":\"immediate\",\"fromcurrent\":true,\"transition\":{\"duration\":0,\"easing\":\"linear\"}}],\"label\":\"Jaipur\",\"method\":\"animate\"},{\"args\":[[\"Surat\"],{\"frame\":{\"duration\":0,\"redraw\":false},\"mode\":\"immediate\",\"fromcurrent\":true,\"transition\":{\"duration\":0,\"easing\":\"linear\"}}],\"label\":\"Surat\",\"method\":\"animate\"},{\"args\":[[\"Guwahati\"],{\"frame\":{\"duration\":0,\"redraw\":false},\"mode\":\"immediate\",\"fromcurrent\":true,\"transition\":{\"duration\":0,\"easing\":\"linear\"}}],\"label\":\"Guwahati\",\"method\":\"animate\"},{\"args\":[[\"Haryana\"],{\"frame\":{\"duration\":0,\"redraw\":false},\"mode\":\"immediate\",\"fromcurrent\":true,\"transition\":{\"duration\":0,\"easing\":\"linear\"}}],\"label\":\"Haryana\",\"method\":\"animate\"},{\"args\":[[\"Goa\"],{\"frame\":{\"duration\":0,\"redraw\":false},\"mode\":\"immediate\",\"fromcurrent\":true,\"transition\":{\"duration\":0,\"easing\":\"linear\"}}],\"label\":\"Goa\",\"method\":\"animate\"},{\"args\":[[\"Mangalore\"],{\"frame\":{\"duration\":0,\"redraw\":false},\"mode\":\"immediate\",\"fromcurrent\":true,\"transition\":{\"duration\":0,\"easing\":\"linear\"}}],\"label\":\"Mangalore\",\"method\":\"animate\"},{\"args\":[[\"Cochin\"],{\"frame\":{\"duration\":0,\"redraw\":false},\"mode\":\"immediate\",\"fromcurrent\":true,\"transition\":{\"duration\":0,\"easing\":\"linear\"}}],\"label\":\"Cochin\",\"method\":\"animate\"},{\"args\":[[\"Ghaziabad\"],{\"frame\":{\"duration\":0,\"redraw\":false},\"mode\":\"immediate\",\"fromcurrent\":true,\"transition\":{\"duration\":0,\"easing\":\"linear\"}}],\"label\":\"Ghaziabad\",\"method\":\"animate\"},{\"args\":[[\"Indore\"],{\"frame\":{\"duration\":0,\"redraw\":false},\"mode\":\"immediate\",\"fromcurrent\":true,\"transition\":{\"duration\":0,\"easing\":\"linear\"}}],\"label\":\"Indore\",\"method\":\"animate\"},{\"args\":[[\"Faridabad\"],{\"frame\":{\"duration\":0,\"redraw\":false},\"mode\":\"immediate\",\"fromcurrent\":true,\"transition\":{\"duration\":0,\"easing\":\"linear\"}}],\"label\":\"Faridabad\",\"method\":\"animate\"},{\"args\":[[\"Vijayawada\"],{\"frame\":{\"duration\":0,\"redraw\":false},\"mode\":\"immediate\",\"fromcurrent\":true,\"transition\":{\"duration\":0,\"easing\":\"linear\"}}],\"label\":\"Vijayawada\",\"method\":\"animate\"},{\"args\":[[\"Nasik\"],{\"frame\":{\"duration\":0,\"redraw\":false},\"mode\":\"immediate\",\"fromcurrent\":true,\"transition\":{\"duration\":0,\"easing\":\"linear\"}}],\"label\":\"Nasik\",\"method\":\"animate\"},{\"args\":[[\"Mysore\"],{\"frame\":{\"duration\":0,\"redraw\":false},\"mode\":\"immediate\",\"fromcurrent\":true,\"transition\":{\"duration\":0,\"easing\":\"linear\"}}],\"label\":\"Mysore\",\"method\":\"animate\"},{\"args\":[[\"Vellore\"],{\"frame\":{\"duration\":0,\"redraw\":false},\"mode\":\"immediate\",\"fromcurrent\":true,\"transition\":{\"duration\":0,\"easing\":\"linear\"}}],\"label\":\"Vellore\",\"method\":\"animate\"},{\"args\":[[\"Kochi\"],{\"frame\":{\"duration\":0,\"redraw\":false},\"mode\":\"immediate\",\"fromcurrent\":true,\"transition\":{\"duration\":0,\"easing\":\"linear\"}}],\"label\":\"Kochi\",\"method\":\"animate\"},{\"args\":[[\"Jodhpur\"],{\"frame\":{\"duration\":0,\"redraw\":false},\"mode\":\"immediate\",\"fromcurrent\":true,\"transition\":{\"duration\":0,\"easing\":\"linear\"}}],\"label\":\"Jodhpur\",\"method\":\"animate\"},{\"args\":[[\"Secunderabad\"],{\"frame\":{\"duration\":0,\"redraw\":false},\"mode\":\"immediate\",\"fromcurrent\":true,\"transition\":{\"duration\":0,\"easing\":\"linear\"}}],\"label\":\"Secunderabad\",\"method\":\"animate\"},{\"args\":[[\"Nagpur\"],{\"frame\":{\"duration\":0,\"redraw\":false},\"mode\":\"immediate\",\"fromcurrent\":true,\"transition\":{\"duration\":0,\"easing\":\"linear\"}}],\"label\":\"Nagpur\",\"method\":\"animate\"},{\"args\":[[\"Madhapur\"],{\"frame\":{\"duration\":0,\"redraw\":false},\"mode\":\"immediate\",\"fromcurrent\":true,\"transition\":{\"duration\":0,\"easing\":\"linear\"}}],\"label\":\"Madhapur\",\"method\":\"animate\"},{\"args\":[[\"Mohali\"],{\"frame\":{\"duration\":0,\"redraw\":false},\"mode\":\"immediate\",\"fromcurrent\":true,\"transition\":{\"duration\":0,\"easing\":\"linear\"}}],\"label\":\"Mohali\",\"method\":\"animate\"},{\"args\":[[\"Hubli\"],{\"frame\":{\"duration\":0,\"redraw\":false},\"mode\":\"immediate\",\"fromcurrent\":true,\"transition\":{\"duration\":0,\"easing\":\"linear\"}}],\"label\":\"Hubli\",\"method\":\"animate\"},{\"args\":[[\"Thiruvananthapuram\"],{\"frame\":{\"duration\":0,\"redraw\":false},\"mode\":\"immediate\",\"fromcurrent\":true,\"transition\":{\"duration\":0,\"easing\":\"linear\"}}],\"label\":\"Thiruvananthapuram\",\"method\":\"animate\"},{\"args\":[[\"Thane\"],{\"frame\":{\"duration\":0,\"redraw\":false},\"mode\":\"immediate\",\"fromcurrent\":true,\"transition\":{\"duration\":0,\"easing\":\"linear\"}}],\"label\":\"Thane\",\"method\":\"animate\"},{\"args\":[[\"Ernakulam\"],{\"frame\":{\"duration\":0,\"redraw\":false},\"mode\":\"immediate\",\"fromcurrent\":true,\"transition\":{\"duration\":0,\"easing\":\"linear\"}}],\"label\":\"Ernakulam\",\"method\":\"animate\"},{\"args\":[[\"Thrissur\"],{\"frame\":{\"duration\":0,\"redraw\":false},\"mode\":\"immediate\",\"fromcurrent\":true,\"transition\":{\"duration\":0,\"easing\":\"linear\"}}],\"label\":\"Thrissur\",\"method\":\"animate\"},{\"args\":[[\"Jabalpur\"],{\"frame\":{\"duration\":0,\"redraw\":false},\"mode\":\"immediate\",\"fromcurrent\":true,\"transition\":{\"duration\":0,\"easing\":\"linear\"}}],\"label\":\"Jabalpur\",\"method\":\"animate\"},{\"args\":[[\"Madurai\"],{\"frame\":{\"duration\":0,\"redraw\":false},\"mode\":\"immediate\",\"fromcurrent\":true,\"transition\":{\"duration\":0,\"easing\":\"linear\"}}],\"label\":\"Madurai\",\"method\":\"animate\"},{\"args\":[[\"Ludhiana\"],{\"frame\":{\"duration\":0,\"redraw\":false},\"mode\":\"immediate\",\"fromcurrent\":true,\"transition\":{\"duration\":0,\"easing\":\"linear\"}}],\"label\":\"Ludhiana\",\"method\":\"animate\"},{\"args\":[[\"Belgaum\"],{\"frame\":{\"duration\":0,\"redraw\":false},\"mode\":\"immediate\",\"fromcurrent\":true,\"transition\":{\"duration\":0,\"easing\":\"linear\"}}],\"label\":\"Belgaum\",\"method\":\"animate\"}],\"x\":0.1,\"xanchor\":\"left\",\"y\":0,\"yanchor\":\"top\"}],\"paper_bgcolor\":\"LightSteelBlue\"},                        {\"responsive\": true}                    ).then(function(){\n",
              "                            Plotly.addFrames('9cf50881-434d-4011-a2e9-a7d300a31af7', [{\"data\":[{\"hovertemplate\":\"region=Chennai<br>category_list=%{x}<br>waiting_period_for_funding=%{y}<extra></extra>\",\"legendgroup\":\"Chennai\",\"marker\":{\"color\":\"#636efa\",\"symbol\":\"circle\"},\"mode\":\"markers\",\"name\":\"Chennai\",\"orientation\":\"v\",\"showlegend\":true,\"x\":[\"Beauty\",\"Network Security|Security\",\"Apps|Education|Language Learning|Natural Language Processing|Neuroscience|Teachers\",\"Credit Cards|Curated Web|Finance|Insurance|Real Estate Investors\",\"Messaging\",\"Curated Web|Match-Making\",\"E-Commerce\",\"Software\",\"Data Integration|Online Reservations|Online Scheduling\",\"E-Commerce\",\"Hospitality\",\"E-Commerce|Jewelry\",\"Real Estate\",\"E-Commerce|Wholesale\",\"Internet\",\"Consulting\",\"Financial Services|FinTech|Indians\",\"Health and Wellness|Hospitals|Manufacturing|Medical Devices\",\"Technology\",\"EdTech|Education\",\"Web Design|Web Development|Web Hosting\",\"EdTech|Education\",\"Digital Media|Kids\",\"Finance\",\"Software\",\"Software\",\"Software\",\"E-Commerce|Kids|Textbooks\",\"E-Commerce\",\"Finance|Financial Services\",\"Finance\",\"Finance\",\"E-Commerce\",\"E-Commerce|Fashion|Marketplaces|Printing\",\"Apps\",\"Biotechnology|Diabetes\",\"Classifieds|Curated Web\",\"Finance\",\"Education\",\"Electric Vehicles|Manufacturing|Mobility\",\"Games|Virtual Worlds\",\"Cloud Computing|Software|Web Development\",\"Cloud Computing|Enterprise Software|PaaS\",\"Clean Technology|Environmental Innovation|Renewable Energies\",\"Biotechnology\",\"Recruiting|Software\",\"Finance\",\"Clean Technology|Hospitality|Technology\",\"Cloud Computing\",\"Hardware + Software\",\"Image Recognition\",\"Cloud Infrastructure|SaaS\",\"E-Commerce|Fashion\",\"Enterprise Software\",\"E-Commerce|Hotels|Online Reservations|Travel\",\"E-Commerce|Local Businesses|Online Rental\",\"Health and Wellness|Health Diagnostics\",\"Clean Technology|Distribution\",\"Delivery|Mobile|Retail\"],\"xaxis\":\"x\",\"y\":[5,4,5,3,17,39,7,0,1,0,15,3,9,32,16,1,3,11,2,5,11,7,0,6,3,11,23,0,0,1,8,7,1,2,1,3,9,1,2,0,2,0,9,1,2,3,3,6,16,22,12,0,0,0,8,15,5,2,1],\"yaxis\":\"y\",\"type\":\"scatter\"}],\"name\":\"Chennai\"},{\"data\":[{\"hovertemplate\":\"region=Bangalore<br>category_list=%{x}<br>waiting_period_for_funding=%{y}<extra></extra>\",\"legendgroup\":\"Bangalore\",\"marker\":{\"color\":\"#EF553B\",\"symbol\":\"circle\"},\"mode\":\"markers\",\"name\":\"Bangalore\",\"orientation\":\"v\",\"showlegend\":true,\"x\":[\"Chat|Mobile\",\"EdTech|Education|Systems\",\"3D|Mobile\",\"Software\",\"Crowdsourcing|Curated Web|Sports\",\"Internet Service Providers|Networking\",\"Child Care|Health and Wellness|Health Care|Medical\",\"Advertising|Mobile Commerce|Social Media Marketing\",\"Analytics|Big Data\",\"Match-Making\",\"Analytics|Automotive|E-Commerce|EdTech|Education|Internet|Payments\",\"Hardware + Software\",\"Advertising\",\"Finance|FinTech|Internet|Technology\",\"Software\",\"Finance\",\"E-Commerce|Handmade|Jewelry\",\"E-Commerce|Price Comparison|Property Management|Rental Housing\",\"Software\",\"Finance|Financial Services|FinTech|Information Technology|Social Entrepreneurship|Software|Technology\",\"Information Technology\",\"Automotive|Electric Vehicles\",\"Clean Technology\",\"Cloud Security|Internet of Things|Mobile Enterprise|Mobile Security|SaaS\",\"Security\",\"SaaS|Software\",\"Curated Web|Information Technology|Services|Staffing Firms\",\"Finance\",\"Internet\",\"Analytics|Machine Learning|Mobile|Recruiting\",\"E-Commerce|Groceries|Online Shopping\",\"Marketplaces|Travel\",\"Curated Web\",\"Education|Training\",\"Education\",\"E-Commerce|Marketplaces|Services\",\"Curated Web\",\"E-Commerce|Internet\",\"Coffee|Specialty Foods\",\"College Campuses|Crowdsourcing|Education|University Students\",\"Software\",\"Financial Services|Small and Medium Businesses\",\"Furniture\",\"Automotive\",\"Software\",\"Food Processing\",\"E-Commerce\",\"Curated Web\",\"Apps|Entertainment|Services\",\"Big Data|Cloud Infrastructure|Information Technology\",\"E-Commerce\",\"Fashion|Sports\",\"Governments|Health and Insurance\",\"Real Estate\",\"Information Services|Internet|Services\",\"Intellectual Asset Management|M2M|Mobility|Security|Software|Telecommunications\",\"Consulting|Software\",\"E-Commerce\",\"Android|Apps|Photography|Video|Video Editing\",\"Mobility\",\"Information Technology|Services|Transportation\",\"Art|Consumer Internet|Creative Industries|E-Commerce\",\"Customer Service|Software|Technology\",\"Facebook Applications|Networking|Online Dating|Social Media|Women\",\"Enterprise Software\",\"Advertising|Auctions|Search Marketing\",\"Online Shopping\",\"Design|Product Design|Social Innovation\",\"Games\",\"Apps\",\"Restaurants\",\"Real Estate\",\"Restaurants\",\"Food Processing|Restaurants\",\"Fashion\",\"Software\",\"Analytics|Logistics|Software|Storage|Supply Chain Management|Trading\",\"Retail\",\"Hardware + Software\",\"Local Businesses|Market Research|Software\",\"Information Technology|Services\",\"General Public Worldwide|SaaS|Technology\",\"Social Media|Social Network Media\",\"E-Commerce|Hotels\",\"Curated Web\",\"Consulting\",\"Software\",\"Education\",\"Event Management|Ticketing\",\"Travel & Tourism\",\"Mobile\",\"Entertainment|Media\",\"Consumers|Curated Web|E-Commerce|Internet|Startups\",\"Security\",\"Automotive|Cars|Internet\",\"Computers|Consulting|Information Technology\",\"Internet|Professional Services|Services\",\"Real Estate\",\"Education\",\"E-Commerce|Online Shopping\",\"Software\",\"Business Services|Information Technology|Mobile\",\"Analytics|Big Data|Big Data Analytics|Data Mining|Predictive Analytics|Software\",\"Financial Services\",\"Curated Web\",\"Consumer Electronics\",\"Advertising|Postal and Courier Services|Startups\",\"Social Media\",\"Internet\",\"Consumers\",\"E-Commerce Platforms\",\"Hardware + Software\",\"Consumer Goods\",\"E-Commerce\",\"Retail\",\"Consulting\",\"Software\",\"Messaging\",\"Finance\",\"Application Platforms|Innovation Management|Startups|Technology\",\"Android|Apps|Chat|Education|Educational Games|Edutainment|iOS|iPad|iPhone|Kids|Messaging|Parenting\",\"Search\",\"Analytics|EdTech|K-12 Education|Parenting\",\"Health and Wellness\",\"Software\",\"Software\",\"Events|Public Relations|Training\",\"Nonprofits\",\"Health and Wellness|Health Care|Health Care Information Technology|Internet\",\"Health and Wellness\",\"Internet\",\"Education\",\"Logistics|Postal and Courier Services\",\"Resorts|Surveys|Travel\",\"Interior Design\",\"Real Estate\",\"E-Commerce\",\"Internet\",\"Analytics|Big Data|Visualization\",\"Enterprise Software|Security\",\"Computer Vision|Machine Learning|Mobile|Visual Search\",\"Software\",\"Consumer Goods|Online Shopping|Retail|Specialty Foods\",\"Data Center Automation|Data Centers|Enterprises\",\"Financial Services|Mobile|Mobile Payments|NFC|Software\",\"E-Commerce\",\"Finance\",\"Apps|Mobile|Search\",\"SaaS|Software\",\"Security|Software\",\"Software\",\"Network Security|Security\",\"Internet\",\"Analytics\",\"Curated Web|Human Resources|Recruiting\",\"Education\",\"Analytics|Big Data|Real Time\",\"Apps|E-Commerce|Handmade|Marketplaces|Mobile Commerce|Mobile Payments\",\"Education\",\"Health Care\",\"Travel\",\"Enterprise Software\",\"Finance|FinTech\",\"Hardware + Software\",\"E-Commerce|Groceries|Mobile Commerce|Retail\",\"Software\",\"EdTech|Education\",\"Investment Management|Professional Services|Real Estate\",\"E-Commerce|Retail\",\"Clean Technology\",\"Banking|Financial Services|Marketplaces\",\"Apps|Communities|Facebook Applications|Mobile|Social Commerce|Social CRM|Social Media Marketing|Software\",\"Social Media\",\"EdTech|Education\",\"Education\",\"Local Businesses\",\"Android|Mobile|Testing\",\"Interior Design\",\"Games\",\"Automotive\",\"Food Processing|Manufacturing|Specialty Foods\",\"Analytics|Business Services\",\"Analytics|Big Data Analytics|Business Intelligence|Market Research\",\"Doctors|Health Care|Pharmaceuticals\",\"Health Care|Hospitals|Medical\",\"Health and Wellness\",\"Health Care|Healthcare Services\",\"Health Care\",\"Analytics\",\"Social Media\",\"Aerospace|Defense|Embedded Hardware and Software|Homeland Security|Product Development Services\",\"Mobile|Publishing\",\"EdTech|Education\",\"Education\",\"Mobile|Mobile Enterprise|SaaS\",\"Digital Media|Mobile Payments|Startups\",\"Game\",\"Automotive|Brand Marketing|Design|Services\",\"Software\",\"Public Relations\",\"Curated Web|Social CRM\",\"Career Planning|Guides|Travel\",\"Human Resources|Recruiting\",\"E-Commerce\",\"Advertising Networks|Facebook Applications|Mobile|Recruiting|Search|Social Media\",\"Software\",\"Business Services|E-Commerce|Internet|Services\",\"Analytics|Software\",\"Health and Wellness\",\"Advertising\",\"Trading\",\"Real Estate\",\"News|Social News\",\"Consulting\",\"Internet|Software\",\"Innovation Engineering|Marketplaces|Mobile\",\"Location Based Services|Logistics|Transportation|Wireless\",\"Real Estate|Rental Housing\",\"Health Care\",\"Software\",\"E-Commerce\",\"Logistics\",\"Location Based Services|Mobile\",\"Active Lifestyle|Fitness|Location Based Services\",\"Ad Targeting|Advertising|Advertising Platforms|Curated Web|E-Commerce|Internet Technology|Marketing Automation|Real Time|Retail Technology\",\"Travel & Tourism\",\"Enterprise Software|Information Security|Risk Management\",\"Logistics\",\"Real Estate\",\"Mobile\",\"Curated Web\",\"Software\",\"Health Care|Marketplaces|SaaS|Software\",\"News\",\"Manufacturing\",\"Retail\",\"Logistics\",\"Health and Wellness|Health Care Information Technology|Mobile Health|Telephony\",\"Internet Marketing|SaaS|Search Marketing|SEO|Software\",\"Apps\",\"Collaboration|Creative|Curated Web|Music\",\"FinTech|Payments\",\"Real Estate\",\"Curated Web\",\"Information Technology|Technology\",\"Internet|Technology\",\"Mobile Advertising\",\"Hospitality\",\"Android|Artificial Intelligence|Hardware + Software|Robotics\",\"Information Technology\",\"Public Transportation\",\"Marketplaces|Startups|Venture Capital\",\"Investment Management\",\"Industrial|Industrial Automation|Navigation\",\"E-Commerce\",\"Information Security|SaaS\",\"E-Commerce\",\"Transportation\",\"Clean Energy|Clean Technology|Solar\",\"Software\",\"EdTech|Education\",\"EdTech|Education\",\"Service Providers|Telecommunications|Wireless\",\"Clean Technology\",\"Brand Marketing|Public Relations|Sales and Marketing\",\"Health Care Information Technology|Software\",\"Search\",\"Logistics|Services|Supply Chain Management\",\"Analytics\",\"Consumer Goods|Hospitality|Service Industries|Specialty Foods\",\"Advertising|Small and Medium Businesses|Startups\",\"Health and Wellness\",\"Startups\",\"Big Data|Big Data Analytics|Finance Technology|Stock Exchanges\",\"E-Commerce|Marketplaces|Online Shopping|Shopping|Social Media\",\"Real Estate|Software\",\"Internet\",\"Education\",\"Language Learning\",\"B2B|Customer Support Tools|Software\",\"News\",\"Manufacturing\",\"Food Processing\",\"Medical\",\"Games\",\"Consumer Internet|Entertainment|Games|SaaS\",\"Mobile\",\"Automotive|Transportation\",\"Web Hosting\",\"Mobile\",\"Advertising|Enterprises|Logistics|Mobile|Mobile Software Tools|Services|Software|Wireless\",\"Curated Web\",\"Software\",\"Transportation\",\"Education\",\"Curated Web\",\"Online Travel|Travel\",\"Design\",\"Financial Services\",\"Business Analytics|Employer Benefits Programs|Enterprise Software|Human Resource Automation|Incentives\",\"Transportation\",\"Software\",\"Hospitality\",\"Apps\",\"Travel\",\"Analytics|Technology|Tracking\",\"Games|Music|SaaS\",\"Entertainment|Events|Leisure|Travel\",\"Education\",\"Collaboration|Enterprises|Enterprise Software|Freemium|Human Resource Automation|Human Resources|SaaS|Subscription Businesses\",\"E-Commerce\",\"E-Commerce|Navigation|Software\",\"Outsourcing\",\"Mobile|Synchronization\",\"Consulting\",\"E-Commerce|Furniture|Home Decor|Home & Garden|Internet|Technology\",\"Finance\",\"EdTech|Education|Mobile|Technology|Tutoring\",\"Education\",\"Startups\",\"Travel\",\"Software\",\"Databases|Search|Video\",\"Finance\",\"Consulting\",\"Advertising|Internet|Tech Field Support\",\"Software\",\"Business Development|Business Services|Entrepreneur\",\"Ad Targeting|Advertising|Internet Marketing\",\"E-Commerce|Fashion|Lifestyle|Social Media\",\"E-Commerce\",\"Fashion\",\"Enterprise Software\",\"Online Rental\",\"Clean Technology\",\"E-Commerce\",\"Apps|Enterprise Software|Mobile|Mobile Analytics|Mobile Enterprise|Mobile Infrastructure|Mobile Software Tools\",\"Curated Web|Social Buying\",\"Travel & Tourism\",\"Education|Edutainment|K-12 Education\",\"Fitness|Health and Wellness|Healthcare Services\",\"Internet|Media|News|Public Relations|Publishing\",\"Ad Targeting|Advertising Platforms|Big Data|Digital Media|Mobile Advertising|Television\",\"Fashion\",\"Crowdfunding|Crowdsourcing|Social Commerce\",\"Mobile\",\"Mobile\",\"Fashion|Internet|Lingerie\",\"Software\",\"Automotive|Consumers|E-Commerce|Transportation\",\"Internet\",\"Groceries|Logistics\"],\"xaxis\":\"x\",\"y\":[2,6,1,-1,1,7,4,1,1,1,2,1,5,2,2,1,0,5,1,0,0,1,13,2,0,2,5,1,1,0,3,1,1,1,1,0,22,3,10,2,3,1,0,0,4,5,4,4,0,0,0,2,11,6,1,0,3,2,0,4,1,1,5,-1,1,3,4,0,9,1,0,0,1,0,1,3,1,1,0,3,3,3,1,6,1,2,10,1,5,0,1,1,1,14,2,4,0,2,1,2,1,0,2,2,1,2,0,1,1,4,0,6,0,1,1,36,2,0,14,2,0,0,4,3,1,0,4,6,1,2,1,2,1,9,1,0,0,1,0,0,0,4,8,4,2,1,12,4,0,0,1,2,0,4,1,9,3,0,4,1,4,3,7,5,1,1,4,0,0,11,0,7,5,3,3,0,1,2,2,12,26,11,4,0,1,1,1,1,16,1,11,4,1,2,8,0,2,3,5,3,2,6,1,0,-1,2,0,2,3,0,2,0,5,6,1,14,7,1,3,1,1,0,0,1,2,2,14,1,0,1,1,2,4,0,3,1,0,3,0,1,1,2,1,3,1,6,2,2,0,5,6,0,3,0,6,1,0,4,0,9,2,4,7,-4,1,1,1,17,5,1,0,0,1,0,0,0,0,2,6,1,8,21,1,0,0,2,1,1,5,7,2,3,0,1,3,2,5,1,1,2,0,3,0,2,2,3,0,0,1,0,0,1,17,0,1,0,0,-1,0,0,1,2,3,1,1,1,9,2,2,1,0,0,0,1,1,21,1,3,2,1,1,7,1,0,0,1,2,1,2,1,0,0],\"yaxis\":\"y\",\"type\":\"scatter\"}],\"name\":\"Bangalore\"},{\"data\":[{\"hovertemplate\":\"region=New Delhi<br>category_list=%{x}<br>waiting_period_for_funding=%{y}<extra></extra>\",\"legendgroup\":\"New Delhi\",\"marker\":{\"color\":\"#00cc96\",\"symbol\":\"circle\"},\"mode\":\"markers\",\"name\":\"New Delhi\",\"orientation\":\"v\",\"showlegend\":true,\"x\":[\"E-Commerce\",\"Mobile\",\"Business Services|Outsourcing\",\"Energy|Mining Technologies\",\"Curated Web|Internet|Legal|Semantic Search|SEO\",\"Mobile\",\"Advertising Platforms|Apps|Monetization\",\"Advertising\",\"Analytics|Software\",\"Consumer Internet|Digital Media|Enterprise Software|Mobile\",\"E-Commerce|Education|Kids|Retail\",\"BPO Services|Consulting|Outsourcing\",\"Software\",\"Apps|Mobile|Mobile Commerce\",\"Education\",\"Human Resources\",\"Journalism|News\",\"Real Estate|Startups\",\"Clean Technology\",\"Automotive|E-Commerce\",\"Consumer Goods|E-Commerce|Industrial\",\"Hospitality\",\"Clean Technology|Energy|Renewable Energies\",\"Food Processing\",\"E-Commerce|Fashion|Shoes\",\"Clean Technology\",\"E-Commerce|Fashion|Retail|Women\",\"Internet|Marketplaces|Mobile\",\"Hardware|Hardware + Software|Robotics\",\"Restaurants\",\"E-Commerce\",\"Advertising|Art|Audio|Blogging Platforms|Business Development|Chat|Entertainment|Events|Finance|Forums|Franchises|Human Resources|Legal|News|Photography|Social Media|Video\",\"E-Commerce|Fashion|Internet|Lifestyle\",\"E-Commerce\",\"Education\",\"E-Commerce|Event Management|Events|Internet|Marketplaces|Services|Ticketing\",\"E-Commerce\",\"Restaurants\",\"Curated Web|Electronics|Price Comparison\",\"E-Commerce|Search\",\"Software\",\"Android|Apps|Credit Cards|Discounts|iPhone|Location Based Services|Loyalty Programs|Mobile\",\"Automotive|Cars|Online Shopping\",\"Software\",\"Knowledge Management|Online Shopping|Writers\",\"Biotechnology\",\"Startups\",\"Analytics|Business Services|Finance|Outsourcing\",\"Semiconductors\",\"EdTech|Education\",\"Analytics|Business Intelligence|Consulting|Predictive Analytics\",\"Accounting|Finance|Financial Services|FinTech\",\"Fashion\",\"Digital Media|Health Care Information Technology|Mobile Advertising\",\"All Students|Career Management|Colleges|EdTech|Education|Internet|Media|Technology\",\"Application Platforms|Assisitive Technology|Professional Services\",\"Entrepreneur|Finance|Startups\",\"Content|E-Commerce|Marketplaces\",\"Education|Electronics|Hardware\",\"CRM|Software\",\"Education\",\"Health Care\",\"Health and Wellness\",\"Computers|Consumer Electronics|E-Commerce|Fashion|Gadget|Mac|Mobile\",\"Curated Web|E-Commerce|Flash Sales|Group Buying|Social Commerce\",\"Logistics|Supply Chain Management\",\"Communities|Social Media|Social Network Media\",\"E-Commerce|Health and Wellness|Health Care|Medical|Mobile Health\",\"Pets\",\"Automotive|E-Commerce Platforms|Marketplaces\",\"Plumbers|Service Providers\",\"E-Commerce|Logistics\",\"Education\",\"Education|Marketplaces\",\"Consulting\",\"Chemicals\",\"Enterprises|Information Technology|Startups\",\"Health and Wellness\",\"E-Commerce\",\"Internet|Robotics|Software|Tracking\",\"E-Commerce|Fashion|Internet|Lifestyle|Retail\",\"Real Estate\",\"Mobile Shopping|Online Shopping\",\"Marketplaces\",\"E-Commerce\",\"Art|Fashion|Handmade|Home & Garden|Internet|Jewelry|Local Businesses|Marketplaces|Online Shopping\",\"Consulting|Freelancers|Marketplaces|Professional Services|Project Management\",\"Android|Apps|Productivity Software\",\"Real Time|Restaurants|Social Media\",\"Food Processing\",\"Internet\",\"B2B|Cloud Data Services|E-Commerce|Internet of Things|Marketplaces\",\"Finance\",\"Brand Marketing|Design|Graphics|Media|Optimization|Public Relations|Publishing|Sales and Marketing|Software\",\"Broadcasting|Media\",\"Software\",\"Entertainment|Games\",\"E-Commerce|Internet|Jewelry\",\"Music|Music Services|Social Network Media\",\"Enterprises|Marketplaces\",\"Technology\",\"Communities|Golf Equipment|Sports\",\"Internet\",\"Education\",\"Audio|Internet Radio Market|Social Media|Social Network Media\",\"Consumer Electronics|Groceries|Pharmaceuticals|Retail\",\"Internet Service Providers\",\"Enterprise Software|Information Technology|Social Network Media\",\"E-Commerce\",\"E-Commerce|Online Shopping\",\"Health and Wellness\",\"Messaging|Mobile\",\"Internet|Travel\",\"Logistics\",\"E-Commerce|Online Shopping|Retail\",\"Transportation\",\"Enterprise Software|Hospitality|Hotels\",\"Delivery|Restaurants|Services\",\"News|Technology\",\"Consulting|Databases|Market Research\",\"Career Management|Education\",\"Games\",\"Media\",\"Classifieds|Music\",\"Financial Services\",\"B2B|E-Commerce|Marketplaces|Services\",\"Designers|E-Commerce|Fashion|Online Shopping\",\"Lifestyle|Restaurants|Specialty Foods\",\"Information Technology\",\"Software\",\"Telecommunications\",\"Information Technology\",\"Consulting|Outsourcing\",\"Software\",\"Education\",\"Hotels|Mobile|Online Travel|Search|Travel|Travel & Tourism\",\"Computers|Hardware + Software|Information Technology|Tech Field Support\",\"Beauty|Fashion|Jewelry|Online Shopping|Shoes|Toys\",\"E-Commerce|Marketplaces\",\"Travel\",\"Organic\",\"Publishing\",\"Software\",\"E-Commerce|SaaS\",\"Android|E-Commerce|Enterprise Software|iOS|Mobile Commerce|Mobile Enterprise|Mobile Shopping|Software|Web Design|Web Development\",\"Messaging\",\"Cloud Computing|Emerging Markets|SaaS|Small and Medium Businesses|Software|Telephony\",\"Content Creators|Crowdsourcing|Marketplaces\",\"New Product Development|Product Design|Sales and Marketing\",\"Health Care\",\"Internet\",\"All Students|Clean Technology|Hotels|Service Providers\",\"Apps|Local Based Services|Local Businesses\",\"Consumers|Wearables\",\"Internet Marketing|Mobile|Software|Web Development\",\"Consumer Goods|Eyewear|Online Shopping\",\"E-Commerce|Event Management|Events\",\"E-Commerce|Social Media\",\"Business Development|Internet Marketing|Local Businesses\",\"Education\",\"Manufacturing\",\"Health and Wellness\",\"Transportation|Travel\",\"Food Processing\",\"E-Commerce\",\"Food Processing\",\"Information Technology|Media|News|Social News\",\"Analytics|Apps|Education|SaaS\",\"EdTech|Education\",\"Human Resources|Information Technology|Internet|Recruiting\",\"Education|K-12 Education|Online Education\",\"Skill Assessment|Software|Testing\",\"Mobile\",\"Bridging Online and Offline|Internet|Marketplaces\",\"Curated Web|Internet|Mobile|Mobile Payments|Payments|Service Providers|Telecommunications\",\"Transportation\",\"Automotive\",\"Hospitality|Marketplaces|Professional Services|Services\",\"Public Transportation\",\"E-Commerce\",\"Automotive|Cars\",\"Analytics|Big Data|Employment|File Sharing|Human Resources|Mobile Social|Recruiting|Social Media\",\"Curated Web\",\"Educational Games|Games|K-12 Education|Kinect|PC Gaming|Skill Gaming|Virtual Worlds\",\"Bridging Online and Offline|Business Analytics|E-Commerce|Fraud Detection|Internet Marketing|Mobile Commerce|Mobile Payments|Payments\",\"Software\",\"Internet|Media|News\",\"E-Commerce Platforms\",\"App Stores|Cloud Computing|Cloud Data Services|Enterprise Software|SaaS|Software|Storage\",\"Curated Web\",\"Health and Wellness\",\"Health Care\",\"Mobile\",\"E-Commerce Platforms|EdTech|Education\",\"Travel\",\"Retail\",\"Hospitality|Online Reservations\",\"E-Commerce|Online Shopping\",\"Apps|Groceries|Online Shopping\",\"Property Management|Real Estate Investors|Service Providers\",\"Software\",\"Mobile\",\"Logistics\",\"Mobile\",\"Health Care\",\"Advertising|Games|Mobile|Mobile Games\",\"Finance|FinTech\",\"Finance|Insurance|Insurance Companies\",\"Air Pollution Control|Android|Apps|Environmental Innovation|iOS|Public Transportation\",\"Beauty|Digital Media|Fashion|Lifestyle\",\"E-Commerce|Postal and Courier Services\",\"Entertainment|Startups|Travel|Travel & Tourism\",\"E-Commerce\",\"Advertising\",\"Real Estate\",\"Apps|Transportation|Travel\",\"Apps\",\"Information Technology\",\"Mobile Payments\",\"E-Commerce|SaaS\",\"Real Estate\",\"E-Commerce|Fashion|Online Shopping\",\"Clean Technology\",\"Information Technology\",\"Curated Web|Reviews and Recommendations\",\"E-Commerce|Fashion\",\"Human Resources|Recruiting\",\"Online Travel|Travel|Travel & Tourism\",\"E-Commerce|Travel & Tourism\",\"Finance|FinTech\",\"Cloud Computing|Cloud Data Services|Domains|Internet|Networking|Services|Web Design|Web Development|Web Hosting\",\"Health and Wellness|Health Care|Mobile|Mobile Health\",\"Education\",\"Food Processing\",\"All Markets\",\"Education|High Schools|SaaS\",\"Publishing\",\"E-Commerce|Fashion\",\"Internet\",\"Logistics\",\"Curated Web|E-Commerce|Lifestyle|Travel\",\"Consumer Internet|E-Commerce|Shopping\",\"Apps\",\"Financial Services|Real Estate\",\"Advertising|Publishing|Technology|Young Adults\",\"Corporate Training|Human Computer Interaction|Training\",\"Environmental Innovation\",\"Consumer Goods|EdTech\",\"Comparison Shopping|E-Commerce|Online Shopping\",\"E-Commerce\",\"Consulting|Social Commerce\",\"Manufacturing\",\"Consumer Electronics|E-Commerce|Mobile|Tablets\",\"Retail Technology\",\"Brokers|Market Research|Real Estate\",\"Beauty|E-Commerce|Spas\",\"Clean Technology\",\"Energy|Industrial|Solar\",\"Water Purification\",\"Art|Entertainment\",\"Human Resources|Marketplaces|Recruiting\",\"Travel\",\"Hospitality\",\"Automotive|Consulting|Entrepreneur|Networking|Startups|Training|Venture Capital\",\"Art|Creative|Design|Social Media\",\"Marketplaces|Online Shopping|Software\",\"Employment|Freelancers\",\"Retail\",\"Auctions|E-Commerce|Marketplaces|Online Shopping|Retail Technology|SaaS|Search|Software\",\"B2B|E-Commerce|Hardware|Retail\",\"Health and Wellness\",\"Social + Mobile + Local|Software\",\"Food Processing\",\"Retail Technology|Software\",\"Advertising|Social Media Advertising\",\"Health Care\",\"Big Data Analytics|Mobile\",\"Travel\",\"Weddings\",\"Android|Enterprise Software|Security\",\"Clean Technology\",\"Automotive|E-Commerce|Hospitality|Retail\",\"EdTech|Education|Employment|Skill Assessment\",\"Private Social Networking|Social Media|Social Network Media\",\"Apps|Internet|Match-Making|Mobile\",\"Leisure|Services|Travel\",\"E-Commerce\",\"Education\",\"Mobile\",\"Travel\",\"Fashion|Gift Card|Home & Garden|Jewelry|Mobile|Online Shopping|Shoes|Sports\",\"Brand Marketing|Online Shopping|Product Design\",\"Social Media Marketing\",\"Food Processing\",\"Internet\",\"Hospitality|Hotels\",\"Content Discovery|Hospitality|Local Search|Restaurants\",\"Mobile\",\"E-Commerce|Online Shopping|Sales and Marketing\",\"Chat|Entertainment|Interest Graph|Messaging\"],\"xaxis\":\"x\",\"y\":[0,4,21,11,7,18,1,1,1,1,1,10,12,0,5,2,0,2,1,0,0,6,0,14,1,1,25,0,1,2,1,0,0,1,2,0,0,1,2,1,1,2,8,15,5,17,0,0,5,12,0,4,2,2,2,0,0,0,2,12,2,1,3,0,0,1,1,0,6,0,4,1,4,0,9,4,1,7,1,6,1,1,1,2,0,0,3,0,1,0,2,0,3,1,26,2,3,2,0,1,2,2,1,2,4,1,4,1,2,5,0,1,1,5,0,1,4,0,4,1,3,3,0,0,1,13,1,3,2,0,2,1,12,2,2,2,0,2,-1,2,2,0,1,1,4,3,2,0,2,0,0,0,1,0,4,1,1,0,1,10,3,1,6,5,15,0,5,5,6,2,6,1,19,0,3,1,0,0,7,2,1,-1,1,3,1,16,1,1,8,0,16,0,8,1,0,2,0,5,1,0,2,1,0,2,0,0,3,0,1,0,3,1,2,0,3,0,3,11,0,1,5,2,2,1,4,2,4,1,1,-7,3,0,78,2,1,1,2,0,0,0,0,0,0,2,3,1,1,0,2,1,2,45,0,1,2,0,1,1,4,0,0,2,1,1,1,1,1,2,2,2,1,0,2,3,0,6,1,2,1,3,11,4,2,1,1,0,2,-1,2,0,1,4,7,1,1,1,2,4,0,1],\"yaxis\":\"y\",\"type\":\"scatter\"}],\"name\":\"New Delhi\"},{\"data\":[{\"hovertemplate\":\"region=Kanpur<br>category_list=%{x}<br>waiting_period_for_funding=%{y}<extra></extra>\",\"legendgroup\":\"Kanpur\",\"marker\":{\"color\":\"#ab63fa\",\"symbol\":\"circle\"},\"mode\":\"markers\",\"name\":\"Kanpur\",\"orientation\":\"v\",\"showlegend\":true,\"x\":[\"Internet\",\"Tracking\"],\"xaxis\":\"x\",\"y\":[0,0],\"yaxis\":\"y\",\"type\":\"scatter\"}],\"name\":\"Kanpur\"},{\"data\":[{\"hovertemplate\":\"region=Udupi<br>category_list=%{x}<br>waiting_period_for_funding=%{y}<extra></extra>\",\"legendgroup\":\"Udupi\",\"marker\":{\"color\":\"#FFA15A\",\"symbol\":\"circle\"},\"mode\":\"markers\",\"name\":\"Udupi\",\"orientation\":\"v\",\"showlegend\":true,\"x\":[\"Games\"],\"xaxis\":\"x\",\"y\":[7],\"yaxis\":\"y\",\"type\":\"scatter\"}],\"name\":\"Udupi\"},{\"data\":[{\"hovertemplate\":\"region=Vadodara<br>category_list=%{x}<br>waiting_period_for_funding=%{y}<extra></extra>\",\"legendgroup\":\"Vadodara\",\"marker\":{\"color\":\"#19d3f3\",\"symbol\":\"circle\"},\"mode\":\"markers\",\"name\":\"Vadodara\",\"orientation\":\"v\",\"showlegend\":true,\"x\":[\"E-Commerce|Social Commerce\",\"Delivery\"],\"xaxis\":\"x\",\"y\":[0,1],\"yaxis\":\"y\",\"type\":\"scatter\"}],\"name\":\"Vadodara\"},{\"data\":[{\"hovertemplate\":\"region=Mumbai<br>category_list=%{x}<br>waiting_period_for_funding=%{y}<extra></extra>\",\"legendgroup\":\"Mumbai\",\"marker\":{\"color\":\"#FF6692\",\"symbol\":\"circle\"},\"mode\":\"markers\",\"name\":\"Mumbai\",\"orientation\":\"v\",\"showlegend\":true,\"x\":[\"Finance\",\"Consulting|Recruiting\",\"Classifieds|Curated Web|Video\",\"Software\",\"Consulting\",\"Digital Media|E-Commerce|Fashion|Fitness|Travel\",\"Enterprise Software\",\"Credit|Finance|Marketplaces\",\"Software\",\"Guides|Travel & Tourism\",\"Education\",\"Information Technology\",\"E-Commerce\",\"E-Commerce\",\"Fashion\",\"Financial Services\",\"Beauty\",\"Apps|Mobile|Transportation\",\"Games\",\"Analytics|Databases|Internet|Technology\",\"E-Commerce\",\"Information Technology\",\"Child Care|Elder Care|Human Resources|Staffing Firms\",\"Public Transportation\",\"Entertainment|Entertainment Industry|Ticketing\",\"Services\",\"Advertising\",\"Curated Web|Local\",\"Automotive|Cars|Motors\",\"E-Commerce\",\"Games\",\"E-Commerce|Mobile Payments|Payments\",\"Entertainment\",\"Travel\",\"Big Data Analytics|Enterprise Software|Information Technology|Services\",\"Insurance\",\"E-Commerce\",\"Games\",\"Art|Design|Product Design\",\"Digital Media|Entertainment|Media|Technology\",\"Customer Service|Customer Support Tools|Mobile Enterprise|Mobile Software Tools|Real Time\",\"Advice|Internet Marketing|Marketing Automation\",\"E-Commerce\",\"Music\",\"E-Commerce|Fantasy Sports|Mobile Games|Online Gaming|Skill Gaming|Sports\",\"E-Commerce|Freelancers|Internet\",\"Advertising\",\"Fashion\",\"Corporate Training|Education\",\"Hardware + Software\",\"Education|Tutoring\",\"Mobile Commerce|Mobile Payments|Mobile Software Tools\",\"Algorithms|Big Data|Education|Marketplaces\",\"Beauty|Cosmetics|E-Commerce|Subscription Businesses\",\"Finance|FinTech\",\"Education|Information Services|Search\",\"Fitness\",\"Internet\",\"Real Estate\",\"Cooking|E-Commerce|Restaurants\",\"Customer Service|E-Commerce|Eyewear\",\"Internet|Payments\",\"Internet\",\"Games\",\"Mobile|New Product Development|Software|Startups|Web Development\",\"Analytics|Big Data|Social Media\",\"Professional Services\",\"E-Commerce|Restaurants\",\"Environmental Innovation\",\"E-Commerce\",\"Travel & Tourism\",\"Internet|Online Reservations|Restaurants\",\"Real Estate\",\"Facebook Applications|Social Media|Social Network Media|Twitter Applications\",\"Mobile\",\"E-Commerce\",\"Consumer Goods|E-Commerce|Emerging Markets|Groceries|Online Shopping|Retail\",\"Biotechnology\",\"Audio|Mobile|Travel & Tourism\",\"Mobile\",\"Consumers\",\"Marketing Automation\",\"Information Technology\",\"Health and Wellness\",\"Analytics|Finance\",\"Consumer Goods|Distribution|Services\",\"Food Processing\",\"Baby Accessories|Consumer Goods|E-Commerce|Kids|Online Shopping|Retail\",\"Real Estate\",\"Recruiting\",\"Games|Music Services\",\"Software\",\"Apps\",\"Photography|Security\",\"Internet\",\"Finance\",\"News\",\"Artificial Intelligence|Content Discovery|Personalization|Reviews and Recommendations|Software\",\"E-Commerce\",\"Internet\",\"Automotive\",\"Software\",\"Farming\",\"Education\",\"Finance|Marketplaces|Payments|Social Commerce\",\"Finance\",\"Artificial Intelligence|Internet|Semantic Search|Social Media Platforms\",\"Gift Card\",\"Real Estate\",\"Industrial|Manufacturing|Textiles\",\"Advertising|Emerging Markets|Mobile|Mobile Video|Video Streaming\",\"Local Search|Search\",\"Cars\",\"Finance\",\"Curated Web\",\"Advertising|Analytics|Media\",\"Social Media\",\"Real Estate\",\"Mobile|Payments\",\"Financial Services\",\"Curated Web\",\"Curated Web\",\"Digital Media|Internet|Internet Marketing\",\"Analytics|Big Data Analytics|Data Visualization|Logistics\",\"Education\",\"Finance|Taxis\",\"Delivery|Health Care|Hospitals\",\"Hospitals\",\"Finance\",\"Biotechnology|Business Analytics|Enterprise Software|Healthcare Services|Information Technology|Marketplaces|Pharmaceuticals|SaaS\",\"Software\",\"Curated Web|Mobile\",\"Fruit\",\"Financial Services\",\"Computers|Design|Internet Service Providers\",\"Banking|Finance|Financial Services|Wealth Management\",\"Real Estate\",\"Diagnostics|Health and Wellness|Health Diagnostics|Online Scheduling\",\"E-Commerce\",\"Health and Wellness\",\"Mobile\",\"Finance\",\"Web Hosting\",\"Fashion\",\"Mobile|Wearables\",\"E-Commerce\",\"Clean Technology|Cloud Management|Information Technology\",\"E-Commerce\",\"SaaS|Security\",\"E-Commerce|Lifestyle\",\"E-Commerce|FinTech\",\"Human Resources\",\"E-Commerce\",\"Advertising|Graphics|Internet\",\"Broadcasting|Media|TV Production|Video\",\"E-Commerce|Fashion|Jewelry|Retail\",\"Real Estate\",\"Education|Video|Video on Demand\",\"E-Commerce\",\"Games\",\"Enterprise Software\",\"Distribution\",\"E-Commerce|Lingerie|Retail\",\"Comparison Shopping|Mobile|Search\",\"Coupons|Shopping\",\"Software\",\"Commercial Real Estate|Information Services|Real Estate\",\"E-Commerce\",\"Finance\",\"Curated Web\",\"Communities|Travel\",\"Apps|Games|Mobile|Software\",\"Development Platforms|Information Services|Information Technology\",\"Internet\",\"Technology\",\"Peer-to-Peer|Travel\",\"Software\",\"Security\",\"Information Security|Security\",\"E-Commerce|Elder Care|Health Care\",\"Mobile|Ride Sharing|Transportation\",\"Education\",\"E-Commerce\",\"Analytics|Cloud Computing|Retail|Reviews and Recommendations|SaaS|Software|Technology\",\"Internet\",\"Mobile\",\"Advertising|Networking\",\"Search Marketing|SEO|Social Media\",\"Fashion\",\"Analytics|Creative|E-Commerce|Internet Marketing|SEO|Tech Field Support\",\"Internet\",\"Finance|Stock Exchanges\",\"Fashion\",\"Advertising|E-Commerce|Software\",\"Information Technology\",\"E-Commerce|Jewelry\",\"Local Based Services|Service Providers\",\"Financial Services\",\"EdTech|Education|K-12 Education\",\"Internet|Logistics|Startups\",\"Curated Web|Home Renovation|Marketplaces|Service Providers\",\"Investment Management\",\"Education\",\"Curated Web\",\"Internet\",\"Automotive\",\"Apps|Curated Web|Mobile|Social Media|Social Media Marketing|Software\",\"Software\",\"Advertising|Content|Curated Web|Distribution|Electronics|Indians|Mobile|Telecommunications|Television|Video\",\"Medical\",\"Finance\",\"E-Commerce\",\"Emerging Markets|Mobile Advertising|Mobile Commerce|South East Asia\",\"Medical\",\"Health and Wellness|Medical|Retail\",\"Education|Games|Virtualization\",\"Curated Web|Ediscovery|Registrars|Social Media\",\"Crowdfunding\",\"Enterprise Software|Logistics|SaaS\",\"Staffing Firms\",\"Delivery\",\"Real Estate|Rental Housing|Services\",\"B2B|Marketplaces|Online Auctions|Textiles\",\"Games\",\"Banking\",\"Networking|Professional Networking|Social Commerce|Social Network Media\",\"Comparison Shopping|E-Commerce|Price Comparison|Product Search|Social Buying|Startups\",\"EdTech|Education|Social Network Media\",\"Education\",\"Creative|E-Commerce|Internet|Logistics|Marketplaces|Online Shopping|Payments\",\"Home Decor|Home Renovation|Online Scheduling|Plumbers\",\"Biotechnology|Health Care|Healthcare Services|Social Entrepreneurship\",\"Information Technology\",\"Software\"],\"xaxis\":\"x\",\"y\":[8,0,0,1,15,2,2,0,6,5,1,2,1,3,9,1,0,3,1,2,5,2,0,0,13,1,0,0,5,1,2,1,2,0,3,2,0,2,1,1,0,0,3,2,4,0,6,1,7,1,2,0,2,1,1,1,2,1,0,0,0,4,1,2,0,6,3,0,5,33,1,2,1,0,0,1,1,2,2,2,0,7,3,4,2,2,1,3,1,0,15,6,1,1,4,7,0,2,0,0,1,13,6,2,0,4,1,1,34,33,2,14,0,2,1,2,-1,16,1,0,2,2,9,1,1,0,0,34,5,0,26,3,5,2,0,9,1,2,2,5,5,4,9,3,1,12,0,1,0,4,0,4,0,1,3,2,4,3,2,1,0,17,2,1,4,6,2,2,1,2,0,-1,7,1,1,2,0,0,0,1,0,2,3,1,0,16,0,2,3,0,1,3,2,0,0,0,1,0,1,1,1,0,0,2,0,0,5,10,0,2,2,0,1,1,7,0,1,3,2,0,0,1,0,6,10,0,0,1,3,3,1,2,0,1],\"yaxis\":\"y\",\"type\":\"scatter\"}],\"name\":\"Mumbai\"},{\"data\":[{\"hovertemplate\":\"region=Chandigarh<br>category_list=%{x}<br>waiting_period_for_funding=%{y}<extra></extra>\",\"legendgroup\":\"Chandigarh\",\"marker\":{\"color\":\"#B6E880\",\"symbol\":\"circle\"},\"mode\":\"markers\",\"name\":\"Chandigarh\",\"orientation\":\"v\",\"showlegend\":true,\"x\":[\"Advertising\",\"Collaboration|Curated Web|Presentations\",\"Apps|Social Business|Software\",\"Entrepreneur|Mobile|Startups\",\"E-Commerce|Online Shopping|Retail|Shopping\"],\"xaxis\":\"x\",\"y\":[0,3,1,0,0],\"yaxis\":\"y\",\"type\":\"scatter\"}],\"name\":\"Chandigarh\"},{\"data\":[{\"hovertemplate\":\"region=Hyderabad<br>category_list=%{x}<br>waiting_period_for_funding=%{y}<extra></extra>\",\"legendgroup\":\"Hyderabad\",\"marker\":{\"color\":\"#FF97FF\",\"symbol\":\"circle\"},\"mode\":\"markers\",\"name\":\"Hyderabad\",\"orientation\":\"v\",\"showlegend\":true,\"x\":[\"Software\",\"Cloud Management|Optimization|SaaS\",\"EdTech|Education\",\"Content|Digital Media|Entertainment|Mobile|Video Streaming\",\"Software\",\"Apps|Internet|Software\",\"Bitcoin|Cryptocurrency|Financial Exchanges|Trading\",\"Market Research\",\"Biotechnology\",\"Software\",\"Banking\",\"Enterprise Software|Internet|Mobile Commerce|Software|User Experience Design|Web Development\",\"Diagnostics|Doctors|Health and Wellness|Health Care\",\"Game\",\"Apps|Doctors|Health and Wellness\",\"Software\",\"Fashion\",\"Games|Networking|Systems\",\"Recycling|Service Providers|Services\",\"Home Decor|Interior Design|Technology\",\"Curated Web|Discounts|Sales and Marketing|Software\",\"Social Media\",\"Coupons|E-Commerce|Shopping|Technology\",\"Business Intelligence|Data Mining|Data Visualization|Software\",\"Software\",\"Mobile\",\"Software\",\"Industrial Automation\",\"Design|Interior Design\",\"Pharmaceuticals\",\"Games\",\"Health and Wellness|Health Diagnostics\",\"Hospitality\",\"Events|Technology|Ticketing\",\"Collaboration|Enterprises|Enterprise Software|Mobile|Mobility\",\"Communities|Crowdfunding|E-Commerce|Finance|Internet|Marketplaces\",\"Software\",\"Education|SaaS\",\"Health and Wellness\",\"Curated Web|Location Based Services|Startups\",\"Clean Technology\",\"Biotechnology\",\"Construction\",\"Hardware|Mobile\",\"Biotechnology\",\"E-Commerce\",\"Clean Technology\",\"Public Transportation\",\"Internet\",\"Beauty|Health and Wellness\",\"Media|News|Photography|Video\",\"Bio-Pharm|Health and Wellness|Health Care|Life Sciences|Manufacturing|Pharmaceuticals\",\"EdTech|Education\",\"Location Based Services|Services|Taxis\",\"Clean Technology\",\"Designers|Fashion|Marketplaces\",\"Apps\",\"Advertising\",\"Health and Wellness|Health Care Information Technology|Healthcare Services\",\"Apps|Mobile|Peer-to-Peer|Ride Sharing|Transportation\",\"Utilities\"],\"xaxis\":\"x\",\"y\":[3,0,1,4,5,1,0,3,3,10,1,0,1,14,1,9,-1,0,5,1,0,2,1,1,1,6,3,5,1,9,3,3,0,0,1,1,3,0,2,1,28,3,16,-1,17,0,12,4,1,2,-4,25,4,1,2,1,0,12,4,0,1],\"yaxis\":\"y\",\"type\":\"scatter\"}],\"name\":\"Hyderabad\"},{\"data\":[{\"hovertemplate\":\"region=Ahmedabad<br>category_list=%{x}<br>waiting_period_for_funding=%{y}<extra></extra>\",\"legendgroup\":\"Ahmedabad\",\"marker\":{\"color\":\"#FECB52\",\"symbol\":\"circle\"},\"mode\":\"markers\",\"name\":\"Ahmedabad\",\"orientation\":\"v\",\"showlegend\":true,\"x\":[\"Advertising|Business Development|Digital Media|Entrepreneur|Local Businesses|Local Services|Social Entrepreneurship|Startups\",\"Internet|Mobile|Services|Telecommunications|Wireless\",\"Curated Web\",\"Consulting|Open Source|Startups|Web Design|Web Development\",\"Hardware + Software\",\"Colleges|Education|Reviews and Recommendations|Technology\",\"Renewable Energies\",\"Cloud Computing|Collaboration|Enterprises|Enterprise Software|File Sharing|Messaging|SaaS|Task Management\",\"Curated Web\",\"Curated Web|Gift Card|Kids|Parenting\",\"Software|Software Compliance\",\"Graphics|Mobile\",\"Pharmaceuticals\",\"Financial Services\",\"Events|Startups|Technology\",\"Mobile\",\"E-Commerce|Hotels|Resorts\",\"E-Commerce\",\"Real Estate\",\"Enterprise Software|Finance|Venture Capital\",\"Networking|Web Hosting\",\"Advertising|Social Media Advertising|Social Media Marketing|Social Media Monitoring\"],\"xaxis\":\"x\",\"y\":[4,5,12,0,4,2,1,0,0,2,5,3,8,1,1,6,-1,0,27,2,0,1],\"yaxis\":\"y\",\"type\":\"scatter\"}],\"name\":\"Ahmedabad\"},{\"data\":[{\"hovertemplate\":\"region=Pune<br>category_list=%{x}<br>waiting_period_for_funding=%{y}<extra></extra>\",\"legendgroup\":\"Pune\",\"marker\":{\"color\":\"#636efa\",\"symbol\":\"circle\"},\"mode\":\"markers\",\"name\":\"Pune\",\"orientation\":\"v\",\"showlegend\":true,\"x\":[\"Health and Wellness|Health Care\",\"Internet\",\"Software\",\"Advertising|Curated Web|Mobile|Virtualization\",\"Service Providers|Tourism|Travel\",\"Energy|Environmental Innovation|Renewable Energies|Solar\",\"Software\",\"Business Services|Service Providers|Taxis|Transportation|Travel|Travel & Tourism\",\"E-Commerce\",\"Hospitality|Location Based Services\",\"Health Care\",\"Farming\",\"Financial Services\",\"Agriculture|Clean Technology|Energy|Social Entrepreneurship\",\"E-Commerce\",\"Food Processing\",\"E-Commerce\",\"Collaboration|Design|File Sharing|Software\",\"Education|Social Network Media\",\"Corporate Training|EdTech|Education|Information Technology|Outsourcing\",\"Financial Services\",\"Apps|Content|Ediscovery|Information Technology|Internet|Mobile|Search|Tablets\",\"E-Commerce\",\"Internet\",\"Medical\",\"Travel\",\"Analytics\",\"Advertising\",\"Infrastructure Builders|Local Search|Price Comparison|Real Estate\",\"E-Commerce|Marketplaces\",\"Android|Big Data|Cloud Computing|iPhone|Mobile|Software|Web Development|Web Tools\",\"E-Commerce|Hospitality|Marketplaces\",\"Health Care|Technology\",\"Fitness|Health and Wellness|Wearables\",\"Consumer Goods\",\"E-Commerce\",\"Apps\",\"Restaurants\",\"Real Estate\",\"Human Resources|Task Management\",\"Comparison Shopping|E-Commerce|Mobile Commerce|Mobile Shopping|Price Comparison\",\"Curated Web\",\"Analytics|Internet Marketing|Sales and Marketing|Search Marketing|Social Media Marketing\",\"Automotive|E-Commerce\",\"E-Commerce|Internet\",\"Broadcasting\",\"Events\",\"Cloud Computing|Collaboration|Data Security|Digital Rights Management|Enterprises|Enterprise Software|File Sharing|Information Security|Mobility|SaaS|Storage|Synchronization\",\"BPO Services|Consulting|IT Management|Software\"],\"xaxis\":\"x\",\"y\":[0,1,1,1,0,1,2,0,2,3,1,4,0,3,1,4,2,1,1,1,1,0,0,2,3,-1,5,3,0,0,3,0,3,1,2,15,0,3,4,2,1,3,2,2,6,5,1,3,14],\"yaxis\":\"y\",\"type\":\"scatter\"}],\"name\":\"Pune\"},{\"data\":[{\"hovertemplate\":\"region=Kolkata<br>category_list=%{x}<br>waiting_period_for_funding=%{y}<extra></extra>\",\"legendgroup\":\"Kolkata\",\"marker\":{\"color\":\"#EF553B\",\"symbol\":\"circle\"},\"mode\":\"markers\",\"name\":\"Kolkata\",\"orientation\":\"v\",\"showlegend\":true,\"x\":[\"Automotive|E-Commerce|Internet|Mobile|Mobile Commerce|Public Transportation|Transportation\",\"Finance\",\"Utilities\",\"Data Security|Hardware|IT and Cybersecurity|Security|Software|Technology\",\"Social Media\",\"E-Commerce\",\"Gift Exchange|Online Shopping|Shopping\",\"Health Care|Social Entrepreneurship|Software\",\"E-Commerce|Internet|Marketplaces\",\"Credit Cards|Payments|Rental Housing\",\"E-Commerce|Marketplaces\",\"Bridging Online and Offline|Crowdsourcing|EdTech|Education|K-12 Education|Language Learning|Marketplaces|Online Education|Online Scheduling|Tutoring\",\"Games|Video|Video Streaming\"],\"xaxis\":\"x\",\"y\":[1,7,135,0,0,2,0,4,0,0,0,0,1],\"yaxis\":\"y\",\"type\":\"scatter\"}],\"name\":\"Kolkata\"},{\"data\":[{\"hovertemplate\":\"region=Bhubaneswar<br>category_list=%{x}<br>waiting_period_for_funding=%{y}<extra></extra>\",\"legendgroup\":\"Bhubaneswar\",\"marker\":{\"color\":\"#00cc96\",\"symbol\":\"circle\"},\"mode\":\"markers\",\"name\":\"Bhubaneswar\",\"orientation\":\"v\",\"showlegend\":true,\"x\":[\"Finance\",\"Big Data|Health Care|Health Care Information Technology|Internet|Mobile\"],\"xaxis\":\"x\",\"y\":[5,1],\"yaxis\":\"y\",\"type\":\"scatter\"}],\"name\":\"Bhubaneswar\"},{\"data\":[{\"hovertemplate\":\"region=Delhi<br>category_list=%{x}<br>waiting_period_for_funding=%{y}<extra></extra>\",\"legendgroup\":\"Delhi\",\"marker\":{\"color\":\"#ab63fa\",\"symbol\":\"circle\"},\"mode\":\"markers\",\"name\":\"Delhi\",\"orientation\":\"v\",\"showlegend\":true,\"x\":[\"Information Technology\",\"Concentrated Solar Power|Electronics|Renewable Energies\",\"Discounts|Internet|Service Providers\",\"Food Processing\",\"Information Technology\",\"Education\",\"Clean Technology\",\"Education\",\"E-Commerce\",\"E-Commerce|Online Shopping\",\"E-Commerce|Health and Wellness|Organic Food|Specialty Foods\",\"E-Commerce\",\"Customer Service|Marketplaces|Taxis|Transportation\",\"Biotechnology\",\"Apps\",\"Education|Marketplaces|Parenting|Service Providers\",\"Internet Marketing\",\"Consumer Goods|Cooking|Internet\",\"E-Commerce\",\"Babies\",\"Events|Local Search\",\"Online Gaming\",\"All Students|Education|Online Education|Training\",\"Marketing Automation\",\"Consumer Goods\",\"Leisure|Local|Marketplaces|Travel & Tourism\",\"Services\",\"Doctors|Health Care|Healthcare Services|Medical\",\"Apps\",\"Internet\",\"Biotechnology|Life Sciences\",\"Art\",\"Career Management|Colleges|Education|Employment|Freelancers|Marketplaces|Testing\",\"Restaurants\"],\"xaxis\":\"x\",\"y\":[1,7,3,0,1,6,2,0,1,0,0,4,1,2,1,1,1,0,1,2,2,8,0,0,0,0,1,1,1,0,0,1,2,0],\"yaxis\":\"y\",\"type\":\"scatter\"}],\"name\":\"Delhi\"},{\"data\":[{\"hovertemplate\":\"region=Bhopal<br>category_list=%{x}<br>waiting_period_for_funding=%{y}<extra></extra>\",\"legendgroup\":\"Bhopal\",\"marker\":{\"color\":\"#FFA15A\",\"symbol\":\"circle\"},\"mode\":\"markers\",\"name\":\"Bhopal\",\"orientation\":\"v\",\"showlegend\":true,\"x\":[\"Online Scheduling|SaaS|Small and Medium Businesses|Social Media\"],\"xaxis\":\"x\",\"y\":[8],\"yaxis\":\"y\",\"type\":\"scatter\"}],\"name\":\"Bhopal\"},{\"data\":[{\"hovertemplate\":\"region=Trivandrum<br>category_list=%{x}<br>waiting_period_for_funding=%{y}<extra></extra>\",\"legendgroup\":\"Trivandrum\",\"marker\":{\"color\":\"#19d3f3\",\"symbol\":\"circle\"},\"mode\":\"markers\",\"name\":\"Trivandrum\",\"orientation\":\"v\",\"showlegend\":true,\"x\":[\"Consulting\",\"Curated Web|Social Media\",\"Software\",\"Android|Big Data|Embedded Hardware and Software|iOS|Software|Web Development\"],\"xaxis\":\"x\",\"y\":[0,1,10,3],\"yaxis\":\"y\",\"type\":\"scatter\"}],\"name\":\"Trivandrum\"},{\"data\":[{\"hovertemplate\":\"region=IND - Other<br>category_list=%{x}<br>waiting_period_for_funding=%{y}<extra></extra>\",\"legendgroup\":\"IND - Other\",\"marker\":{\"color\":\"#FF6692\",\"symbol\":\"circle\"},\"mode\":\"markers\",\"name\":\"IND - Other\",\"orientation\":\"v\",\"showlegend\":true,\"x\":[\"Real Estate\",\"Education\",\"Fashion|Internet|Startups\",\"B2B\",\"Education\",\"Art|Fashion|Interior Design|Social Commerce\",\"Biotechnology\",\"Electronics|Social Media\",\"Food Processing|Marketplaces|Services\",\"Manufacturing\",\"E-Commerce|Groceries|Logistics|Online Shopping\",\"Software\",\"Software|Technology\",\"Software\",\"Curated Web|Media\",\"Information Technology\",\"Education\",\"E-Commerce|Hospitality|Hotels|Travel|Vacation Rentals\",\"Moneymaking\",\"E-Commerce\",\"Consumer Electronics\",\"Construction\",\"Games\",\"Career Management|Education|Professional Services\",\"Delivery\",\"Digital Media|E-Commerce|Web Development\",\"Jewelry\",\"Non Profit\",\"Price Comparison\",\"Travel & Tourism\",\"E-Commerce|Specialty Foods\",\"Internet|Internet Service Providers|Wireless\",\"Software\",\"Financial Exchanges\",\"Energy|Renewable Energies|Utilities\",\"Health Care\"],\"xaxis\":\"x\",\"y\":[7,0,5,1,3,0,2,1,2,18,1,3,24,5,4,0,5,3,1,0,2,128,16,1,0,1,76,43,0,1,0,6,6,1,3,2],\"yaxis\":\"y\",\"type\":\"scatter\"}],\"name\":\"IND - Other\"},{\"data\":[{\"hovertemplate\":\"region=Jaipur<br>category_list=%{x}<br>waiting_period_for_funding=%{y}<extra></extra>\",\"legendgroup\":\"Jaipur\",\"marker\":{\"color\":\"#B6E880\",\"symbol\":\"circle\"},\"mode\":\"markers\",\"name\":\"Jaipur\",\"orientation\":\"v\",\"showlegend\":true,\"x\":[\"E-Commerce\",\"Internet|Media|Portals\",\"Browser Extensions|Education|Facebook Applications|Language Learning\",\"Credit|Indians\",\"Enterprise Software|Mobile Software Tools|Mobility|Web Development\",\"Manufacturing\",\"E-Commerce|Marketplaces\",\"E-Commerce\"],\"xaxis\":\"x\",\"y\":[18,0,1,0,6,20,2,1],\"yaxis\":\"y\",\"type\":\"scatter\"}],\"name\":\"Jaipur\"},{\"data\":[{\"hovertemplate\":\"region=Surat<br>category_list=%{x}<br>waiting_period_for_funding=%{y}<extra></extra>\",\"legendgroup\":\"Surat\",\"marker\":{\"color\":\"#FF97FF\",\"symbol\":\"circle\"},\"mode\":\"markers\",\"name\":\"Surat\",\"orientation\":\"v\",\"showlegend\":true,\"x\":[\"Big Data|Information Technology|Outsourcing|Software\",\"E-Commerce|Mobile Payments|Online Shopping\"],\"xaxis\":\"x\",\"y\":[5,3],\"yaxis\":\"y\",\"type\":\"scatter\"}],\"name\":\"Surat\"},{\"data\":[{\"hovertemplate\":\"region=Guwahati<br>category_list=%{x}<br>waiting_period_for_funding=%{y}<extra></extra>\",\"legendgroup\":\"Guwahati\",\"marker\":{\"color\":\"#FECB52\",\"symbol\":\"circle\"},\"mode\":\"markers\",\"name\":\"Guwahati\",\"orientation\":\"v\",\"showlegend\":true,\"x\":[\"Entertainment|Games|Video Games\"],\"xaxis\":\"x\",\"y\":[1],\"yaxis\":\"y\",\"type\":\"scatter\"}],\"name\":\"Guwahati\"},{\"data\":[{\"hovertemplate\":\"region=Haryana<br>category_list=%{x}<br>waiting_period_for_funding=%{y}<extra></extra>\",\"legendgroup\":\"Haryana\",\"marker\":{\"color\":\"#636efa\",\"symbol\":\"circle\"},\"mode\":\"markers\",\"name\":\"Haryana\",\"orientation\":\"v\",\"showlegend\":true,\"x\":[\"Apps\",\"Financial Services\",\"Education\",\"Fashion|Marketplaces|Mens Specific|Textiles|Women\",\"Advertising\",\"Software\",\"Consumer Goods|Specialty Foods\",\"Digital Media|High Schools|K-12 Education\",\"Education\",\"Analytics|Big Data Analytics|Business Analytics|E-Commerce|Financial Services|Predictive Analytics\",\"Consumer Electronics|E-Commerce\",\"Consumer Electronics|Manufacturing|Water|Water Purification\",\"Biotechnology\",\"Internet\",\"Services\",\"Aerospace|Services|Transportation|Travel\",\"Consulting\",\"Messaging\",\"Energy\"],\"xaxis\":\"x\",\"y\":[1,2,3,0,1,2,4,0,2,5,2,2,20,3,6,3,8,8,2],\"yaxis\":\"y\",\"type\":\"scatter\"}],\"name\":\"Haryana\"},{\"data\":[{\"hovertemplate\":\"region=Goa<br>category_list=%{x}<br>waiting_period_for_funding=%{y}<extra></extra>\",\"legendgroup\":\"Goa\",\"marker\":{\"color\":\"#EF553B\",\"symbol\":\"circle\"},\"mode\":\"markers\",\"name\":\"Goa\",\"orientation\":\"v\",\"showlegend\":true,\"x\":[\"E-Commerce\",\"E-Commerce|Hardware + Software|Internet|SaaS\"],\"xaxis\":\"x\",\"y\":[1,2],\"yaxis\":\"y\",\"type\":\"scatter\"}],\"name\":\"Goa\"},{\"data\":[{\"hovertemplate\":\"region=Mangalore<br>category_list=%{x}<br>waiting_period_for_funding=%{y}<extra></extra>\",\"legendgroup\":\"Mangalore\",\"marker\":{\"color\":\"#00cc96\",\"symbol\":\"circle\"},\"mode\":\"markers\",\"name\":\"Mangalore\",\"orientation\":\"v\",\"showlegend\":true,\"x\":[\"Education|Games|MMO Games|Mobile Games|Virtual Worlds\"],\"xaxis\":\"x\",\"y\":[1],\"yaxis\":\"y\",\"type\":\"scatter\"}],\"name\":\"Mangalore\"},{\"data\":[{\"hovertemplate\":\"region=Cochin<br>category_list=%{x}<br>waiting_period_for_funding=%{y}<extra></extra>\",\"legendgroup\":\"Cochin\",\"marker\":{\"color\":\"#ab63fa\",\"symbol\":\"circle\"},\"mode\":\"markers\",\"name\":\"Cochin\",\"orientation\":\"v\",\"showlegend\":true,\"x\":[\"Internet|Sales and Marketing|Software|Telecommunications\",\"Apps|Banking|Mobile Payments\",\"Android|Software\",\"Content|Internet|Mobile|Mobile Software Tools|SMS\",\"Software\",\"Enterprise Software|Product Development Services|Travel|Vacation Rentals\",\"Hardware + Software|SaaS|Wearables\",\"E-Commerce|E-Commerce Platforms|Group Buying|Social Buying|Social Commerce|Social Media\"],\"xaxis\":\"x\",\"y\":[0,1,1,0,15,0,0,0],\"yaxis\":\"y\",\"type\":\"scatter\"}],\"name\":\"Cochin\"},{\"data\":[{\"hovertemplate\":\"region=Ghaziabad<br>category_list=%{x}<br>waiting_period_for_funding=%{y}<extra></extra>\",\"legendgroup\":\"Ghaziabad\",\"marker\":{\"color\":\"#FFA15A\",\"symbol\":\"circle\"},\"mode\":\"markers\",\"name\":\"Ghaziabad\",\"orientation\":\"v\",\"showlegend\":true,\"x\":[\"Information Technology|Software\",\"Travel\",\"Travel\"],\"xaxis\":\"x\",\"y\":[0,1,0],\"yaxis\":\"y\",\"type\":\"scatter\"}],\"name\":\"Ghaziabad\"},{\"data\":[{\"hovertemplate\":\"region=Indore<br>category_list=%{x}<br>waiting_period_for_funding=%{y}<extra></extra>\",\"legendgroup\":\"Indore\",\"marker\":{\"color\":\"#19d3f3\",\"symbol\":\"circle\"},\"mode\":\"markers\",\"name\":\"Indore\",\"orientation\":\"v\",\"showlegend\":true,\"x\":[\"Collaboration|Enterprises|Enterprise Software\",\"Real Estate\",\"Android|Blogging Platforms|E-Commerce|iPhone|Mobile|Software|Web Design\",\"Biotechnology\",\"Transportation\"],\"xaxis\":\"x\",\"y\":[3,4,0,11,2],\"yaxis\":\"y\",\"type\":\"scatter\"}],\"name\":\"Indore\"},{\"data\":[{\"hovertemplate\":\"region=Faridabad<br>category_list=%{x}<br>waiting_period_for_funding=%{y}<extra></extra>\",\"legendgroup\":\"Faridabad\",\"marker\":{\"color\":\"#FF6692\",\"symbol\":\"circle\"},\"mode\":\"markers\",\"name\":\"Faridabad\",\"orientation\":\"v\",\"showlegend\":true,\"x\":[\"Cloud Computing|Web Hosting\"],\"xaxis\":\"x\",\"y\":[1],\"yaxis\":\"y\",\"type\":\"scatter\"}],\"name\":\"Faridabad\"},{\"data\":[{\"hovertemplate\":\"region=Vijayawada<br>category_list=%{x}<br>waiting_period_for_funding=%{y}<extra></extra>\",\"legendgroup\":\"Vijayawada\",\"marker\":{\"color\":\"#B6E880\",\"symbol\":\"circle\"},\"mode\":\"markers\",\"name\":\"Vijayawada\",\"orientation\":\"v\",\"showlegend\":true,\"x\":[\"Manufacturing\"],\"xaxis\":\"x\",\"y\":[1],\"yaxis\":\"y\",\"type\":\"scatter\"}],\"name\":\"Vijayawada\"},{\"data\":[{\"hovertemplate\":\"region=Nasik<br>category_list=%{x}<br>waiting_period_for_funding=%{y}<extra></extra>\",\"legendgroup\":\"Nasik\",\"marker\":{\"color\":\"#FF97FF\",\"symbol\":\"circle\"},\"mode\":\"markers\",\"name\":\"Nasik\",\"orientation\":\"v\",\"showlegend\":true,\"x\":[\"Networking|Web Hosting\",\"Social Media Marketing\"],\"xaxis\":\"x\",\"y\":[10,0],\"yaxis\":\"y\",\"type\":\"scatter\"}],\"name\":\"Nasik\"},{\"data\":[{\"hovertemplate\":\"region=Mysore<br>category_list=%{x}<br>waiting_period_for_funding=%{y}<extra></extra>\",\"legendgroup\":\"Mysore\",\"marker\":{\"color\":\"#FECB52\",\"symbol\":\"circle\"},\"mode\":\"markers\",\"name\":\"Mysore\",\"orientation\":\"v\",\"showlegend\":true,\"x\":[\"EdTech|Education\",\"Manufacturing\"],\"xaxis\":\"x\",\"y\":[9,6],\"yaxis\":\"y\",\"type\":\"scatter\"}],\"name\":\"Mysore\"},{\"data\":[{\"hovertemplate\":\"region=Vellore<br>category_list=%{x}<br>waiting_period_for_funding=%{y}<extra></extra>\",\"legendgroup\":\"Vellore\",\"marker\":{\"color\":\"#636efa\",\"symbol\":\"circle\"},\"mode\":\"markers\",\"name\":\"Vellore\",\"orientation\":\"v\",\"showlegend\":true,\"x\":[\"Network Security|Security\",\"Mobile\",\"Software\"],\"xaxis\":\"x\",\"y\":[2,0,0],\"yaxis\":\"y\",\"type\":\"scatter\"}],\"name\":\"Vellore\"},{\"data\":[{\"hovertemplate\":\"region=Kochi<br>category_list=%{x}<br>waiting_period_for_funding=%{y}<extra></extra>\",\"legendgroup\":\"Kochi\",\"marker\":{\"color\":\"#EF553B\",\"symbol\":\"circle\"},\"mode\":\"markers\",\"name\":\"Kochi\",\"orientation\":\"v\",\"showlegend\":true,\"x\":[\"Consumer Electronics|Hardware + Software|Internet of Things|Sports\",\"Hospitality\",\"Enterprise Hardware|Enterprise Software\",\"Social Media|Software\",\"Software\"],\"xaxis\":\"x\",\"y\":[1,0,0,1,1],\"yaxis\":\"y\",\"type\":\"scatter\"}],\"name\":\"Kochi\"},{\"data\":[{\"hovertemplate\":\"region=Jodhpur<br>category_list=%{x}<br>waiting_period_for_funding=%{y}<extra></extra>\",\"legendgroup\":\"Jodhpur\",\"marker\":{\"color\":\"#00cc96\",\"symbol\":\"circle\"},\"mode\":\"markers\",\"name\":\"Jodhpur\",\"orientation\":\"v\",\"showlegend\":true,\"x\":[\"Education|Human Resources|Recruiting|Training\",\"Artificial Intelligence|News|Personalization\"],\"xaxis\":\"x\",\"y\":[0,0],\"yaxis\":\"y\",\"type\":\"scatter\"}],\"name\":\"Jodhpur\"},{\"data\":[{\"hovertemplate\":\"region=Secunderabad<br>category_list=%{x}<br>waiting_period_for_funding=%{y}<extra></extra>\",\"legendgroup\":\"Secunderabad\",\"marker\":{\"color\":\"#ab63fa\",\"symbol\":\"circle\"},\"mode\":\"markers\",\"name\":\"Secunderabad\",\"orientation\":\"v\",\"showlegend\":true,\"x\":[\"Clean Technology\",\"Education|Search\",\"E-Commerce|Mobile Payments\",\"Education\"],\"xaxis\":\"x\",\"y\":[10,1,3,5],\"yaxis\":\"y\",\"type\":\"scatter\"}],\"name\":\"Secunderabad\"},{\"data\":[{\"hovertemplate\":\"region=Nagpur<br>category_list=%{x}<br>waiting_period_for_funding=%{y}<extra></extra>\",\"legendgroup\":\"Nagpur\",\"marker\":{\"color\":\"#FFA15A\",\"symbol\":\"circle\"},\"mode\":\"markers\",\"name\":\"Nagpur\",\"orientation\":\"v\",\"showlegend\":true,\"x\":[\"Consumer Goods|Delivery|Groceries|Logistics|Marketplaces|Online Shopping|Retail Technology|Startups\",\"Health Care\",\"Curated Web|Mobile|Networking|Search\",\"Domains|Web Design|Web Development\",\"Hotels|Online Travel|Social Media|Social Travel|Travel|Travel & Tourism\"],\"xaxis\":\"x\",\"y\":[1,4,-1,2,1],\"yaxis\":\"y\",\"type\":\"scatter\"}],\"name\":\"Nagpur\"},{\"data\":[{\"hovertemplate\":\"region=Madhapur<br>category_list=%{x}<br>waiting_period_for_funding=%{y}<extra></extra>\",\"legendgroup\":\"Madhapur\",\"marker\":{\"color\":\"#19d3f3\",\"symbol\":\"circle\"},\"mode\":\"markers\",\"name\":\"Madhapur\",\"orientation\":\"v\",\"showlegend\":true,\"x\":[\"E-Commerce\",\"Kids|Mothers|Parenting\"],\"xaxis\":\"x\",\"y\":[7,-7],\"yaxis\":\"y\",\"type\":\"scatter\"}],\"name\":\"Madhapur\"},{\"data\":[{\"hovertemplate\":\"region=Mohali<br>category_list=%{x}<br>waiting_period_for_funding=%{y}<extra></extra>\",\"legendgroup\":\"Mohali\",\"marker\":{\"color\":\"#FF6692\",\"symbol\":\"circle\"},\"mode\":\"markers\",\"name\":\"Mohali\",\"orientation\":\"v\",\"showlegend\":true,\"x\":[\"Health and Wellness\",\"Media|News\"],\"xaxis\":\"x\",\"y\":[6,1],\"yaxis\":\"y\",\"type\":\"scatter\"}],\"name\":\"Mohali\"},{\"data\":[{\"hovertemplate\":\"region=Hubli<br>category_list=%{x}<br>waiting_period_for_funding=%{y}<extra></extra>\",\"legendgroup\":\"Hubli\",\"marker\":{\"color\":\"#B6E880\",\"symbol\":\"circle\"},\"mode\":\"markers\",\"name\":\"Hubli\",\"orientation\":\"v\",\"showlegend\":true,\"x\":[\"Apps\"],\"xaxis\":\"x\",\"y\":[1],\"yaxis\":\"y\",\"type\":\"scatter\"}],\"name\":\"Hubli\"},{\"data\":[{\"hovertemplate\":\"region=Thiruvananthapuram<br>category_list=%{x}<br>waiting_period_for_funding=%{y}<extra></extra>\",\"legendgroup\":\"Thiruvananthapuram\",\"marker\":{\"color\":\"#FF97FF\",\"symbol\":\"circle\"},\"mode\":\"markers\",\"name\":\"Thiruvananthapuram\",\"orientation\":\"v\",\"showlegend\":true,\"x\":[\"Hospitality\"],\"xaxis\":\"x\",\"y\":[3],\"yaxis\":\"y\",\"type\":\"scatter\"}],\"name\":\"Thiruvananthapuram\"},{\"data\":[{\"hovertemplate\":\"region=Thane<br>category_list=%{x}<br>waiting_period_for_funding=%{y}<extra></extra>\",\"legendgroup\":\"Thane\",\"marker\":{\"color\":\"#FECB52\",\"symbol\":\"circle\"},\"mode\":\"markers\",\"name\":\"Thane\",\"orientation\":\"v\",\"showlegend\":true,\"x\":[\"Software\",\"Art\",\"Fashion\"],\"xaxis\":\"x\",\"y\":[1,1,0],\"yaxis\":\"y\",\"type\":\"scatter\"}],\"name\":\"Thane\"},{\"data\":[{\"hovertemplate\":\"region=Ernakulam<br>category_list=%{x}<br>waiting_period_for_funding=%{y}<extra></extra>\",\"legendgroup\":\"Ernakulam\",\"marker\":{\"color\":\"#636efa\",\"symbol\":\"circle\"},\"mode\":\"markers\",\"name\":\"Ernakulam\",\"orientation\":\"v\",\"showlegend\":true,\"x\":[\"Consumer Electronics|Embedded Hardware and Software|Hardware + Software|Smart Building\"],\"xaxis\":\"x\",\"y\":[3],\"yaxis\":\"y\",\"type\":\"scatter\"}],\"name\":\"Ernakulam\"},{\"data\":[{\"hovertemplate\":\"region=Thrissur<br>category_list=%{x}<br>waiting_period_for_funding=%{y}<extra></extra>\",\"legendgroup\":\"Thrissur\",\"marker\":{\"color\":\"#EF553B\",\"symbol\":\"circle\"},\"mode\":\"markers\",\"name\":\"Thrissur\",\"orientation\":\"v\",\"showlegend\":true,\"x\":[\"Electronics|Manufacturing|Technology\"],\"xaxis\":\"x\",\"y\":[0],\"yaxis\":\"y\",\"type\":\"scatter\"}],\"name\":\"Thrissur\"},{\"data\":[{\"hovertemplate\":\"region=Jabalpur<br>category_list=%{x}<br>waiting_period_for_funding=%{y}<extra></extra>\",\"legendgroup\":\"Jabalpur\",\"marker\":{\"color\":\"#00cc96\",\"symbol\":\"circle\"},\"mode\":\"markers\",\"name\":\"Jabalpur\",\"orientation\":\"v\",\"showlegend\":true,\"x\":[\"Blogging Platforms|Databases|Outsourcing|Software|Web Design|Web Tools\"],\"xaxis\":\"x\",\"y\":[1],\"yaxis\":\"y\",\"type\":\"scatter\"}],\"name\":\"Jabalpur\"},{\"data\":[{\"hovertemplate\":\"region=Madurai<br>category_list=%{x}<br>waiting_period_for_funding=%{y}<extra></extra>\",\"legendgroup\":\"Madurai\",\"marker\":{\"color\":\"#ab63fa\",\"symbol\":\"circle\"},\"mode\":\"markers\",\"name\":\"Madurai\",\"orientation\":\"v\",\"showlegend\":true,\"x\":[\"Internet Marketing|Software|Web Design\"],\"xaxis\":\"x\",\"y\":[1],\"yaxis\":\"y\",\"type\":\"scatter\"}],\"name\":\"Madurai\"},{\"data\":[{\"hovertemplate\":\"region=Ludhiana<br>category_list=%{x}<br>waiting_period_for_funding=%{y}<extra></extra>\",\"legendgroup\":\"Ludhiana\",\"marker\":{\"color\":\"#FFA15A\",\"symbol\":\"circle\"},\"mode\":\"markers\",\"name\":\"Ludhiana\",\"orientation\":\"v\",\"showlegend\":true,\"x\":[\"Fashion\"],\"xaxis\":\"x\",\"y\":[40],\"yaxis\":\"y\",\"type\":\"scatter\"}],\"name\":\"Ludhiana\"},{\"data\":[{\"hovertemplate\":\"region=Belgaum<br>category_list=%{x}<br>waiting_period_for_funding=%{y}<extra></extra>\",\"legendgroup\":\"Belgaum\",\"marker\":{\"color\":\"#19d3f3\",\"symbol\":\"circle\"},\"mode\":\"markers\",\"name\":\"Belgaum\",\"orientation\":\"v\",\"showlegend\":true,\"x\":[\"Software\"],\"xaxis\":\"x\",\"y\":[0],\"yaxis\":\"y\",\"type\":\"scatter\"}],\"name\":\"Belgaum\"}]);\n",
              "                        }).then(function(){\n",
              "                            \n",
              "var gd = document.getElementById('9cf50881-434d-4011-a2e9-a7d300a31af7');\n",
              "var x = new MutationObserver(function (mutations, observer) {{\n",
              "        var display = window.getComputedStyle(gd).display;\n",
              "        if (!display || display === 'none') {{\n",
              "            console.log([gd, 'removed!']);\n",
              "            Plotly.purge(gd);\n",
              "            observer.disconnect();\n",
              "        }}\n",
              "}});\n",
              "\n",
              "// Listen for the removal of the full notebook cells\n",
              "var notebookContainer = gd.closest('#notebook-container');\n",
              "if (notebookContainer) {{\n",
              "    x.observe(notebookContainer, {childList: true});\n",
              "}}\n",
              "\n",
              "// Listen for the clearing of the current output cell\n",
              "var outputEl = gd.closest('.output');\n",
              "if (outputEl) {{\n",
              "    x.observe(outputEl, {childList: true});\n",
              "}}\n",
              "\n",
              "                        })                };                            </script>        </div>\n",
              "</body>\n",
              "</html>"
            ]
          },
          "metadata": {}
        }
      ]
    }
  ]
}